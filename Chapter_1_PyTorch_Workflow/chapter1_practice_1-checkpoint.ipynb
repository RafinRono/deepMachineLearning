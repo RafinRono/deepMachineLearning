{
 "cells": [
  {
   "cell_type": "code",
   "id": "initial_id",
   "metadata": {
    "collapsed": true,
    "jupyter": {
     "is_executing": true
    },
    "ExecuteTime": {
     "start_time": "2024-06-05T13:58:33.792130Z"
    }
   },
   "source": [
    "import torch, intel_extension_for_pytorch as ipex\n",
    "from torch import nn\n",
    "import matplotlib.pyplot as plt"
   ],
   "outputs": [],
   "execution_count": null
  },
  {
   "metadata": {
    "jupyter": {
     "is_executing": true
    }
   },
   "cell_type": "code",
   "source": [
    "weight = 0.9 # 'b' from linear regression formula\n",
    "bias = 0.01 # 'a' term in the formula\n",
    "\n",
    "# create data\n",
    "start, end, step = -1, 1, 0.02\n",
    "X = torch.arange(start, end, step).unsqueeze(dim=1)\n",
    "#X = torch.rand(50, 1)\n",
    "y = weight * X * X + bias\n",
    "\n",
    "X[:10], y[:10]"
   ],
   "id": "ba128c535bf8e658",
   "outputs": [],
   "execution_count": null
  },
  {
   "metadata": {
    "jupyter": {
     "is_executing": true
    }
   },
   "cell_type": "code",
   "source": [
    "trainSplit = int(0.8 * len(X))\n",
    "trainSplit"
   ],
   "id": "7e1af7ca8dd76591",
   "outputs": [],
   "execution_count": null
  },
  {
   "metadata": {
    "jupyter": {
     "is_executing": true
    }
   },
   "cell_type": "code",
   "source": [
    "X_train, y_train = X[:trainSplit], y[:trainSplit]\n",
    "X_test, y_test = X[trainSplit:], y[trainSplit:]\n",
    "\n",
    "len(X_train), len(y_train), len(X_test), len(y_test)"
   ],
   "id": "4d35b69bdc0ab59f",
   "outputs": [],
   "execution_count": null
  },
  {
   "metadata": {
    "jupyter": {
     "is_executing": true
    }
   },
   "cell_type": "code",
   "source": [
    "def plot_predictions(train_data = X_train, train_labels = y_train, test_data = X_test, test_labels = y_test, predictions = None):\n",
    "    \"\"\"\n",
    "    Plots training data, test data and compares predictions\n",
    "    \"\"\"\n",
    "    plt.figure(figsize=(10, 7))\n",
    "    \n",
    "    # plot training data in blue\n",
    "    plt.scatter(train_data, train_labels, c=\"r\", s=4, label = \"Training data\")\n",
    "    \n",
    "    # plot test data in green\n",
    "    plt.scatter(test_data, test_labels, c=\"g\", s=4, label = \"Test data\")\n",
    "    \n",
    "    #check if there are predictions\n",
    "    if predictions is not None:\n",
    "        # plot predictions if they exist\n",
    "        plt.scatter(test_data, predictions, c=\"g\", s=4, label=\"Predictions\")\n",
    "        \n",
    "    plt.legend(prop={\"size\": 14})"
   ],
   "id": "6312b90f70babde2",
   "outputs": [],
   "execution_count": null
  },
  {
   "metadata": {
    "jupyter": {
     "is_executing": true
    }
   },
   "cell_type": "code",
   "source": "plot_predictions()",
   "id": "6ea82e2c6134aa42",
   "outputs": [],
   "execution_count": null
  },
  {
   "metadata": {
    "jupyter": {
     "is_executing": true
    }
   },
   "cell_type": "code",
   "source": "",
   "id": "7a69c77c479affc7",
   "outputs": [],
   "execution_count": null
  }
 ],
 "metadata": {
  "kernelspec": {
   "display_name": "Python 3",
   "language": "python",
   "name": "python3"
  },
  "language_info": {
   "codemirror_mode": {
    "name": "ipython",
    "version": 2
   },
   "file_extension": ".py",
   "mimetype": "text/x-python",
   "name": "python",
   "nbconvert_exporter": "python",
   "pygments_lexer": "ipython2",
   "version": "2.7.6"
  }
 },
 "nbformat": 4,
 "nbformat_minor": 5
}

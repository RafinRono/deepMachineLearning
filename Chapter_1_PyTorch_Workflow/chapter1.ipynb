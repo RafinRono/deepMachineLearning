{
 "cells": [
  {
   "metadata": {},
   "cell_type": "markdown",
   "source": "### PyTorch Workflow - https://www.learnpytorch.io/01_pytorch_workflow/",
   "id": "df36f9881effa4d7"
  },
  {
   "metadata": {
    "ExecuteTime": {
     "end_time": "2024-06-07T14:32:09.111935Z",
     "start_time": "2024-06-07T14:32:09.089935Z"
    }
   },
   "cell_type": "code",
   "source": [
    "whatWereCovering = {1: \"data (prepare & load)\", \n",
    "                    2: \"build model\", \n",
    "                    3: \"fitting the model to data (train model)\", \n",
    "                    4: \"predicting data and evaluating the model (inference)\", \n",
    "                    5: \"save & load a model\", \n",
    "                    6: \"putt everything together\"}\n",
    "\n",
    "whatWereCovering"
   ],
   "id": "f7e967a785380a91",
   "outputs": [
    {
     "data": {
      "text/plain": [
       "{1: 'data (prepare & load)',\n",
       " 2: 'build model',\n",
       " 3: 'fitting the model to data (train model)',\n",
       " 4: 'predicting data and evaluating the model (inference)',\n",
       " 5: 'save & load a model',\n",
       " 6: 'putt everything together'}"
      ]
     },
     "execution_count": 1,
     "metadata": {},
     "output_type": "execute_result"
    }
   ],
   "execution_count": 1
  },
  {
   "metadata": {
    "ExecuteTime": {
     "end_time": "2024-06-07T14:32:38.479847Z",
     "start_time": "2024-06-07T14:32:09.112935Z"
    }
   },
   "cell_type": "code",
   "source": [
    "import torch, intel_extension_for_pytorch as ipex\n",
    "from torch import nn # nn contains all of pytorch's building blocks for NNs\n",
    "import matplotlib.pyplot as plt \n",
    "\n",
    "torch.__version__"
   ],
   "id": "7d3bd3d4a0ff9299",
   "outputs": [
    {
     "name": "stderr",
     "output_type": "stream",
     "text": [
      "J:\\Coding\\Codes\\python\\deepLearning\\.venv\\lib\\site-packages\\torchvision\\io\\image.py:13: UserWarning: Failed to load image Python extension: ''If you don't plan on using image functionality from `torchvision.io`, you can ignore this warning. Otherwise, there might be something wrong with your environment. Did you have `libjpeg` or `libpng` installed before building `torchvision` from source?\n",
      "  warn(\n"
     ]
    },
    {
     "data": {
      "text/plain": [
       "'2.1.0a0+cxx11.abi'"
      ]
     },
     "execution_count": 2,
     "metadata": {},
     "output_type": "execute_result"
    }
   ],
   "execution_count": 2
  },
  {
   "metadata": {},
   "cell_type": "markdown",
   "source": [
    "### 1. Data (preparing & loading)\n",
    "Data can be almost anything in ML\n",
    "* Excel spreadsheet\n",
    "* Images of any kind\n",
    "* Videos (Youtube)\n",
    "* Audios\n",
    "* DNA\n",
    "* Texts\n",
    "\n",
    "ML has 2 parts:\n",
    "1. Get data into a numerical representation\n",
    "2. Build a model to learn patterns in that numerical representation "
   ],
   "id": "e34b9155de2ed817"
  },
  {
   "metadata": {},
   "cell_type": "markdown",
   "source": [
    "##### Create some *known* data using the linear regression formula -> Y = a + bX\n",
    "##### we can make a straight line with this formula using known **parameters** - parameters are something the model learns"
   ],
   "id": "57054945d631ade4"
  },
  {
   "metadata": {
    "ExecuteTime": {
     "end_time": "2024-06-07T14:32:39.757205Z",
     "start_time": "2024-06-07T14:32:38.480847Z"
    }
   },
   "cell_type": "code",
   "source": [
    "# creation of known parameters\n",
    "weight = 0.7 # 'b' from linear regression formula\n",
    "bias = 0.3 # 'a' term in the formula\n",
    "\n",
    "# create\n",
    "start = 0\n",
    "end = 1\n",
    "step = 0.02\n",
    "X = torch.arange(start, end, step).unsqueeze(dim=1)\n",
    "y = weight * X + bias\n",
    "\n",
    "X[:10], y[:10]"
   ],
   "id": "961358992d5a2bb6",
   "outputs": [
    {
     "data": {
      "text/plain": [
       "(tensor([[0.0000],\n",
       "         [0.0200],\n",
       "         [0.0400],\n",
       "         [0.0600],\n",
       "         [0.0800],\n",
       "         [0.1000],\n",
       "         [0.1200],\n",
       "         [0.1400],\n",
       "         [0.1600],\n",
       "         [0.1800]]),\n",
       " tensor([[0.3000],\n",
       "         [0.3140],\n",
       "         [0.3280],\n",
       "         [0.3420],\n",
       "         [0.3560],\n",
       "         [0.3700],\n",
       "         [0.3840],\n",
       "         [0.3980],\n",
       "         [0.4120],\n",
       "         [0.4260]]))"
      ]
     },
     "execution_count": 3,
     "metadata": {},
     "output_type": "execute_result"
    }
   ],
   "execution_count": 3
  },
  {
   "metadata": {
    "ExecuteTime": {
     "end_time": "2024-06-07T14:32:39.773205Z",
     "start_time": "2024-06-07T14:32:39.758206Z"
    }
   },
   "cell_type": "code",
   "source": "len(X), len(y)",
   "id": "98a6a2eefd63968",
   "outputs": [
    {
     "data": {
      "text/plain": [
       "(50, 50)"
      ]
     },
     "execution_count": 4,
     "metadata": {},
     "output_type": "execute_result"
    }
   ],
   "execution_count": 4
  },
  {
   "metadata": {},
   "cell_type": "markdown",
   "source": [
    "### Splitting data into training and test sets (one of the most important concepts in ML in general)\n",
    "Creating a training & test set with data"
   ],
   "id": "705760941fa706fa"
  },
  {
   "metadata": {
    "ExecuteTime": {
     "end_time": "2024-06-07T14:32:39.789208Z",
     "start_time": "2024-06-07T14:32:39.775205Z"
    }
   },
   "cell_type": "code",
   "source": [
    "# create a tran/test split\n",
    "trainSplit = int(0.8 * len(X))\n",
    "trainSplit"
   ],
   "id": "c680d735e966d2c6",
   "outputs": [
    {
     "data": {
      "text/plain": [
       "40"
      ]
     },
     "execution_count": 5,
     "metadata": {},
     "output_type": "execute_result"
    }
   ],
   "execution_count": 5
  },
  {
   "metadata": {
    "ExecuteTime": {
     "end_time": "2024-06-07T14:32:39.805206Z",
     "start_time": "2024-06-07T14:32:39.790208Z"
    }
   },
   "cell_type": "code",
   "source": [
    "X_train, y_train = X[:trainSplit], y[:trainSplit]\n",
    "X_test, y_test = X[trainSplit:], y[trainSplit:]\n",
    "\n",
    "len(X_train), len(y_train), len(X_test), len(y_test)"
   ],
   "id": "aa8fe89bbf60d09f",
   "outputs": [
    {
     "data": {
      "text/plain": [
       "(40, 40, 10, 10)"
      ]
     },
     "execution_count": 6,
     "metadata": {},
     "output_type": "execute_result"
    }
   ],
   "execution_count": 6
  },
  {
   "metadata": {
    "ExecuteTime": {
     "end_time": "2024-06-07T14:32:39.821208Z",
     "start_time": "2024-06-07T14:32:39.806206Z"
    }
   },
   "cell_type": "code",
   "source": "X_train, y_train",
   "id": "83b70a9f9b4a2140",
   "outputs": [
    {
     "data": {
      "text/plain": [
       "(tensor([[0.0000],\n",
       "         [0.0200],\n",
       "         [0.0400],\n",
       "         [0.0600],\n",
       "         [0.0800],\n",
       "         [0.1000],\n",
       "         [0.1200],\n",
       "         [0.1400],\n",
       "         [0.1600],\n",
       "         [0.1800],\n",
       "         [0.2000],\n",
       "         [0.2200],\n",
       "         [0.2400],\n",
       "         [0.2600],\n",
       "         [0.2800],\n",
       "         [0.3000],\n",
       "         [0.3200],\n",
       "         [0.3400],\n",
       "         [0.3600],\n",
       "         [0.3800],\n",
       "         [0.4000],\n",
       "         [0.4200],\n",
       "         [0.4400],\n",
       "         [0.4600],\n",
       "         [0.4800],\n",
       "         [0.5000],\n",
       "         [0.5200],\n",
       "         [0.5400],\n",
       "         [0.5600],\n",
       "         [0.5800],\n",
       "         [0.6000],\n",
       "         [0.6200],\n",
       "         [0.6400],\n",
       "         [0.6600],\n",
       "         [0.6800],\n",
       "         [0.7000],\n",
       "         [0.7200],\n",
       "         [0.7400],\n",
       "         [0.7600],\n",
       "         [0.7800]]),\n",
       " tensor([[0.3000],\n",
       "         [0.3140],\n",
       "         [0.3280],\n",
       "         [0.3420],\n",
       "         [0.3560],\n",
       "         [0.3700],\n",
       "         [0.3840],\n",
       "         [0.3980],\n",
       "         [0.4120],\n",
       "         [0.4260],\n",
       "         [0.4400],\n",
       "         [0.4540],\n",
       "         [0.4680],\n",
       "         [0.4820],\n",
       "         [0.4960],\n",
       "         [0.5100],\n",
       "         [0.5240],\n",
       "         [0.5380],\n",
       "         [0.5520],\n",
       "         [0.5660],\n",
       "         [0.5800],\n",
       "         [0.5940],\n",
       "         [0.6080],\n",
       "         [0.6220],\n",
       "         [0.6360],\n",
       "         [0.6500],\n",
       "         [0.6640],\n",
       "         [0.6780],\n",
       "         [0.6920],\n",
       "         [0.7060],\n",
       "         [0.7200],\n",
       "         [0.7340],\n",
       "         [0.7480],\n",
       "         [0.7620],\n",
       "         [0.7760],\n",
       "         [0.7900],\n",
       "         [0.8040],\n",
       "         [0.8180],\n",
       "         [0.8320],\n",
       "         [0.8460]]))"
      ]
     },
     "execution_count": 7,
     "metadata": {},
     "output_type": "execute_result"
    }
   ],
   "execution_count": 7
  },
  {
   "metadata": {},
   "cell_type": "markdown",
   "source": [
    "##### How to better visualize data?\n",
    "a motto: \"Visualize, visualize, visualize!!\""
   ],
   "id": "1454fb1915af774d"
  },
  {
   "metadata": {
    "ExecuteTime": {
     "end_time": "2024-06-07T14:32:39.837205Z",
     "start_time": "2024-06-07T14:32:39.822208Z"
    }
   },
   "cell_type": "code",
   "source": [
    "def plot_predictions(train_data = X_train, train_labels = y_train, test_data = X_test, test_labels = y_test, predictions = None):\n",
    "    \"\"\"\n",
    "    Plots training data, test data and compares predictions\n",
    "    \"\"\"\n",
    "    plt.figure(figsize=(10, 7))\n",
    "    \n",
    "    # plot training data in blue\n",
    "    plt.scatter(train_data, train_labels, c=\"r\", s=4, label = \"Training data\")\n",
    "    \n",
    "    # plot test data in green\n",
    "    plt.scatter(test_data, test_labels, c=\"g\", s=4, label = \"Test data\")\n",
    "    \n",
    "    #check if there are predictions\n",
    "    if predictions is not None:\n",
    "        # plot predictions if they exist\n",
    "        plt.scatter(test_data, predictions, c=\"y\", s=4, label=\"Predictions\")\n",
    "        \n",
    "    plt.legend(prop={\"size\": 14})"
   ],
   "id": "5773ba6ec9024ab5",
   "outputs": [],
   "execution_count": 8
  },
  {
   "metadata": {
    "ExecuteTime": {
     "end_time": "2024-06-07T14:32:40.217205Z",
     "start_time": "2024-06-07T14:32:39.838205Z"
    }
   },
   "cell_type": "code",
   "source": "plot_predictions()",
   "id": "bf193d353569ed57",
   "outputs": [
    {
     "data": {
      "text/plain": [
       "<Figure size 1000x700 with 1 Axes>"
      ],
      "image/png": "[encoded data removed]"
     },
     "metadata": {},
     "output_type": "display_data"
    }
   ],
   "execution_count": 9
  },
  {
   "metadata": {},
   "cell_type": "markdown",
   "source": [
    "### 2. Build model\n",
    "\n",
    "First pytorch model\n",
    "for this we need python classes: https://realpython.com/python3-object-oriented-programming/\n",
    "\n",
    "What the model does:\n",
    "* Start with random values (weight & bias)\n",
    "* Look at training data and adjust the random values to better represent (or get closer to) the ideal values (the weights and biases used to create the data)\n",
    "\n",
    "How? Using two main algorithms:\n",
    "1. Gradient descent\n",
    "2. Backpropagation"
   ],
   "id": "66a4177f959427b8"
  },
  {
   "metadata": {
    "ExecuteTime": {
     "end_time": "2024-06-07T14:32:40.233205Z",
     "start_time": "2024-06-07T14:32:40.218205Z"
    }
   },
   "cell_type": "code",
   "source": [
    "# create linear regression model class\n",
    "class LinearRegressionModel(nn.Module): # almost everything in pytorch inherits from nn.module\n",
    "    def __init__(self):\n",
    "        super().__init__()\n",
    "        self.weights = nn.Parameter(torch.randn(1, requires_grad = True, dtype = torch.float))\n",
    "        self.bias = nn.Parameter(torch.randn(1, requires_grad = True, dtype = torch.float))\n",
    "        \n",
    "    # forward method to define the computation in the model\n",
    "    def forward(self, x: torch.Tensor) -> torch.Tensor: # <- 'x' is the input data/training data\n",
    "        return self.weights * x + self.bias # linear regression formula \n",
    "    "
   ],
   "id": "2b0436262ed1001a",
   "outputs": [],
   "execution_count": 10
  },
  {
   "metadata": {},
   "cell_type": "markdown",
   "source": [
    "### PyTorch model building essentials\n",
    "\n",
    "* `torch.nn` - contains all the building blocks for computational graphs (neural networks can be considered as computational graphs)\n",
    "* `torch.nn.Parameter` - what parameters should our model try and learn, often a pytorch layer from torch.nn will set these for us\n",
    "* `torch.nn.Module` - the base class for all NN modules, if you subclass it, you should overwrite forward()\n",
    "* `torch.optim` - this is where optimizers in pytorch live, they will help with gradient descent \n",
    "* `def forward()` -  all nn.Module subclasses are required to overwrite this method, this method defines what happens in the forward computation\n",
    "\n",
    "https://pytorch.org/tutorials/beginner/ptcheat.html"
   ],
   "id": "54c679bc654b79ea"
  },
  {
   "metadata": {
    "ExecuteTime": {
     "end_time": "2024-06-07T14:32:40.312204Z",
     "start_time": "2024-06-07T14:32:40.234205Z"
    }
   },
   "cell_type": "code",
   "source": [
    "# checking the parameters inside our model using `.parameters()`\n",
    "torch.manual_seed(42)\n",
    "\n",
    "model_0 = LinearRegressionModel()\n",
    "\n",
    "list(model_0.parameters()) "
   ],
   "id": "fe09a87bf138100c",
   "outputs": [
    {
     "data": {
      "text/plain": [
       "[Parameter containing:\n",
       " tensor([0.3367], requires_grad=True),\n",
       " Parameter containing:\n",
       " tensor([0.1288], requires_grad=True)]"
      ]
     },
     "execution_count": 11,
     "metadata": {},
     "output_type": "execute_result"
    }
   ],
   "execution_count": 11
  },
  {
   "metadata": {
    "ExecuteTime": {
     "end_time": "2024-06-07T14:32:40.328206Z",
     "start_time": "2024-06-07T14:32:40.313207Z"
    }
   },
   "cell_type": "code",
   "source": "weight, bias # we want our model to eventually adjust its weight and bias to these values or at least very near them",
   "id": "94de7daa4c42500",
   "outputs": [
    {
     "data": {
      "text/plain": [
       "(0.7, 0.3)"
      ]
     },
     "execution_count": 12,
     "metadata": {},
     "output_type": "execute_result"
    }
   ],
   "execution_count": 12
  },
  {
   "metadata": {
    "ExecuteTime": {
     "end_time": "2024-06-07T14:32:40.344206Z",
     "start_time": "2024-06-07T14:32:40.331205Z"
    }
   },
   "cell_type": "code",
   "source": [
    "# list named parameters \n",
    "model_0.state_dict()"
   ],
   "id": "70692fbc4a6a8a3f",
   "outputs": [
    {
     "data": {
      "text/plain": [
       "OrderedDict([('weights', tensor([0.3367])), ('bias', tensor([0.1288]))])"
      ]
     },
     "execution_count": 13,
     "metadata": {},
     "output_type": "execute_result"
    }
   ],
   "execution_count": 13
  },
  {
   "metadata": {},
   "cell_type": "markdown",
   "source": [
    "### Making a prediction using `torch.inference_mode()`\n",
    "\n",
    "to check the models predictive power, let us see how well it predicts `y_test` based on `X.test`\n",
    "\n",
    "when data is passed through the model, it will run it through the `forward()` method "
   ],
   "id": "d29717e3c186e812"
  },
  {
   "metadata": {
    "ExecuteTime": {
     "end_time": "2024-06-07T14:32:40.359209Z",
     "start_time": "2024-06-07T14:32:40.345205Z"
    }
   },
   "cell_type": "code",
   "source": "X_test, y_test",
   "id": "345f7e9250008074",
   "outputs": [
    {
     "data": {
      "text/plain": [
       "(tensor([[0.8000],\n",
       "         [0.8200],\n",
       "         [0.8400],\n",
       "         [0.8600],\n",
       "         [0.8800],\n",
       "         [0.9000],\n",
       "         [0.9200],\n",
       "         [0.9400],\n",
       "         [0.9600],\n",
       "         [0.9800]]),\n",
       " tensor([[0.8600],\n",
       "         [0.8740],\n",
       "         [0.8880],\n",
       "         [0.9020],\n",
       "         [0.9160],\n",
       "         [0.9300],\n",
       "         [0.9440],\n",
       "         [0.9580],\n",
       "         [0.9720],\n",
       "         [0.9860]]))"
      ]
     },
     "execution_count": 14,
     "metadata": {},
     "output_type": "execute_result"
    }
   ],
   "execution_count": 14
  },
  {
   "metadata": {
    "ExecuteTime": {
     "end_time": "2024-06-07T14:32:40.438205Z",
     "start_time": "2024-06-07T14:32:40.360207Z"
    }
   },
   "cell_type": "code",
   "source": [
    "y_preds = model_0(X_test)\n",
    "y_preds # but matplotlib won't work with this version of y_pred, due to it having a grad_fn. Basically this version keeps the gradient tracking, but inference mode doesn't, hence that can be used in numpy and matplotlib"
   ],
   "id": "5fa912859b144c0",
   "outputs": [
    {
     "data": {
      "text/plain": [
       "tensor([[0.3982],\n",
       "        [0.4049],\n",
       "        [0.4116],\n",
       "        [0.4184],\n",
       "        [0.4251],\n",
       "        [0.4318],\n",
       "        [0.4386],\n",
       "        [0.4453],\n",
       "        [0.4520],\n",
       "        [0.4588]], grad_fn=<AddBackward0>)"
      ]
     },
     "execution_count": 15,
     "metadata": {},
     "output_type": "execute_result"
    }
   ],
   "execution_count": 15
  },
  {
   "metadata": {
    "ExecuteTime": {
     "end_time": "2024-06-07T14:32:40.454209Z",
     "start_time": "2024-06-07T14:32:40.439206Z"
    }
   },
   "cell_type": "code",
   "source": [
    "# predictions\n",
    "with torch.inference_mode():\n",
    "    y_preds = model_0(X_test)\n",
    "    \n",
    "y_preds"
   ],
   "id": "30be530dccc1641b",
   "outputs": [
    {
     "data": {
      "text/plain": [
       "tensor([[0.3982],\n",
       "        [0.4049],\n",
       "        [0.4116],\n",
       "        [0.4184],\n",
       "        [0.4251],\n",
       "        [0.4318],\n",
       "        [0.4386],\n",
       "        [0.4453],\n",
       "        [0.4520],\n",
       "        [0.4588]])"
      ]
     },
     "execution_count": 16,
     "metadata": {},
     "output_type": "execute_result"
    }
   ],
   "execution_count": 16
  },
  {
   "metadata": {
    "ExecuteTime": {
     "end_time": "2024-06-07T14:32:40.470205Z",
     "start_time": "2024-06-07T14:32:40.455208Z"
    }
   },
   "cell_type": "code",
   "source": [
    "# torch.no_grad() can also be used for similar results, but torch.inference_mode() is preferred\n",
    "with torch.no_grad():\n",
    "    y_preds = model_0(X_test)\n",
    "    \n",
    "y_preds"
   ],
   "id": "992e5ce12a286f00",
   "outputs": [
    {
     "data": {
      "text/plain": [
       "tensor([[0.3982],\n",
       "        [0.4049],\n",
       "        [0.4116],\n",
       "        [0.4184],\n",
       "        [0.4251],\n",
       "        [0.4318],\n",
       "        [0.4386],\n",
       "        [0.4453],\n",
       "        [0.4520],\n",
       "        [0.4588]])"
      ]
     },
     "execution_count": 17,
     "metadata": {},
     "output_type": "execute_result"
    }
   ],
   "execution_count": 17
  },
  {
   "metadata": {},
   "cell_type": "markdown",
   "source": "inference mode thread - https://x.com/PyTorch/status/1437838236529868803",
   "id": "eecf2b7a6a6e9b7a"
  },
  {
   "metadata": {
    "ExecuteTime": {
     "end_time": "2024-06-07T14:32:40.645206Z",
     "start_time": "2024-06-07T14:32:40.471205Z"
    }
   },
   "cell_type": "code",
   "source": "plot_predictions(predictions=y_preds)",
   "id": "6c28201467f406df",
   "outputs": [
    {
     "data": {
      "text/plain": [
       "<Figure size 1000x700 with 1 Axes>"
      ],
      "image/png": "[encoded data removed]"
     },
     "metadata": {},
     "output_type": "display_data"
    }
   ],
   "execution_count": 18
  },
  {
   "metadata": {},
   "cell_type": "markdown",
   "source": [
    "### 3. Train model\n",
    "\n",
    "* The whole idea of training is for a model to move from some unknown parameters (these may be random) to some *known* parameters\n",
    "* basically, from a poor representation of the data to a better representation\n",
    "* one way to measure how wrong the model's predictions are is to use a **loss function**\n",
    "* Loss function can also be known as **cost function** or **criterion**\n",
    "\n",
    "We mainly need the following:\n",
    "* **Loss function**: is a function to measure how wrong a model's predictions are to the ideal outfits, so *lower* values are better\n",
    "* **Optimizer**: Takes into account the loss of a model and adjust the model's parameters (like weights & bias) to improve the loss function \n",
    "\n",
    "in PyTorch, we need:\n",
    "* A training loop\n",
    "* A testing loop"
   ],
   "id": "68e4b9db1782d09"
  },
  {
   "metadata": {
    "ExecuteTime": {
     "end_time": "2024-06-07T14:32:40.661208Z",
     "start_time": "2024-06-07T14:32:40.646207Z"
    }
   },
   "cell_type": "code",
   "source": [
    "# parameters of the model - parameters are values the model sets itself \n",
    "model_0.state_dict()"
   ],
   "id": "e9741636934f5a90",
   "outputs": [
    {
     "data": {
      "text/plain": [
       "OrderedDict([('weights', tensor([0.3367])), ('bias', tensor([0.1288]))])"
      ]
     },
     "execution_count": 19,
     "metadata": {},
     "output_type": "execute_result"
    }
   ],
   "execution_count": 19
  },
  {
   "metadata": {
    "ExecuteTime": {
     "end_time": "2024-06-07T14:32:40.677208Z",
     "start_time": "2024-06-07T14:32:40.662206Z"
    }
   },
   "cell_type": "code",
   "source": [
    "# setting up a loss function - https://pytorch.org/docs/stable/generated/torch.nn.L1Loss.html#torch.nn.L1Loss\n",
    "loss_fn = nn.L1Loss() # this function will calculate the Mean Absolute Error (MAE)\n",
    "\n",
    "# setting up an optimizer (Stochastic Gradient Descent) - https://pytorch.org/docs/stable/generated/torch.optim.SGD.html#torch.optim.SGD\n",
    "optimizer = torch.optim.SGD(params=model_0.parameters(), lr = 0.01) # lr = learning rate = one of the most important learning hyperparameter that has to be set"
   ],
   "id": "9c8f26009ba3f0ba",
   "outputs": [],
   "execution_count": 20
  },
  {
   "metadata": {},
   "cell_type": "markdown",
   "source": [
    "#### Loss functions and optimizers are problem specific, for our regression (prediction) problem, `nn.L1Loss()` as the loss func. and `torch.optim.SGD` will suffice as the optimizer\n",
    "\n",
    "* The optimizer was passed 2 arguments, `params` are the parameters aiming to be optimized/changed to better represent the training data. Whereas, `lr` is the learning rate, the degree/amount of change actually done on the parameters. A small 'lr' will cause small changes to the 'params' while a big one will make big changes to 'params'. "
   ],
   "id": "c3992b1f49d8e947"
  },
  {
   "metadata": {},
   "cell_type": "markdown",
   "source": [
    "### Building a training loop (and a testing loop) in PyTorch\n",
    "\n",
    "things in a training loop to be included:\n",
    "0. Loop through the data & do the following in the loop...\n",
    "1. Forward pass (this involves data moving through our model's `forward()` function(s)) to make predictions on data -  also called forward propagation\n",
    "2. Calculate the loss (compare forward pass predictions to ground truth labels)\n",
    "3. Optimizer zero grad\n",
    "4. Loss backward - move backwards through the network to calculate the gradients of each of the parameters of our model with respect to the loss (**backpropagation**)\n",
    "5. Optimizer step - use the optimizer to adjust the model's parameters to try and improve the loss (**gradient descent**)"
   ],
   "id": "97d3c648975f3b60"
  },
  {
   "metadata": {
    "ExecuteTime": {
     "end_time": "2024-06-07T14:32:40.693205Z",
     "start_time": "2024-06-07T14:32:40.678207Z"
    }
   },
   "cell_type": "code",
   "source": "model_0.state_dict()",
   "id": "5d8265a69139082c",
   "outputs": [
    {
     "data": {
      "text/plain": [
       "OrderedDict([('weights', tensor([0.3367])), ('bias', tensor([0.1288]))])"
      ]
     },
     "execution_count": 21,
     "metadata": {},
     "output_type": "execute_result"
    }
   ],
   "execution_count": 21
  },
  {
   "metadata": {
    "ExecuteTime": {
     "end_time": "2024-06-07T14:32:40.709204Z",
     "start_time": "2024-06-07T14:32:40.694208Z"
    }
   },
   "cell_type": "code",
   "source": "torch.manual_seed(42)",
   "id": "1f3085983ee9da3e",
   "outputs": [
    {
     "data": {
      "text/plain": [
       "<torch._C.Generator at 0x215a021ff50>"
      ]
     },
     "execution_count": 22,
     "metadata": {},
     "output_type": "execute_result"
    }
   ],
   "execution_count": 22
  },
  {
   "metadata": {
    "ExecuteTime": {
     "end_time": "2024-06-07T14:32:41.008207Z",
     "start_time": "2024-06-07T14:32:40.710205Z"
    }
   },
   "cell_type": "code",
   "source": [
    "torch.manual_seed(42)\n",
    "# An epoch is one loop through the data....\n",
    "epochs = 200 # a hyperparameter because we set it ourselves\n",
    "\n",
    "# tracking different values\n",
    "epoch_count = []\n",
    "loss_values = []\n",
    "test_loss_values = []\n",
    "\n",
    "## Training\n",
    "# 0. Loop through the data\n",
    "for epoch in range(epochs):\n",
    "    # Set the model to training mode\n",
    "    model_0.train() # train mode sets all parameters that require gradients to actually ask for gradients - basically activates gradient tracking\n",
    "    \n",
    "    # 1. Forward pass\n",
    "    y_pred = model_0(X_train)\n",
    "    \n",
    "    # 2. Calculate the loss\n",
    "    loss = loss_fn(y_pred, y_train) # (input data, target data)\n",
    "    #print(f\"Loss: {loss}\")\n",
    "    \n",
    "    # 3. Optimizer zero grad\n",
    "    optimizer.zero_grad() # the gradients are NOT reset by default and hence need to be reset for each loop, this function does that job\n",
    "    \n",
    "    # 4. Perform backpropagation on the loss with respect to the parameters of the model\n",
    "    loss.backward()\n",
    "    \n",
    "    # 5. Step the optimizer (perform gradient descent)\n",
    "    optimizer.step() # by default, how the optimizer changes will accumulate through the loop, so we have to zero them in step 3 for the next iteration of the loop\n",
    "    \n",
    "    # testing\n",
    "    model_0.eval() # turns off gradient tracking and other settings not required for testing (like dropout/batch norm layers)\n",
    "    with torch.inference_mode(): # turns off gradient tracking & more things - https://x.com/PyTorch/status/1437838231505096708\n",
    "    #with torch.no_grad(): # this is also used, but inference_mode() is preferred\n",
    "        # 1. Do the forward pass\n",
    "        test_pred = model_0(X_test)\n",
    "        \n",
    "        # 2. Calculate the loss \n",
    "        test_loss = loss_fn(test_pred, y_test)\n",
    "    \n",
    "    # printing the details    \n",
    "    if epoch % 10 == 0:\n",
    "        epoch_count.append(epoch)\n",
    "        loss_values.append(loss)\n",
    "        test_loss_values.append(test_loss)\n",
    "        \n",
    "        print(f\"Epoch: {epoch} | Loss: {loss} | Test loss; {test_loss}\")      \n",
    "        \n",
    "        # print the model state_dict\n",
    "        print(model_0.state_dict())"
   ],
   "id": "1d619e78fc6e3e3",
   "outputs": [
    {
     "name": "stdout",
     "output_type": "stream",
     "text": [
      "Epoch: 0 | Loss: 0.31288138031959534 | Test loss; 0.48106518387794495\n",
      "OrderedDict([('weights', tensor([0.3406])), ('bias', tensor([0.1388]))])\n",
      "Epoch: 10 | Loss: 0.1976713240146637 | Test loss; 0.3463551998138428\n",
      "OrderedDict([('weights', tensor([0.3796])), ('bias', tensor([0.2388]))])\n",
      "Epoch: 20 | Loss: 0.08908725529909134 | Test loss; 0.21729660034179688\n",
      "OrderedDict([('weights', tensor([0.4184])), ('bias', tensor([0.3333]))])\n",
      "Epoch: 30 | Loss: 0.053148526698350906 | Test loss; 0.14464017748832703\n",
      "OrderedDict([('weights', tensor([0.4512])), ('bias', tensor([0.3768]))])\n",
      "Epoch: 40 | Loss: 0.04543796554207802 | Test loss; 0.11360953003168106\n",
      "OrderedDict([('weights', tensor([0.4748])), ('bias', tensor([0.3868]))])\n",
      "Epoch: 50 | Loss: 0.04167863354086876 | Test loss; 0.09919948130846024\n",
      "OrderedDict([('weights', tensor([0.4938])), ('bias', tensor([0.3843]))])\n",
      "Epoch: 60 | Loss: 0.03818932920694351 | Test loss; 0.08886633068323135\n",
      "OrderedDict([('weights', tensor([0.5116])), ('bias', tensor([0.3788]))])\n",
      "Epoch: 70 | Loss: 0.03476089984178543 | Test loss; 0.0805937647819519\n",
      "OrderedDict([('weights', tensor([0.5288])), ('bias', tensor([0.3718]))])\n",
      "Epoch: 80 | Loss: 0.03132382780313492 | Test loss; 0.07232122868299484\n",
      "OrderedDict([('weights', tensor([0.5459])), ('bias', tensor([0.3648]))])\n",
      "Epoch: 90 | Loss: 0.02788739837706089 | Test loss; 0.06473556160926819\n",
      "OrderedDict([('weights', tensor([0.5629])), ('bias', tensor([0.3573]))])\n",
      "Epoch: 100 | Loss: 0.024458957836031914 | Test loss; 0.05646304413676262\n",
      "OrderedDict([('weights', tensor([0.5800])), ('bias', tensor([0.3503]))])\n",
      "Epoch: 110 | Loss: 0.021020207554101944 | Test loss; 0.04819049686193466\n",
      "OrderedDict([('weights', tensor([0.5972])), ('bias', tensor([0.3433]))])\n",
      "Epoch: 120 | Loss: 0.01758546568453312 | Test loss; 0.04060482233762741\n",
      "OrderedDict([('weights', tensor([0.6141])), ('bias', tensor([0.3358]))])\n",
      "Epoch: 130 | Loss: 0.014155393466353416 | Test loss; 0.03233227878808975\n",
      "OrderedDict([('weights', tensor([0.6313])), ('bias', tensor([0.3288]))])\n",
      "Epoch: 140 | Loss: 0.010716589167714119 | Test loss; 0.024059748277068138\n",
      "OrderedDict([('weights', tensor([0.6485])), ('bias', tensor([0.3218]))])\n",
      "Epoch: 150 | Loss: 0.0072835334576666355 | Test loss; 0.016474086791276932\n",
      "OrderedDict([('weights', tensor([0.6654])), ('bias', tensor([0.3143]))])\n",
      "Epoch: 160 | Loss: 0.0038517764769494534 | Test loss; 0.008201557211577892\n",
      "OrderedDict([('weights', tensor([0.6826])), ('bias', tensor([0.3073]))])\n",
      "Epoch: 170 | Loss: 0.008932482451200485 | Test loss; 0.005023092031478882\n",
      "OrderedDict([('weights', tensor([0.6951])), ('bias', tensor([0.2993]))])\n",
      "Epoch: 180 | Loss: 0.008932482451200485 | Test loss; 0.005023092031478882\n",
      "OrderedDict([('weights', tensor([0.6951])), ('bias', tensor([0.2993]))])\n",
      "Epoch: 190 | Loss: 0.008932482451200485 | Test loss; 0.005023092031478882\n",
      "OrderedDict([('weights', tensor([0.6951])), ('bias', tensor([0.2993]))])\n"
     ]
    }
   ],
   "execution_count": 23
  },
  {
   "metadata": {
    "ExecuteTime": {
     "end_time": "2024-06-07T14:32:41.056207Z",
     "start_time": "2024-06-07T14:32:41.009207Z"
    }
   },
   "cell_type": "code",
   "source": [
    "import numpy as np\n",
    "loss_values, np.array(torch.tensor(loss_values).numpy()) # matplotlib works with numpy but loss values are torch tensors with grad on, so these either need conversions or the grad has to be set to off"
   ],
   "id": "6ef36d641928271d",
   "outputs": [
    {
     "data": {
      "text/plain": [
       "([tensor(0.3129, grad_fn=<MeanBackward0>),\n",
       "  tensor(0.1977, grad_fn=<MeanBackward0>),\n",
       "  tensor(0.0891, grad_fn=<MeanBackward0>),\n",
       "  tensor(0.0531, grad_fn=<MeanBackward0>),\n",
       "  tensor(0.0454, grad_fn=<MeanBackward0>),\n",
       "  tensor(0.0417, grad_fn=<MeanBackward0>),\n",
       "  tensor(0.0382, grad_fn=<MeanBackward0>),\n",
       "  tensor(0.0348, grad_fn=<MeanBackward0>),\n",
       "  tensor(0.0313, grad_fn=<MeanBackward0>),\n",
       "  tensor(0.0279, grad_fn=<MeanBackward0>),\n",
       "  tensor(0.0245, grad_fn=<MeanBackward0>),\n",
       "  tensor(0.0210, grad_fn=<MeanBackward0>),\n",
       "  tensor(0.0176, grad_fn=<MeanBackward0>),\n",
       "  tensor(0.0142, grad_fn=<MeanBackward0>),\n",
       "  tensor(0.0107, grad_fn=<MeanBackward0>),\n",
       "  tensor(0.0073, grad_fn=<MeanBackward0>),\n",
       "  tensor(0.0039, grad_fn=<MeanBackward0>),\n",
       "  tensor(0.0089, grad_fn=<MeanBackward0>),\n",
       "  tensor(0.0089, grad_fn=<MeanBackward0>),\n",
       "  tensor(0.0089, grad_fn=<MeanBackward0>)],\n",
       " array([0.31288138, 0.19767132, 0.08908726, 0.05314853, 0.04543797,\n",
       "        0.04167863, 0.03818933, 0.0347609 , 0.03132383, 0.0278874 ,\n",
       "        0.02445896, 0.02102021, 0.01758547, 0.01415539, 0.01071659,\n",
       "        0.00728353, 0.00385178, 0.00893248, 0.00893248, 0.00893248],\n",
       "       dtype=float32))"
      ]
     },
     "execution_count": 24,
     "metadata": {},
     "output_type": "execute_result"
    }
   ],
   "execution_count": 24
  },
  {
   "metadata": {
    "ExecuteTime": {
     "end_time": "2024-06-07T14:32:41.182205Z",
     "start_time": "2024-06-07T14:32:41.057208Z"
    }
   },
   "cell_type": "code",
   "source": [
    "# plot the loss curves\n",
    "plt.plot(epoch_count, np.array(torch.tensor(loss_values).numpy()), label=\"Train loss\")\n",
    "plt.plot(epoch_count, test_loss_values, label=\"Test loss\")\n",
    "plt.title('Training and test loss curves')\n",
    "plt.ylabel(\"Loss\")\n",
    "plt.xlabel(\"Epochs\")\n",
    "plt.legend();"
   ],
   "id": "184a95c6d9e9649",
   "outputs": [
    {
     "data": {
      "text/plain": [
       "<Figure size 640x480 with 1 Axes>"
      ],
      "image/png": "[encoded data removed]"
     },
     "metadata": {},
     "output_type": "display_data"
    }
   ],
   "execution_count": 25
  },
  {
   "metadata": {
    "ExecuteTime": {
     "end_time": "2024-06-07T14:32:41.198206Z",
     "start_time": "2024-06-07T14:32:41.183206Z"
    }
   },
   "cell_type": "code",
   "source": "model_0.state_dict()",
   "id": "30a7b95e96372bdc",
   "outputs": [
    {
     "data": {
      "text/plain": [
       "OrderedDict([('weights', tensor([0.6990])), ('bias', tensor([0.3093]))])"
      ]
     },
     "execution_count": 26,
     "metadata": {},
     "output_type": "execute_result"
    }
   ],
   "execution_count": 26
  },
  {
   "metadata": {
    "ExecuteTime": {
     "end_time": "2024-06-07T14:32:41.354204Z",
     "start_time": "2024-06-07T14:32:41.199206Z"
    }
   },
   "cell_type": "code",
   "source": "plot_predictions(predictions=y_preds)",
   "id": "508c7a63e4749cfb",
   "outputs": [
    {
     "data": {
      "text/plain": [
       "<Figure size 1000x700 with 1 Axes>"
      ],
      "image/png": "[encoded data removed]"
     },
     "metadata": {},
     "output_type": "display_data"
    }
   ],
   "execution_count": 27
  },
  {
   "metadata": {
    "ExecuteTime": {
     "end_time": "2024-06-07T14:32:41.370205Z",
     "start_time": "2024-06-07T14:32:41.355206Z"
    }
   },
   "cell_type": "code",
   "source": [
    "with torch.inference_mode():\n",
    "    y_preds_new = model_0(X_test)"
   ],
   "id": "8dc0f53c7b1b4e13",
   "outputs": [],
   "execution_count": 28
  },
  {
   "metadata": {
    "ExecuteTime": {
     "end_time": "2024-06-07T14:32:41.528206Z",
     "start_time": "2024-06-07T14:32:41.371207Z"
    }
   },
   "cell_type": "code",
   "source": "plot_predictions(predictions=y_preds_new)",
   "id": "59e7083178c53631",
   "outputs": [
    {
     "data": {
      "text/plain": [
       "<Figure size 1000x700 with 1 Axes>"
      ],
      "image/png": "[encoded data removed]"
     },
     "metadata": {},
     "output_type": "display_data"
    }
   ],
   "execution_count": 29
  },
  {
   "metadata": {},
   "cell_type": "markdown",
   "source": [
    "### Saving a model in pytorch - https://pytorch.org/tutorials/beginner/saving_loading_models.html\n",
    "\n",
    "3 main methods for saving and loading models\n",
    "1. `torch.save()` - allows to save a pytorch object in python's pickle format - https://docs.python.org/3/library/pickle.html\n",
    "2. `torch.load()` - used to load a saved pytorch object\n",
    "3. `torch.nn.Module.load_state_dict()` - this allows to save a model's saved state dictionary"
   ],
   "id": "da17064e022e6a69"
  },
  {
   "metadata": {
    "ExecuteTime": {
     "end_time": "2024-06-07T14:32:41.544207Z",
     "start_time": "2024-06-07T14:32:41.529208Z"
    }
   },
   "cell_type": "code",
   "source": "model_0.state_dict()",
   "id": "3eacb9ecd9f4e42f",
   "outputs": [
    {
     "data": {
      "text/plain": [
       "OrderedDict([('weights', tensor([0.6990])), ('bias', tensor([0.3093]))])"
      ]
     },
     "execution_count": 30,
     "metadata": {},
     "output_type": "execute_result"
    }
   ],
   "execution_count": 30
  },
  {
   "metadata": {
    "ExecuteTime": {
     "end_time": "2024-06-07T14:32:41.560208Z",
     "start_time": "2024-06-07T14:32:41.545208Z"
    }
   },
   "cell_type": "code",
   "source": [
    "# saving model\n",
    "from pathlib import Path\n",
    "\n",
    "# 1. create model's directory\n",
    "MODEL_PATH = Path(\"models\")\n",
    "MODEL_PATH.mkdir(parents=True, exist_ok=True)\n",
    "\n",
    "# 2. create a model save path\n",
    "MODEL_NAME = \"chapter_1_model_0.pth\"\n",
    "MODEL_SAVE_PATH = MODEL_PATH / MODEL_NAME\n",
    "\n",
    "print(MODEL_SAVE_PATH)\n",
    "\n",
    "# 3. save the model state_dict\n",
    "print(f\"Saving model to: {MODEL_SAVE_PATH}\")\n",
    "#torch.save(obj=model_0.state_dict(), f=MODEL_SAVE_PATH)"
   ],
   "id": "69e31d426541f125",
   "outputs": [
    {
     "name": "stdout",
     "output_type": "stream",
     "text": [
      "models\\chapter_1_model_0.pth\n",
      "Saving model to: models\\chapter_1_model_0.pth\n"
     ]
    }
   ],
   "execution_count": 31
  },
  {
   "metadata": {},
   "cell_type": "markdown",
   "source": [
    "### Loading a pytorch model\n",
    "Since the model's `state_dict()` is saved rather than the entire model, we can create a new instance of the model class and load this saved `state_dict` into that "
   ],
   "id": "62b20efef9def721"
  },
  {
   "metadata": {
    "ExecuteTime": {
     "end_time": "2024-06-07T14:32:41.576205Z",
     "start_time": "2024-06-07T14:32:41.561207Z"
    }
   },
   "cell_type": "code",
   "source": "model_0.state_dict()",
   "id": "d6bbb71c524f5cc9",
   "outputs": [
    {
     "data": {
      "text/plain": [
       "OrderedDict([('weights', tensor([0.6990])), ('bias', tensor([0.3093]))])"
      ]
     },
     "execution_count": 32,
     "metadata": {},
     "output_type": "execute_result"
    }
   ],
   "execution_count": 32
  },
  {
   "metadata": {
    "ExecuteTime": {
     "end_time": "2024-06-07T14:32:41.747208Z",
     "start_time": "2024-06-07T14:32:41.577205Z"
    }
   },
   "cell_type": "code",
   "source": [
    "# To load in a saved state_dict, we have to instantiate a new instance of our model class\n",
    "loaded_model_0 = LinearRegressionModel()\n",
    "print(loaded_model_0.state_dict())\n",
    "\n",
    "# load the saves state_dict of model_0, this will update the state_dict of the new model (with the stored one's parameters)\n",
    "loaded_model_0.load_state_dict(torch.load(f=MODEL_SAVE_PATH))"
   ],
   "id": "6672ae82715912d4",
   "outputs": [
    {
     "name": "stdout",
     "output_type": "stream",
     "text": [
      "OrderedDict([('weights', tensor([0.3367])), ('bias', tensor([0.1288]))])\n"
     ]
    },
    {
     "data": {
      "text/plain": [
       "<All keys matched successfully>"
      ]
     },
     "execution_count": 33,
     "metadata": {},
     "output_type": "execute_result"
    }
   ],
   "execution_count": 33
  },
  {
   "metadata": {
    "ExecuteTime": {
     "end_time": "2024-06-07T14:32:41.762206Z",
     "start_time": "2024-06-07T14:32:41.748208Z"
    }
   },
   "cell_type": "code",
   "source": "loaded_model_0.state_dict()",
   "id": "dac745757497ea91",
   "outputs": [
    {
     "data": {
      "text/plain": [
       "OrderedDict([('weights', tensor([0.6990])), ('bias', tensor([0.3093]))])"
      ]
     },
     "execution_count": 34,
     "metadata": {},
     "output_type": "execute_result"
    }
   ],
   "execution_count": 34
  },
  {
   "metadata": {
    "ExecuteTime": {
     "end_time": "2024-06-07T14:32:41.778206Z",
     "start_time": "2024-06-07T14:32:41.763206Z"
    }
   },
   "cell_type": "code",
   "source": [
    "# make some predictions with the loaded model\n",
    "loaded_model_0.eval()\n",
    "with torch.inference_mode():\n",
    "    loaded_model_preds = loaded_model_0(X_test)\n",
    "    \n",
    "loaded_model_preds"
   ],
   "id": "9c6a670c78fa7f29",
   "outputs": [
    {
     "data": {
      "text/plain": [
       "tensor([[0.8685],\n",
       "        [0.8825],\n",
       "        [0.8965],\n",
       "        [0.9105],\n",
       "        [0.9245],\n",
       "        [0.9384],\n",
       "        [0.9524],\n",
       "        [0.9664],\n",
       "        [0.9804],\n",
       "        [0.9944]])"
      ]
     },
     "execution_count": 35,
     "metadata": {},
     "output_type": "execute_result"
    }
   ],
   "execution_count": 35
  },
  {
   "metadata": {
    "ExecuteTime": {
     "end_time": "2024-06-07T14:32:41.794206Z",
     "start_time": "2024-06-07T14:32:41.779207Z"
    }
   },
   "cell_type": "code",
   "source": [
    "# compare loaded model preds with original model preds\n",
    "model_0.eval()\n",
    "with torch.inference_mode():\n",
    "  y_preds = model_0(X_test)\n",
    "  \n",
    "y_preds == loaded_model_preds"
   ],
   "id": "dc833b31ce0c24d4",
   "outputs": [
    {
     "data": {
      "text/plain": [
       "tensor([[True],\n",
       "        [True],\n",
       "        [True],\n",
       "        [True],\n",
       "        [True],\n",
       "        [True],\n",
       "        [True],\n",
       "        [True],\n",
       "        [True],\n",
       "        [True]])"
      ]
     },
     "execution_count": 36,
     "metadata": {},
     "output_type": "execute_result"
    }
   ],
   "execution_count": 36
  },
  {
   "metadata": {},
   "cell_type": "markdown",
   "source": [
    "### 6. Putting it all together\n",
    "\n",
    "repeat the previous step but all in one place"
   ],
   "id": "6b8de14ebe2a6b6e"
  },
  {
   "metadata": {},
   "cell_type": "markdown",
   "source": [
    "# import pytorch and matplotlib\n",
    "import torch\n",
    "import intel_extension_for_pytorch as ipex\n",
    "from torch import nn\n",
    "import matplotlib.pyplot as plt\n",
    "\n",
    "torch.__version__"
   ],
   "id": "52dcfeef4b003f8"
  },
  {
   "metadata": {},
   "cell_type": "markdown",
   "source": [
    "Create device agnostic code.\n",
    "\n",
    "this mean the code will use a gpu/xpu if available for faster computing. If no gpu/xpu is there the code will default to the cpu"
   ],
   "id": "89f19769584a7f78"
  },
  {
   "metadata": {
    "ExecuteTime": {
     "end_time": "2024-06-07T14:32:41.809206Z",
     "start_time": "2024-06-07T14:32:41.798207Z"
    }
   },
   "cell_type": "code",
   "source": [
    "# device agnostic code\n",
    "device = \"xpu\" if torch.xpu.is_available() else \"cpu\"\n",
    "print(f\"Device: {device}\")"
   ],
   "id": "f9331da68158b8be",
   "outputs": [
    {
     "name": "stdout",
     "output_type": "stream",
     "text": [
      "Device: xpu\n"
     ]
    }
   ],
   "execution_count": 37
  },
  {
   "metadata": {},
   "cell_type": "markdown",
   "source": "#### 6.1: Data",
   "id": "d5bf88ef383cd551"
  },
  {
   "metadata": {
    "ExecuteTime": {
     "end_time": "2024-06-07T14:32:41.825206Z",
     "start_time": "2024-06-07T14:32:41.810206Z"
    }
   },
   "cell_type": "code",
   "source": [
    "# create some data using the linear regression formula of y = weight * X + bias\n",
    "weight = 0.7\n",
    "bias = 0.3\n",
    "\n",
    "# create range values\n",
    "start = 0\n",
    "end = 1\n",
    "step = 0.02\n",
    "\n",
    "# create X & y (features and labels)\n",
    "X = torch.arange(start, end, step).unsqueeze(dim=1) # without un-squeeze, there will be errors\n",
    "y = weight * X + bias\n",
    "X[:10], y[:10]"
   ],
   "id": "9cd4e15e97485133",
   "outputs": [
    {
     "data": {
      "text/plain": [
       "(tensor([[0.0000],\n",
       "         [0.0200],\n",
       "         [0.0400],\n",
       "         [0.0600],\n",
       "         [0.0800],\n",
       "         [0.1000],\n",
       "         [0.1200],\n",
       "         [0.1400],\n",
       "         [0.1600],\n",
       "         [0.1800]]),\n",
       " tensor([[0.3000],\n",
       "         [0.3140],\n",
       "         [0.3280],\n",
       "         [0.3420],\n",
       "         [0.3560],\n",
       "         [0.3700],\n",
       "         [0.3840],\n",
       "         [0.3980],\n",
       "         [0.4120],\n",
       "         [0.4260]]))"
      ]
     },
     "execution_count": 38,
     "metadata": {},
     "output_type": "execute_result"
    }
   ],
   "execution_count": 38
  },
  {
   "metadata": {
    "ExecuteTime": {
     "end_time": "2024-06-07T14:32:41.841206Z",
     "start_time": "2024-06-07T14:32:41.826206Z"
    }
   },
   "cell_type": "code",
   "source": [
    "# split data\n",
    "train_split = int(0.8 * len(X))\n",
    "X_train, y_train = X[:train_split], y[:train_split]\n",
    "X_test, y_test = X[train_split:], y[train_split:]\n",
    "len(X_train), len(y_train), len(X_test), len(y_test)"
   ],
   "id": "aa489af19908381e",
   "outputs": [
    {
     "data": {
      "text/plain": [
       "(40, 40, 10, 10)"
      ]
     },
     "execution_count": 39,
     "metadata": {},
     "output_type": "execute_result"
    }
   ],
   "execution_count": 39
  },
  {
   "metadata": {
    "ExecuteTime": {
     "end_time": "2024-06-07T14:32:41.968206Z",
     "start_time": "2024-06-07T14:32:41.842206Z"
    }
   },
   "cell_type": "code",
   "source": [
    "# plot the data\n",
    "plot_predictions(X_train, y_train, X_test, y_test)"
   ],
   "id": "95646172016d9cbd",
   "outputs": [
    {
     "data": {
      "text/plain": [
       "<Figure size 1000x700 with 1 Axes>"
      ],
      "image/png": "[encoded data removed]"
     },
     "metadata": {},
     "output_type": "display_data"
    }
   ],
   "execution_count": 40
  },
  {
   "metadata": {},
   "cell_type": "markdown",
   "source": "#### 6.2 Building a pytorch linear model",
   "id": "fee50a324f46d3f2"
  },
  {
   "metadata": {
    "ExecuteTime": {
     "end_time": "2024-06-07T14:32:42.029204Z",
     "start_time": "2024-06-07T14:32:41.969206Z"
    }
   },
   "cell_type": "code",
   "source": [
    "# create a model by subclassing nn.Module\n",
    "class LinearRegressionModelV2(nn.Module):\n",
    "    def __init__(self):\n",
    "        super().__init__()\n",
    "        # use nn.Linear() for creating the model parameters / also called: linear transform, probing layer, fully connected layer, dense layer\n",
    "        self.linear_layer = nn.Linear(in_features=1, out_features=1)\n",
    "        \n",
    "    def forward(self, x: torch.Tensor) -> torch.Tensor:\n",
    "        return self.linear_layer(x)\n",
    "\n",
    "# set the manual seed\n",
    "torch.manual_seed(42)\n",
    "model_1 = LinearRegressionModelV2()\n",
    "model_1, model_1.state_dict()"
   ],
   "id": "d3f532b4a42030d2",
   "outputs": [
    {
     "data": {
      "text/plain": [
       "(LinearRegressionModelV2(\n",
       "   (linear_layer): Linear(in_features=1, out_features=1, bias=True)\n",
       " ),\n",
       " OrderedDict([('linear_layer.weight', tensor([[0.7645]])),\n",
       "              ('linear_layer.bias', tensor([0.8300]))]))"
      ]
     },
     "execution_count": 41,
     "metadata": {},
     "output_type": "execute_result"
    }
   ],
   "execution_count": 41
  },
  {
   "metadata": {
    "ExecuteTime": {
     "end_time": "2024-06-07T14:32:42.045204Z",
     "start_time": "2024-06-07T14:32:42.030204Z"
    }
   },
   "cell_type": "code",
   "source": "X_train[:5], y_train[:5]",
   "id": "573f0905b73aad7f",
   "outputs": [
    {
     "data": {
      "text/plain": [
       "(tensor([[0.0000],\n",
       "         [0.0200],\n",
       "         [0.0400],\n",
       "         [0.0600],\n",
       "         [0.0800]]),\n",
       " tensor([[0.3000],\n",
       "         [0.3140],\n",
       "         [0.3280],\n",
       "         [0.3420],\n",
       "         [0.3560]]))"
      ]
     },
     "execution_count": 42,
     "metadata": {},
     "output_type": "execute_result"
    }
   ],
   "execution_count": 42
  },
  {
   "metadata": {
    "ExecuteTime": {
     "end_time": "2024-06-07T14:32:42.060204Z",
     "start_time": "2024-06-07T14:32:42.046206Z"
    }
   },
   "cell_type": "code",
   "source": "next(model_1.parameters()).device",
   "id": "a22a802cc470ad98",
   "outputs": [
    {
     "data": {
      "text/plain": [
       "device(type='cpu')"
      ]
     },
     "execution_count": 43,
     "metadata": {},
     "output_type": "execute_result"
    }
   ],
   "execution_count": 43
  },
  {
   "metadata": {
    "ExecuteTime": {
     "end_time": "2024-06-07T14:32:42.216205Z",
     "start_time": "2024-06-07T14:32:42.061205Z"
    }
   },
   "cell_type": "code",
   "source": [
    "# set the model to use the target device\n",
    "model_1.to(device)\n",
    "next(model_1.parameters()).device"
   ],
   "id": "7f33168e5e7f4e3c",
   "outputs": [
    {
     "data": {
      "text/plain": [
       "device(type='xpu', index=0)"
      ]
     },
     "execution_count": 44,
     "metadata": {},
     "output_type": "execute_result"
    }
   ],
   "execution_count": 44
  },
  {
   "metadata": {},
   "cell_type": "markdown",
   "source": [
    "### 6.3 Training\n",
    "\n",
    "for training:\n",
    "* Loss function\n",
    "* Optimizer\n",
    "* Training loop\n",
    "* Testing loop"
   ],
   "id": "9e4e85b940987ddf"
  },
  {
   "metadata": {
    "ExecuteTime": {
     "end_time": "2024-06-07T14:32:45.309721Z",
     "start_time": "2024-06-07T14:32:42.217206Z"
    }
   },
   "cell_type": "code",
   "source": "model_1.state_dict()",
   "id": "e4a0b0a8c4aa6bcb",
   "outputs": [
    {
     "data": {
      "text/plain": [
       "OrderedDict([('linear_layer.weight', tensor([[0.7645]], device='xpu:0')),\n",
       "             ('linear_layer.bias', tensor([0.8300], device='xpu:0'))])"
      ]
     },
     "execution_count": 45,
     "metadata": {},
     "output_type": "execute_result"
    }
   ],
   "execution_count": 45
  },
  {
   "metadata": {
    "ExecuteTime": {
     "end_time": "2024-06-07T14:32:45.324722Z",
     "start_time": "2024-06-07T14:32:45.310721Z"
    }
   },
   "cell_type": "code",
   "source": [
    "# set up a loss function\n",
    "loss_fn = nn.L1Loss() # same as MAE\n",
    "\n",
    "# set up an optimizer\n",
    "optimizer = torch.optim.SGD(params=model_1.parameters(),lr=0.01)"
   ],
   "id": "3dd36998aa22425c",
   "outputs": [],
   "execution_count": 46
  },
  {
   "metadata": {
    "ExecuteTime": {
     "end_time": "2024-06-07T14:32:45.340721Z",
     "start_time": "2024-06-07T14:32:45.325722Z"
    }
   },
   "cell_type": "code",
   "source": [
    "# send the loss_fn/criterion to the xpu\n",
    "loss_fn = loss_fn.to(\"xpu\")"
   ],
   "id": "8800adeb07d87683",
   "outputs": [],
   "execution_count": 47
  },
  {
   "metadata": {
    "ExecuteTime": {
     "end_time": "2024-06-07T14:32:45.356721Z",
     "start_time": "2024-06-07T14:32:45.341719Z"
    }
   },
   "cell_type": "code",
   "source": [
    "# optimize the model for ipex\n",
    "model_1, optimizer = ipex.optimize(model_1, optimizer=optimizer)"
   ],
   "id": "e2c39bf17e4c23f5",
   "outputs": [],
   "execution_count": 48
  },
  {
   "metadata": {
    "ExecuteTime": {
     "end_time": "2024-06-07T14:32:47.650729Z",
     "start_time": "2024-06-07T14:32:45.357722Z"
    }
   },
   "cell_type": "code",
   "source": [
    "# writing the training loop\n",
    "torch.manual_seed(42)\n",
    "\n",
    "epochs = 200\n",
    "\n",
    "# put data on the target device (device agnostic code for data)\n",
    "X_train, y_train, X_test, y_test = X_train.to(device), y_train.to(device), X_test.to(device), y_test.to(device) \n",
    "\n",
    "\n",
    "for epoch in range(epochs):\n",
    "    model_1.train()\n",
    "    \n",
    "    # 1. forward pass\n",
    "    y_pred = model_1(X_train)\n",
    "    \n",
    "    # 2. calculate the loss\n",
    "    loss = loss_fn(y_pred, y_train)\n",
    "    \n",
    "    # 3. optimizer zero grad\n",
    "    optimizer.zero_grad()\n",
    "    \n",
    "    # 4. Perform backpropagation\n",
    "    loss.backward()\n",
    "    \n",
    "    # 5. optimizer step\n",
    "    optimizer.step()\n",
    "    \n",
    "    ### testing \n",
    "    model_1.eval()\n",
    "    with torch.inference_mode():\n",
    "        test_pred = model_1(X_test)\n",
    "        \n",
    "        test_loss = loss_fn(test_pred, y_test)\n",
    "        \n",
    "    # print details\n",
    "    if epoch % 10 == 0:\n",
    "        print(f\"Epoch: {epoch} | Loss: {loss} | Test loss: {test_loss}\")"
   ],
   "id": "3a9630e4bfe33743",
   "outputs": [
    {
     "name": "stdout",
     "output_type": "stream",
     "text": [
      "Epoch: 0 | Loss: 0.5551779270172119 | Test loss: 0.5739762783050537\n",
      "Epoch: 10 | Loss: 0.439968079328537 | Test loss: 0.4392663538455963\n",
      "Epoch: 20 | Loss: 0.3247582018375397 | Test loss: 0.30455657839775085\n",
      "Epoch: 30 | Loss: 0.20954833924770355 | Test loss: 0.16984672844409943\n",
      "Epoch: 40 | Loss: 0.09433843940496445 | Test loss: 0.03513689711689949\n",
      "Epoch: 50 | Loss: 0.023886388167738914 | Test loss: 0.04784906655550003\n",
      "Epoch: 60 | Loss: 0.0199567973613739 | Test loss: 0.04580312594771385\n",
      "Epoch: 70 | Loss: 0.016517987474799156 | Test loss: 0.0375305712223053\n",
      "Epoch: 80 | Loss: 0.01308917161077261 | Test loss: 0.029944902285933495\n",
      "Epoch: 90 | Loss: 0.009653178043663502 | Test loss: 0.02167237363755703\n",
      "Epoch: 100 | Loss: 0.0062156799249351025 | Test loss: 0.014086711220443249\n",
      "Epoch: 110 | Loss: 0.002787243574857712 | Test loss: 0.005814164876937866\n",
      "Epoch: 120 | Loss: 0.0012645035749301314 | Test loss: 0.013801807537674904\n",
      "Epoch: 130 | Loss: 0.0012645035749301314 | Test loss: 0.013801807537674904\n",
      "Epoch: 140 | Loss: 0.0012645035749301314 | Test loss: 0.013801807537674904\n",
      "Epoch: 150 | Loss: 0.0012645035749301314 | Test loss: 0.013801807537674904\n",
      "Epoch: 160 | Loss: 0.0012645035749301314 | Test loss: 0.013801807537674904\n",
      "Epoch: 170 | Loss: 0.0012645035749301314 | Test loss: 0.013801807537674904\n",
      "Epoch: 180 | Loss: 0.0012645035749301314 | Test loss: 0.013801807537674904\n",
      "Epoch: 190 | Loss: 0.0012645035749301314 | Test loss: 0.013801807537674904\n"
     ]
    }
   ],
   "execution_count": 49
  },
  {
   "metadata": {
    "ExecuteTime": {
     "end_time": "2024-06-07T14:32:47.665730Z",
     "start_time": "2024-06-07T14:32:47.651729Z"
    }
   },
   "cell_type": "code",
   "source": "model_1.state_dict()",
   "id": "50ba4f8d1aa9947f",
   "outputs": [
    {
     "data": {
      "text/plain": [
       "OrderedDict([('linear_layer.weight', tensor([[0.6968]], device='xpu:0')),\n",
       "             ('linear_layer.bias', tensor([0.3025], device='xpu:0'))])"
      ]
     },
     "execution_count": 50,
     "metadata": {},
     "output_type": "execute_result"
    }
   ],
   "execution_count": 50
  },
  {
   "metadata": {
    "ExecuteTime": {
     "end_time": "2024-06-07T14:32:47.680727Z",
     "start_time": "2024-06-07T14:32:47.666729Z"
    }
   },
   "cell_type": "code",
   "source": "weight, bias",
   "id": "ae7a362705436f57",
   "outputs": [
    {
     "data": {
      "text/plain": [
       "(0.7, 0.3)"
      ]
     },
     "execution_count": 51,
     "metadata": {},
     "output_type": "execute_result"
    }
   ],
   "execution_count": 51
  },
  {
   "metadata": {},
   "cell_type": "markdown",
   "source": "### 6.4 making and evaluating predictions",
   "id": "d33cdddf043f31e1"
  },
  {
   "metadata": {
    "ExecuteTime": {
     "end_time": "2024-06-07T14:38:06.576092Z",
     "start_time": "2024-06-07T14:38:06.570093Z"
    }
   },
   "cell_type": "code",
   "source": [
    "# turn the model into eval() mode\n",
    "model_1.eval()\n",
    "\n",
    "# make predictions on the test data"
   ],
   "id": "1f449a32901fea6c",
   "outputs": [
    {
     "data": {
      "text/plain": [
       "LinearRegressionModelV2(\n",
       "  (linear_layer): Linear(in_features=1, out_features=1, bias=True)\n",
       ")"
      ]
     },
     "execution_count": 52,
     "metadata": {},
     "output_type": "execute_result"
    }
   ],
   "execution_count": 52
  },
  {
   "metadata": {
    "ExecuteTime": {
     "end_time": "2024-06-07T14:38:46.635056Z",
     "start_time": "2024-06-07T14:38:46.612058Z"
    }
   },
   "cell_type": "code",
   "source": [
    "with torch.inference_mode():\n",
    "    y_preds = model_1(X_test)\n",
    "\n",
    "y_preds"
   ],
   "id": "d09644b7f93f8e54",
   "outputs": [
    {
     "data": {
      "text/plain": [
       "tensor([[0.8600],\n",
       "        [0.8739],\n",
       "        [0.8878],\n",
       "        [0.9018],\n",
       "        [0.9157],\n",
       "        [0.9296],\n",
       "        [0.9436],\n",
       "        [0.9575],\n",
       "        [0.9714],\n",
       "        [0.9854]], device='xpu:0')"
      ]
     },
     "execution_count": 54,
     "metadata": {},
     "output_type": "execute_result"
    }
   ],
   "execution_count": 54
  },
  {
   "metadata": {
    "ExecuteTime": {
     "end_time": "2024-06-07T14:41:02.436349Z",
     "start_time": "2024-06-07T14:41:02.428349Z"
    }
   },
   "cell_type": "code",
   "source": [
    "# plot the predictions\n",
    "#plot_predictions(predictions=y_preds) # won't work unless the data is put back into cpu as plt works with numpy and numpy is cpu-only"
   ],
   "id": "2673016c95532f51",
   "outputs": [],
   "execution_count": 56
  },
  {
   "metadata": {
    "ExecuteTime": {
     "end_time": "2024-06-07T14:41:17.979671Z",
     "start_time": "2024-06-07T14:41:17.820673Z"
    }
   },
   "cell_type": "code",
   "source": "plot_predictions(predictions=y_preds.cpu()) # copy data to cpu first",
   "id": "ebfb7e3416bad88b",
   "outputs": [
    {
     "data": {
      "text/plain": [
       "<Figure size 1000x700 with 1 Axes>"
      ],
      "image/png": "[encoded data removed]"
     },
     "metadata": {},
     "output_type": "display_data"
    }
   ],
   "execution_count": 57
  },
  {
   "metadata": {},
   "cell_type": "markdown",
   "source": "#### 6.5 Saving & loading a trained model",
   "id": "1bac529f578548f0"
  },
  {
   "metadata": {
    "ExecuteTime": {
     "end_time": "2024-06-07T15:14:51.480267Z",
     "start_time": "2024-06-07T15:14:51.460648Z"
    }
   },
   "cell_type": "code",
   "source": [
    "from pathlib import Path\n",
    "\n",
    "# 1. create models directory\n",
    "MODEL_PATH = Path(\"models\")\n",
    "MODEL_PATH.mkdir(parents=True, exist_ok=True)\n",
    "\n",
    "# 2. create model save path\n",
    "MODEL_NAME = \"chapter_1_model_1.pth\"\n",
    "MODEL_SAVE_PATH = MODEL_PATH / MODEL_NAME\n",
    "\n",
    "print(MODEL_SAVE_PATH)\n",
    "\n",
    "# 3. Save the model state_dict()\n",
    "print(f\"Saving model to: {MODEL_SAVE_PATH}\")\n",
    "torch.save(obj=model_1.state_dict(), f=MODEL_SAVE_PATH)"
   ],
   "id": "fd883f6dab2fce4a",
   "outputs": [
    {
     "name": "stdout",
     "output_type": "stream",
     "text": [
      "models\\chapter_1_model_1.pth\n",
      "Saving model to: models\\chapter_1_model_1.pth\n"
     ]
    }
   ],
   "execution_count": 62
  },
  {
   "metadata": {
    "ExecuteTime": {
     "end_time": "2024-06-07T15:22:04.424241Z",
     "start_time": "2024-06-07T15:22:04.411076Z"
    }
   },
   "cell_type": "code",
   "source": [
    "# Load a model\n",
    "\n",
    "# create a new instance\n",
    "loaded_model_1 = LinearRegressionModelV2()\n",
    "\n",
    "# Load the saved state_dict()\n",
    "loaded_model_1.load_state_dict(torch.load(MODEL_SAVE_PATH))\n",
    "\n",
    "# put the loaded model to device \n",
    "loaded_model_1.to(device)"
   ],
   "id": "d2759b911d77a414",
   "outputs": [
    {
     "data": {
      "text/plain": [
       "LinearRegressionModelV2(\n",
       "  (linear_layer): Linear(in_features=1, out_features=1, bias=True)\n",
       ")"
      ]
     },
     "execution_count": 63,
     "metadata": {},
     "output_type": "execute_result"
    }
   ],
   "execution_count": 63
  },
  {
   "metadata": {
    "ExecuteTime": {
     "end_time": "2024-06-07T15:23:15.063809Z",
     "start_time": "2024-06-07T15:23:15.045079Z"
    }
   },
   "cell_type": "code",
   "source": "next(loaded_model_1.parameters()).device",
   "id": "b634c3459465b3ca",
   "outputs": [
    {
     "data": {
      "text/plain": [
       "device(type='xpu', index=0)"
      ]
     },
     "execution_count": 68,
     "metadata": {},
     "output_type": "execute_result"
    }
   ],
   "execution_count": 68
  },
  {
   "metadata": {
    "ExecuteTime": {
     "end_time": "2024-06-07T15:23:15.440899Z",
     "start_time": "2024-06-07T15:23:15.430911Z"
    }
   },
   "cell_type": "code",
   "source": "loaded_model_1.state_dict()",
   "id": "6fb88f319adb835f",
   "outputs": [
    {
     "data": {
      "text/plain": [
       "OrderedDict([('linear_layer.weight', tensor([[0.6968]], device='xpu:0')),\n",
       "             ('linear_layer.bias', tensor([0.3025], device='xpu:0'))])"
      ]
     },
     "execution_count": 69,
     "metadata": {},
     "output_type": "execute_result"
    }
   ],
   "execution_count": 69
  },
  {
   "metadata": {
    "ExecuteTime": {
     "end_time": "2024-06-07T15:24:15.170469Z",
     "start_time": "2024-06-07T15:24:15.151472Z"
    }
   },
   "cell_type": "code",
   "source": [
    "# evaluate loaded model\n",
    "loaded_model_1.eval()\n",
    "with torch.inference_mode():\n",
    "    loaded_model_1_preds = loaded_model_1(X_test)\n",
    "y_preds == loaded_model_1_preds"
   ],
   "id": "eb13dee594307d23",
   "outputs": [
    {
     "data": {
      "text/plain": [
       "tensor([[True],\n",
       "        [True],\n",
       "        [True],\n",
       "        [True],\n",
       "        [True],\n",
       "        [True],\n",
       "        [True],\n",
       "        [True],\n",
       "        [True],\n",
       "        [True]], device='xpu:0')"
      ]
     },
     "execution_count": 70,
     "metadata": {},
     "output_type": "execute_result"
    }
   ],
   "execution_count": 70
  },
  {
   "metadata": {},
   "cell_type": "markdown",
   "source": [
    "### Exercises\n",
    "https://www.learnpytorch.io/01_pytorch_workflow/#exercises"
   ],
   "id": "153edb00b1ceaa95"
  }
 ],
 "metadata": {
  "kernelspec": {
   "display_name": "Python 3",
   "language": "python",
   "name": "python3"
  },
  "language_info": {
   "codemirror_mode": {
    "name": "ipython",
    "version": 2
   },
   "file_extension": ".py",
   "mimetype": "text/x-python",
   "name": "python",
   "nbconvert_exporter": "python",
   "pygments_lexer": "ipython2",
   "version": "2.7.6"
  }
 },
 "nbformat": 4,
 "nbformat_minor": 5
}

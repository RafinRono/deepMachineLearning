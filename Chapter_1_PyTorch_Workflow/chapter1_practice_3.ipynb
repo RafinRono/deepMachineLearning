{
 "cells": [
  {
   "cell_type": "code",
   "id": "initial_id",
   "metadata": {
    "collapsed": true,
    "ExecuteTime": {
     "end_time": "2024-06-12T10:55:30.887154Z",
     "start_time": "2024-06-12T10:55:30.882154Z"
    }
   },
   "source": [
    "import torch\n",
    "import intel_extension_for_pytorch as ipex\n",
    "from torch import nn\n",
    "import numpy as np\n",
    "import matplotlib.pyplot as plt"
   ],
   "outputs": [],
   "execution_count": 264
  },
  {
   "metadata": {
    "ExecuteTime": {
     "end_time": "2024-06-12T10:55:30.919162Z",
     "start_time": "2024-06-12T10:55:30.914165Z"
    }
   },
   "cell_type": "code",
   "source": [
    "weight = 1.4\n",
    "bias = 2.8\n",
    "\n",
    "start = 0\n",
    "end = 2\n",
    "step = 0.005\n",
    "\n",
    "X = torch.arange(start, end, step).unsqueeze(dim=1)\n",
    "y = weight * X + bias\n",
    "\n",
    "X.shape, y.shape"
   ],
   "id": "68c912bc1ecbd33b",
   "outputs": [
    {
     "data": {
      "text/plain": [
       "(torch.Size([400, 1]), torch.Size([400, 1]))"
      ]
     },
     "execution_count": 265,
     "metadata": {},
     "output_type": "execute_result"
    }
   ],
   "execution_count": 265
  },
  {
   "metadata": {
    "ExecuteTime": {
     "end_time": "2024-06-12T10:55:30.967163Z",
     "start_time": "2024-06-12T10:55:30.953165Z"
    }
   },
   "cell_type": "code",
   "source": [
    "train_split = int(0.75 * len(X))\n",
    "X_train, y_train, X_test, y_test = X[:train_split], y[:train_split], X[train_split:], y[train_split:]\n",
    "\n",
    "len(X_train), len(y_train), len(X_test), len(y_test)"
   ],
   "id": "182ec083d1349f7a",
   "outputs": [
    {
     "data": {
      "text/plain": [
       "(300, 300, 100, 100)"
      ]
     },
     "execution_count": 266,
     "metadata": {},
     "output_type": "execute_result"
    }
   ],
   "execution_count": 266
  },
  {
   "metadata": {
    "ExecuteTime": {
     "end_time": "2024-06-12T10:55:30.983165Z",
     "start_time": "2024-06-12T10:55:30.968163Z"
    }
   },
   "cell_type": "code",
   "source": [
    "def plot(train_data = X_train, train_labels = y_train, test_data = X_test, test_labels = y_test, predictions = None):\n",
    "    plt.figure(figsize = (12, 10))\n",
    "    \n",
    "    plt.scatter(train_data, train_labels, c='g', s=5, label=\"Training data\", )\n",
    "    plt.scatter(test_data, test_labels, c='r', s=5, label=\"Testing data\")\n",
    "    \n",
    "    if predictions is not None:\n",
    "        plt.scatter(test_data, predictions, c='y', s=5, label=\"Predictions\")\n",
    "        \n",
    "    plt.legend(prop={\"size\":12})"
   ],
   "id": "ab25a268a02007fa",
   "outputs": [],
   "execution_count": 267
  },
  {
   "metadata": {
    "ExecuteTime": {
     "end_time": "2024-06-12T10:55:31.123164Z",
     "start_time": "2024-06-12T10:55:30.984164Z"
    }
   },
   "cell_type": "code",
   "source": "plot()",
   "id": "bf96b2f83005e90e",
   "outputs": [
    {
     "data": {
      "text/plain": [
       "<Figure size 1200x1000 with 1 Axes>"
      ],
      "image/png": "[encoded data removed]"
     },
     "metadata": {},
     "output_type": "display_data"
    }
   ],
   "execution_count": 268
  },
  {
   "metadata": {
    "ExecuteTime": {
     "end_time": "2024-06-12T10:55:31.139161Z",
     "start_time": "2024-06-12T10:55:31.124164Z"
    }
   },
   "cell_type": "code",
   "source": [
    "class LRM(nn.Module):\n",
    "    def __init__(self):\n",
    "        super().__init__()\n",
    "        \n",
    "        self.weights = nn.Parameter(torch.randn(1, dtype = torch.float), requires_grad = True)\n",
    "\n",
    "        self.bias = nn.Parameter(torch.randn(1, dtype=torch.float), requires_grad=True)\n",
    "        \n",
    "    def forward(self, x: torch.Tensor) -> torch.Tensor:\n",
    "        return self.weights * x + self.bias"
   ],
   "id": "dde8b3b5fac44a64",
   "outputs": [],
   "execution_count": 269
  },
  {
   "metadata": {
    "ExecuteTime": {
     "end_time": "2024-06-12T10:55:31.155161Z",
     "start_time": "2024-06-12T10:55:31.140164Z"
    }
   },
   "cell_type": "code",
   "source": [
    "torch.manual_seed(690)\n",
    "\n",
    "model = LRM()\n",
    "\n",
    "model.state_dict(), list(model.parameters())"
   ],
   "id": "7a9a5965b1b679f4",
   "outputs": [
    {
     "data": {
      "text/plain": [
       "(OrderedDict([('weights', tensor([1.3140])), ('bias', tensor([0.3418]))]),\n",
       " [Parameter containing:\n",
       "  tensor([1.3140], requires_grad=True),\n",
       "  Parameter containing:\n",
       "  tensor([0.3418], requires_grad=True)])"
      ]
     },
     "execution_count": 270,
     "metadata": {},
     "output_type": "execute_result"
    }
   ],
   "execution_count": 270
  },
  {
   "metadata": {
    "ExecuteTime": {
     "end_time": "2024-06-12T10:55:31.171161Z",
     "start_time": "2024-06-12T10:55:31.156165Z"
    }
   },
   "cell_type": "code",
   "source": [
    "with torch.inference_mode():\n",
    "    y_preds= model(X_test)\n",
    "y_preds"
   ],
   "id": "75875f14ef5f4024",
   "outputs": [
    {
     "data": {
      "text/plain": [
       "tensor([[2.3128],\n",
       "        [2.3194],\n",
       "        [2.3259],\n",
       "        [2.3325],\n",
       "        [2.3391],\n",
       "        [2.3456],\n",
       "        [2.3522],\n",
       "        [2.3588],\n",
       "        [2.3653],\n",
       "        [2.3719],\n",
       "        [2.3785],\n",
       "        [2.3851],\n",
       "        [2.3916],\n",
       "        [2.3982],\n",
       "        [2.4048],\n",
       "        [2.4113],\n",
       "        [2.4179],\n",
       "        [2.4245],\n",
       "        [2.4310],\n",
       "        [2.4376],\n",
       "        [2.4442],\n",
       "        [2.4508],\n",
       "        [2.4573],\n",
       "        [2.4639],\n",
       "        [2.4705],\n",
       "        [2.4770],\n",
       "        [2.4836],\n",
       "        [2.4902],\n",
       "        [2.4967],\n",
       "        [2.5033],\n",
       "        [2.5099],\n",
       "        [2.5165],\n",
       "        [2.5230],\n",
       "        [2.5296],\n",
       "        [2.5362],\n",
       "        [2.5427],\n",
       "        [2.5493],\n",
       "        [2.5559],\n",
       "        [2.5624],\n",
       "        [2.5690],\n",
       "        [2.5756],\n",
       "        [2.5822],\n",
       "        [2.5887],\n",
       "        [2.5953],\n",
       "        [2.6019],\n",
       "        [2.6084],\n",
       "        [2.6150],\n",
       "        [2.6216],\n",
       "        [2.6281],\n",
       "        [2.6347],\n",
       "        [2.6413],\n",
       "        [2.6479],\n",
       "        [2.6544],\n",
       "        [2.6610],\n",
       "        [2.6676],\n",
       "        [2.6741],\n",
       "        [2.6807],\n",
       "        [2.6873],\n",
       "        [2.6938],\n",
       "        [2.7004],\n",
       "        [2.7070],\n",
       "        [2.7136],\n",
       "        [2.7201],\n",
       "        [2.7267],\n",
       "        [2.7333],\n",
       "        [2.7398],\n",
       "        [2.7464],\n",
       "        [2.7530],\n",
       "        [2.7595],\n",
       "        [2.7661],\n",
       "        [2.7727],\n",
       "        [2.7792],\n",
       "        [2.7858],\n",
       "        [2.7924],\n",
       "        [2.7990],\n",
       "        [2.8055],\n",
       "        [2.8121],\n",
       "        [2.8187],\n",
       "        [2.8252],\n",
       "        [2.8318],\n",
       "        [2.8384],\n",
       "        [2.8449],\n",
       "        [2.8515],\n",
       "        [2.8581],\n",
       "        [2.8647],\n",
       "        [2.8712],\n",
       "        [2.8778],\n",
       "        [2.8844],\n",
       "        [2.8909],\n",
       "        [2.8975],\n",
       "        [2.9041],\n",
       "        [2.9106],\n",
       "        [2.9172],\n",
       "        [2.9238],\n",
       "        [2.9304],\n",
       "        [2.9369],\n",
       "        [2.9435],\n",
       "        [2.9501],\n",
       "        [2.9566],\n",
       "        [2.9632]])"
      ]
     },
     "execution_count": 271,
     "metadata": {},
     "output_type": "execute_result"
    }
   ],
   "execution_count": 271
  },
  {
   "metadata": {
    "ExecuteTime": {
     "end_time": "2024-06-12T10:55:31.342161Z",
     "start_time": "2024-06-12T10:55:31.172162Z"
    }
   },
   "cell_type": "code",
   "source": "plot(predictions=y_preds)",
   "id": "76e0ed821570286",
   "outputs": [
    {
     "data": {
      "text/plain": [
       "<Figure size 1200x1000 with 1 Axes>"
      ],
      "image/png": "[encoded data removed]"
     },
     "metadata": {},
     "output_type": "display_data"
    }
   ],
   "execution_count": 272
  },
  {
   "metadata": {
    "ExecuteTime": {
     "end_time": "2024-06-12T10:55:31.357161Z",
     "start_time": "2024-06-12T10:55:31.343164Z"
    }
   },
   "cell_type": "code",
   "source": [
    "loss_fn = torch.nn.L1Loss()\n",
    "lr= 0.01\n",
    "optimizer = torch.optim.Adam(params=model.parameters(), lr=lr)"
   ],
   "id": "17bdfbaf2b2e3b87",
   "outputs": [],
   "execution_count": 273
  },
  {
   "metadata": {
    "ExecuteTime": {
     "end_time": "2024-06-12T10:55:31.659162Z",
     "start_time": "2024-06-12T10:55:31.359162Z"
    }
   },
   "cell_type": "code",
   "source": [
    "torch.manual_seed(35525)\n",
    "epochs = 600\n",
    "\n",
    "loss_values = []\n",
    "test_loss_values = []\n",
    "epoch_count = []\n",
    "\n",
    "for epoch in range(epochs):\n",
    "    model.train()\n",
    "    y_pred = model(X_train)\n",
    "    loss = loss_fn(y_pred, y_train)\n",
    "    optimizer.zero_grad()\n",
    "    loss.backward()\n",
    "    optimizer.step()\n",
    "    \n",
    "    model.eval()\n",
    "    with torch.inference_mode():\n",
    "        y_test_pred = model(X_test)\n",
    "        test_loss = loss_fn(y_test_pred, y_test)\n",
    "        \n",
    "        if epoch % 10 == 0:\n",
    "            epoch_count.append(epoch)\n",
    "            loss_values.append(loss.detach().numpy())\n",
    "            test_loss_values.append(test_loss.detach().numpy())\n",
    "            print(f\"Epoch: {epoch} | Train loss: {loss} | Test loss: {test_loss}\")"
   ],
   "id": "e024550508c31b93",
   "outputs": [
    {
     "name": "stdout",
     "output_type": "stream",
     "text": [
      "Epoch: 0 | Train loss: 2.5224926471710205 | Test loss: 2.5810294151306152\n",
      "Epoch: 10 | Train loss: 2.347742795944214 | Test loss: 2.306279182434082\n",
      "Epoch: 20 | Train loss: 2.1729931831359863 | Test loss: 2.031529664993286\n",
      "Epoch: 30 | Train loss: 1.9982432126998901 | Test loss: 1.7567799091339111\n",
      "Epoch: 40 | Train loss: 1.823493242263794 | Test loss: 1.4820301532745361\n",
      "Epoch: 50 | Train loss: 1.6487435102462769 | Test loss: 1.2072803974151611\n",
      "Epoch: 60 | Train loss: 1.4739935398101807 | Test loss: 0.9325307607650757\n",
      "Epoch: 70 | Train loss: 1.2992438077926636 | Test loss: 0.6577808856964111\n",
      "Epoch: 80 | Train loss: 1.124493956565857 | Test loss: 0.3830312490463257\n",
      "Epoch: 90 | Train loss: 0.9497440457344055 | Test loss: 0.1314540058374405\n",
      "Epoch: 100 | Train loss: 0.7749941945075989 | Test loss: 0.17548111081123352\n",
      "Epoch: 110 | Train loss: 0.6190764307975769 | Test loss: 0.4334878623485565\n",
      "Epoch: 120 | Train loss: 0.5377007126808167 | Test loss: 0.6424693465232849\n",
      "Epoch: 130 | Train loss: 0.49980610609054565 | Test loss: 0.7780055403709412\n",
      "Epoch: 140 | Train loss: 0.4793596863746643 | Test loss: 0.8553292751312256\n",
      "Epoch: 150 | Train loss: 0.46503975987434387 | Test loss: 0.8929475545883179\n",
      "Epoch: 160 | Train loss: 0.45257654786109924 | Test loss: 0.9046468138694763\n",
      "Epoch: 170 | Train loss: 0.4404710829257965 | Test loss: 0.8999698758125305\n",
      "Epoch: 180 | Train loss: 0.4282182455062866 | Test loss: 0.8852345943450928\n",
      "Epoch: 190 | Train loss: 0.4156742990016937 | Test loss: 0.8642768263816833\n",
      "Epoch: 200 | Train loss: 0.40280425548553467 | Test loss: 0.8394887447357178\n",
      "Epoch: 210 | Train loss: 0.38960933685302734 | Test loss: 0.8128882646560669\n",
      "Epoch: 220 | Train loss: 0.3760988712310791 | Test loss: 0.7852414846420288\n",
      "Epoch: 230 | Train loss: 0.3622812032699585 | Test loss: 0.7562462687492371\n",
      "Epoch: 240 | Train loss: 0.34816306829452515 | Test loss: 0.7267014384269714\n",
      "Epoch: 250 | Train loss: 0.3337511122226715 | Test loss: 0.6963604092597961\n",
      "Epoch: 260 | Train loss: 0.3190515339374542 | Test loss: 0.6654462218284607\n",
      "Epoch: 270 | Train loss: 0.30407026410102844 | Test loss: 0.6340621113777161\n",
      "Epoch: 280 | Train loss: 0.28881290555000305 | Test loss: 0.6020705699920654\n",
      "Epoch: 290 | Train loss: 0.2732846736907959 | Test loss: 0.5694788694381714\n",
      "Epoch: 300 | Train loss: 0.2574906051158905 | Test loss: 0.5363143682479858\n",
      "Epoch: 310 | Train loss: 0.24143560230731964 | Test loss: 0.5025766491889954\n",
      "Epoch: 320 | Train loss: 0.2251240313053131 | Test loss: 0.4683597981929779\n",
      "Epoch: 330 | Train loss: 0.20856043696403503 | Test loss: 0.43354856967926025\n",
      "Epoch: 340 | Train loss: 0.19174884259700775 | Test loss: 0.3983052968978882\n",
      "Epoch: 350 | Train loss: 0.1746932715177536 | Test loss: 0.36253082752227783\n",
      "Epoch: 360 | Train loss: 0.15739770233631134 | Test loss: 0.32620665431022644\n",
      "Epoch: 370 | Train loss: 0.1398656964302063 | Test loss: 0.28943753242492676\n",
      "Epoch: 380 | Train loss: 0.12210097908973694 | Test loss: 0.2521265149116516\n",
      "Epoch: 390 | Train loss: 0.1041068434715271 | Test loss: 0.21441344916820526\n",
      "Epoch: 400 | Train loss: 0.0858866348862648 | Test loss: 0.1761208325624466\n",
      "Epoch: 410 | Train loss: 0.06744363158941269 | Test loss: 0.13739322125911713\n",
      "Epoch: 420 | Train loss: 0.048780906945466995 | Test loss: 0.09816817194223404\n",
      "Epoch: 430 | Train loss: 0.029901130124926567 | Test loss: 0.05866582691669464\n",
      "Epoch: 440 | Train loss: 0.010807770304381847 | Test loss: 0.01862657070159912\n",
      "Epoch: 450 | Train loss: 0.0049908701330423355 | Test loss: 0.011106410063803196\n",
      "Epoch: 460 | Train loss: 0.00047723372699692845 | Test loss: 0.0011823511449620128\n",
      "Epoch: 470 | Train loss: 0.00028555869357660413 | Test loss: 0.0029860781505703926\n",
      "Epoch: 480 | Train loss: 0.003405586816370487 | Test loss: 0.006506066303700209\n",
      "Epoch: 490 | Train loss: 0.001558468327857554 | Test loss: 0.006132021080702543\n",
      "Epoch: 500 | Train loss: 0.0027164092753082514 | Test loss: 0.00851189624518156\n",
      "Epoch: 510 | Train loss: 0.005015103612095118 | Test loss: 0.004683732986450195\n",
      "Epoch: 520 | Train loss: 0.0009435677784495056 | Test loss: 0.006328906863927841\n",
      "Epoch: 530 | Train loss: 0.00040780624840408564 | Test loss: 0.0024013423826545477\n",
      "Epoch: 540 | Train loss: 0.002008038340136409 | Test loss: 0.006462359335273504\n",
      "Epoch: 550 | Train loss: 0.002551152603700757 | Test loss: 0.003480296116322279\n",
      "Epoch: 560 | Train loss: 0.00045867441804148257 | Test loss: 0.0006721162935718894\n",
      "Epoch: 570 | Train loss: 0.002290189266204834 | Test loss: 0.0018634843872860074\n",
      "Epoch: 580 | Train loss: 0.0037849268410354853 | Test loss: 0.0006263351533561945\n",
      "Epoch: 590 | Train loss: 0.004602207336574793 | Test loss: 0.0063330079428851604\n"
     ]
    }
   ],
   "execution_count": 274
  },
  {
   "metadata": {
    "ExecuteTime": {
     "end_time": "2024-06-12T10:55:31.784162Z",
     "start_time": "2024-06-12T10:55:31.660164Z"
    }
   },
   "cell_type": "code",
   "source": [
    "plt.figure(figsize = (10, 8))\n",
    "plt.plot(epoch_count, loss_values, label=\"Train Loss\", c='r')\n",
    "plt.plot(epoch_count, test_loss_values, label=\"Test loss\", c='g')\n",
    "plt.title(\"Training & Test loss curves\")\n",
    "plt.xlabel(\"Epochs\")\n",
    "plt.ylabel(\"Loss\")\n",
    "plt.legend(prop={\"size\": 15})"
   ],
   "id": "252d9d14bab8c51c",
   "outputs": [
    {
     "data": {
      "text/plain": [
       "<matplotlib.legend.Legend at 0x2a876694af0>"
      ]
     },
     "execution_count": 275,
     "metadata": {},
     "output_type": "execute_result"
    },
    {
     "data": {
      "text/plain": [
       "<Figure size 1000x800 with 1 Axes>"
      ],
      "image/png": "[encoded data removed]"
     },
     "metadata": {},
     "output_type": "display_data"
    }
   ],
   "execution_count": 275
  },
  {
   "metadata": {
    "ExecuteTime": {
     "end_time": "2024-06-12T10:55:31.800162Z",
     "start_time": "2024-06-12T10:55:31.785162Z"
    }
   },
   "cell_type": "code",
   "source": [
    "print(weight, bias)\n",
    "print(model.state_dict())"
   ],
   "id": "1c94f58df6d502d5",
   "outputs": [
    {
     "name": "stdout",
     "output_type": "stream",
     "text": [
      "1.4 2.8\n",
      "OrderedDict([('weights', tensor([1.4002])), ('bias', tensor([2.7996]))])\n"
     ]
    }
   ],
   "execution_count": 276
  },
  {
   "metadata": {
    "ExecuteTime": {
     "end_time": "2024-06-12T10:55:31.815162Z",
     "start_time": "2024-06-12T10:55:31.801165Z"
    }
   },
   "cell_type": "code",
   "source": [
    "model.eval()\n",
    "with torch.inference_mode():\n",
    "    y_pred_new = model(X_test)\n",
    "y_pred_new"
   ],
   "id": "c26d7ecb46d742fe",
   "outputs": [
    {
     "data": {
      "text/plain": [
       "tensor([[4.8998],\n",
       "        [4.9068],\n",
       "        [4.9138],\n",
       "        [4.9208],\n",
       "        [4.9278],\n",
       "        [4.9348],\n",
       "        [4.9418],\n",
       "        [4.9488],\n",
       "        [4.9558],\n",
       "        [4.9628],\n",
       "        [4.9698],\n",
       "        [4.9768],\n",
       "        [4.9838],\n",
       "        [4.9908],\n",
       "        [4.9978],\n",
       "        [5.0048],\n",
       "        [5.0118],\n",
       "        [5.0188],\n",
       "        [5.0258],\n",
       "        [5.0328],\n",
       "        [5.0398],\n",
       "        [5.0468],\n",
       "        [5.0538],\n",
       "        [5.0608],\n",
       "        [5.0678],\n",
       "        [5.0748],\n",
       "        [5.0818],\n",
       "        [5.0888],\n",
       "        [5.0958],\n",
       "        [5.1028],\n",
       "        [5.1098],\n",
       "        [5.1168],\n",
       "        [5.1238],\n",
       "        [5.1308],\n",
       "        [5.1378],\n",
       "        [5.1448],\n",
       "        [5.1518],\n",
       "        [5.1588],\n",
       "        [5.1658],\n",
       "        [5.1728],\n",
       "        [5.1798],\n",
       "        [5.1869],\n",
       "        [5.1939],\n",
       "        [5.2009],\n",
       "        [5.2079],\n",
       "        [5.2149],\n",
       "        [5.2219],\n",
       "        [5.2289],\n",
       "        [5.2359],\n",
       "        [5.2429],\n",
       "        [5.2499],\n",
       "        [5.2569],\n",
       "        [5.2639],\n",
       "        [5.2709],\n",
       "        [5.2779],\n",
       "        [5.2849],\n",
       "        [5.2919],\n",
       "        [5.2989],\n",
       "        [5.3059],\n",
       "        [5.3129],\n",
       "        [5.3199],\n",
       "        [5.3269],\n",
       "        [5.3339],\n",
       "        [5.3409],\n",
       "        [5.3479],\n",
       "        [5.3549],\n",
       "        [5.3619],\n",
       "        [5.3689],\n",
       "        [5.3759],\n",
       "        [5.3829],\n",
       "        [5.3899],\n",
       "        [5.3969],\n",
       "        [5.4039],\n",
       "        [5.4109],\n",
       "        [5.4179],\n",
       "        [5.4249],\n",
       "        [5.4319],\n",
       "        [5.4389],\n",
       "        [5.4459],\n",
       "        [5.4529],\n",
       "        [5.4599],\n",
       "        [5.4669],\n",
       "        [5.4739],\n",
       "        [5.4809],\n",
       "        [5.4879],\n",
       "        [5.4949],\n",
       "        [5.5019],\n",
       "        [5.5089],\n",
       "        [5.5159],\n",
       "        [5.5229],\n",
       "        [5.5299],\n",
       "        [5.5369],\n",
       "        [5.5439],\n",
       "        [5.5509],\n",
       "        [5.5579],\n",
       "        [5.5649],\n",
       "        [5.5719],\n",
       "        [5.5789],\n",
       "        [5.5859],\n",
       "        [5.5929]])"
      ]
     },
     "execution_count": 277,
     "metadata": {},
     "output_type": "execute_result"
    }
   ],
   "execution_count": 277
  },
  {
   "metadata": {
    "ExecuteTime": {
     "end_time": "2024-06-12T10:55:31.974162Z",
     "start_time": "2024-06-12T10:55:31.816162Z"
    }
   },
   "cell_type": "code",
   "source": "plot(predictions=y_pred_new)",
   "id": "987eea5d3aa076ab",
   "outputs": [
    {
     "data": {
      "text/plain": [
       "<Figure size 1200x1000 with 1 Axes>"
      ],
      "image/png": "[encoded data removed]"
     },
     "metadata": {},
     "output_type": "display_data"
    }
   ],
   "execution_count": 278
  },
  {
   "metadata": {
    "ExecuteTime": {
     "end_time": "2024-06-12T10:55:31.990161Z",
     "start_time": "2024-06-12T10:55:31.975162Z"
    }
   },
   "cell_type": "code",
   "source": [
    "from pathlib import Path\n",
    "\n",
    "model_path = Path(\"models\")\n",
    "model_path.mkdir(parents=True, exist_ok=True)\n",
    "\n",
    "model_save_path = model_path / \"chapter_1_practice_3_model.pth\"\n",
    "\n",
    "#torch.save(model.state_dict(), model_save_path)\n",
    "print(f\"Saving model to :{model_save_path}\")"
   ],
   "id": "52cd8021f7b16e82",
   "outputs": [
    {
     "name": "stdout",
     "output_type": "stream",
     "text": [
      "Saving model to :models\\chapter_1_practice_3_model.pth\n"
     ]
    }
   ],
   "execution_count": 279
  },
  {
   "metadata": {
    "ExecuteTime": {
     "end_time": "2024-06-12T10:55:32.006162Z",
     "start_time": "2024-06-12T10:55:31.991162Z"
    }
   },
   "cell_type": "code",
   "source": [
    "newModel = LRM()\n",
    "newModel.load_state_dict(torch.load(model_save_path))"
   ],
   "id": "95bdb823d36c62fc",
   "outputs": [
    {
     "data": {
      "text/plain": [
       "<All keys matched successfully>"
      ]
     },
     "execution_count": 280,
     "metadata": {},
     "output_type": "execute_result"
    }
   ],
   "execution_count": 280
  },
  {
   "metadata": {
    "ExecuteTime": {
     "end_time": "2024-06-12T10:55:32.022162Z",
     "start_time": "2024-06-12T10:55:32.007164Z"
    }
   },
   "cell_type": "code",
   "source": [
    "newModel.eval()\n",
    "with torch.inference_mode():\n",
    "    new_model_preds = newModel(X_test)\n",
    "new_model_preds"
   ],
   "id": "b9aa1debc2084cf5",
   "outputs": [
    {
     "data": {
      "text/plain": [
       "tensor([[4.8998],\n",
       "        [4.9068],\n",
       "        [4.9138],\n",
       "        [4.9208],\n",
       "        [4.9278],\n",
       "        [4.9348],\n",
       "        [4.9418],\n",
       "        [4.9488],\n",
       "        [4.9558],\n",
       "        [4.9628],\n",
       "        [4.9698],\n",
       "        [4.9768],\n",
       "        [4.9838],\n",
       "        [4.9908],\n",
       "        [4.9978],\n",
       "        [5.0048],\n",
       "        [5.0118],\n",
       "        [5.0188],\n",
       "        [5.0258],\n",
       "        [5.0328],\n",
       "        [5.0398],\n",
       "        [5.0468],\n",
       "        [5.0538],\n",
       "        [5.0608],\n",
       "        [5.0678],\n",
       "        [5.0748],\n",
       "        [5.0818],\n",
       "        [5.0888],\n",
       "        [5.0958],\n",
       "        [5.1028],\n",
       "        [5.1098],\n",
       "        [5.1168],\n",
       "        [5.1238],\n",
       "        [5.1308],\n",
       "        [5.1378],\n",
       "        [5.1448],\n",
       "        [5.1518],\n",
       "        [5.1588],\n",
       "        [5.1658],\n",
       "        [5.1728],\n",
       "        [5.1798],\n",
       "        [5.1869],\n",
       "        [5.1939],\n",
       "        [5.2009],\n",
       "        [5.2079],\n",
       "        [5.2149],\n",
       "        [5.2219],\n",
       "        [5.2289],\n",
       "        [5.2359],\n",
       "        [5.2429],\n",
       "        [5.2499],\n",
       "        [5.2569],\n",
       "        [5.2639],\n",
       "        [5.2709],\n",
       "        [5.2779],\n",
       "        [5.2849],\n",
       "        [5.2919],\n",
       "        [5.2989],\n",
       "        [5.3059],\n",
       "        [5.3129],\n",
       "        [5.3199],\n",
       "        [5.3269],\n",
       "        [5.3339],\n",
       "        [5.3409],\n",
       "        [5.3479],\n",
       "        [5.3549],\n",
       "        [5.3619],\n",
       "        [5.3689],\n",
       "        [5.3759],\n",
       "        [5.3829],\n",
       "        [5.3899],\n",
       "        [5.3969],\n",
       "        [5.4039],\n",
       "        [5.4109],\n",
       "        [5.4179],\n",
       "        [5.4249],\n",
       "        [5.4319],\n",
       "        [5.4389],\n",
       "        [5.4459],\n",
       "        [5.4529],\n",
       "        [5.4599],\n",
       "        [5.4669],\n",
       "        [5.4739],\n",
       "        [5.4809],\n",
       "        [5.4879],\n",
       "        [5.4949],\n",
       "        [5.5019],\n",
       "        [5.5089],\n",
       "        [5.5159],\n",
       "        [5.5229],\n",
       "        [5.5299],\n",
       "        [5.5369],\n",
       "        [5.5439],\n",
       "        [5.5509],\n",
       "        [5.5579],\n",
       "        [5.5649],\n",
       "        [5.5719],\n",
       "        [5.5789],\n",
       "        [5.5859],\n",
       "        [5.5929]])"
      ]
     },
     "execution_count": 281,
     "metadata": {},
     "output_type": "execute_result"
    }
   ],
   "execution_count": 281
  },
  {
   "metadata": {
    "ExecuteTime": {
     "end_time": "2024-06-12T10:55:32.038162Z",
     "start_time": "2024-06-12T10:55:32.023162Z"
    }
   },
   "cell_type": "code",
   "source": "new_model_preds == y_pred_new",
   "id": "803f8ce45e170ec",
   "outputs": [
    {
     "data": {
      "text/plain": [
       "tensor([[True],\n",
       "        [True],\n",
       "        [True],\n",
       "        [True],\n",
       "        [True],\n",
       "        [True],\n",
       "        [True],\n",
       "        [True],\n",
       "        [True],\n",
       "        [True],\n",
       "        [True],\n",
       "        [True],\n",
       "        [True],\n",
       "        [True],\n",
       "        [True],\n",
       "        [True],\n",
       "        [True],\n",
       "        [True],\n",
       "        [True],\n",
       "        [True],\n",
       "        [True],\n",
       "        [True],\n",
       "        [True],\n",
       "        [True],\n",
       "        [True],\n",
       "        [True],\n",
       "        [True],\n",
       "        [True],\n",
       "        [True],\n",
       "        [True],\n",
       "        [True],\n",
       "        [True],\n",
       "        [True],\n",
       "        [True],\n",
       "        [True],\n",
       "        [True],\n",
       "        [True],\n",
       "        [True],\n",
       "        [True],\n",
       "        [True],\n",
       "        [True],\n",
       "        [True],\n",
       "        [True],\n",
       "        [True],\n",
       "        [True],\n",
       "        [True],\n",
       "        [True],\n",
       "        [True],\n",
       "        [True],\n",
       "        [True],\n",
       "        [True],\n",
       "        [True],\n",
       "        [True],\n",
       "        [True],\n",
       "        [True],\n",
       "        [True],\n",
       "        [True],\n",
       "        [True],\n",
       "        [True],\n",
       "        [True],\n",
       "        [True],\n",
       "        [True],\n",
       "        [True],\n",
       "        [True],\n",
       "        [True],\n",
       "        [True],\n",
       "        [True],\n",
       "        [True],\n",
       "        [True],\n",
       "        [True],\n",
       "        [True],\n",
       "        [True],\n",
       "        [True],\n",
       "        [True],\n",
       "        [True],\n",
       "        [True],\n",
       "        [True],\n",
       "        [True],\n",
       "        [True],\n",
       "        [True],\n",
       "        [True],\n",
       "        [True],\n",
       "        [True],\n",
       "        [True],\n",
       "        [True],\n",
       "        [True],\n",
       "        [True],\n",
       "        [True],\n",
       "        [True],\n",
       "        [True],\n",
       "        [True],\n",
       "        [True],\n",
       "        [True],\n",
       "        [True],\n",
       "        [True],\n",
       "        [True],\n",
       "        [True],\n",
       "        [True],\n",
       "        [True],\n",
       "        [True]])"
      ]
     },
     "execution_count": 282,
     "metadata": {},
     "output_type": "execute_result"
    }
   ],
   "execution_count": 282
  },
  {
   "metadata": {},
   "cell_type": "code",
   "outputs": [],
   "execution_count": null,
   "source": "",
   "id": "c266980bf7cce279"
  },
  {
   "metadata": {
    "ExecuteTime": {
     "end_time": "2024-06-12T11:13:43.440040Z",
     "start_time": "2024-06-12T11:13:43.426040Z"
    }
   },
   "cell_type": "code",
   "source": [
    "device = \"xpu\" if torch.xpu.is_available() else \"cpu\"\n",
    "device"
   ],
   "id": "d3269eb28542b663",
   "outputs": [
    {
     "data": {
      "text/plain": [
       "'xpu'"
      ]
     },
     "execution_count": 414,
     "metadata": {},
     "output_type": "execute_result"
    }
   ],
   "execution_count": 414
  },
  {
   "metadata": {
    "ExecuteTime": {
     "end_time": "2024-06-12T11:13:43.612040Z",
     "start_time": "2024-06-12T11:13:43.604040Z"
    }
   },
   "cell_type": "code",
   "source": [
    "weight = 48\n",
    "bias = 198\n",
    "\n",
    "start = -10\n",
    "end = 10\n",
    "step = 0.0001\n",
    "\n",
    "A = torch.arange(start, end, step).unsqueeze(dim=1) \n",
    "#y = weight * X**2 + bias\n",
    "B = weight * A + bias\n",
    "A.shape, B.shape"
   ],
   "id": "7f52eec9fba92bd7",
   "outputs": [
    {
     "data": {
      "text/plain": [
       "(torch.Size([200000, 1]), torch.Size([200000, 1]))"
      ]
     },
     "execution_count": 415,
     "metadata": {},
     "output_type": "execute_result"
    }
   ],
   "execution_count": 415
  },
  {
   "metadata": {
    "ExecuteTime": {
     "end_time": "2024-06-12T11:13:43.816040Z",
     "start_time": "2024-06-12T11:13:43.811040Z"
    }
   },
   "cell_type": "code",
   "source": [
    "train_split = int (0.75 * len(A))\n",
    "A_train, B_train, A_test, B_test = A[:train_split], B[:train_split], A[train_split:], B[train_split:]\n",
    "len(A_train), len(B_train), len(A_test), len(B_test) "
   ],
   "id": "df29069260964a31",
   "outputs": [
    {
     "data": {
      "text/plain": [
       "(150000, 150000, 50000, 50000)"
      ]
     },
     "execution_count": 416,
     "metadata": {},
     "output_type": "execute_result"
    }
   ],
   "execution_count": 416
  },
  {
   "metadata": {
    "ExecuteTime": {
     "end_time": "2024-06-12T11:13:47.057575Z",
     "start_time": "2024-06-12T11:13:44.106040Z"
    }
   },
   "cell_type": "code",
   "source": "plot(A_train, B_train, A_test, B_test)",
   "id": "b785e88ea2ff2bf6",
   "outputs": [
    {
     "data": {
      "text/plain": [
       "<Figure size 1200x1000 with 1 Axes>"
      ],
      "image/png": "[encoded data removed]"
     },
     "metadata": {},
     "output_type": "display_data"
    }
   ],
   "execution_count": 417
  },
  {
   "metadata": {
    "ExecuteTime": {
     "end_time": "2024-06-12T11:13:47.073576Z",
     "start_time": "2024-06-12T11:13:47.059576Z"
    }
   },
   "cell_type": "code",
   "source": [
    "class LRM2(nn.Module):\n",
    "    def __init__(self):\n",
    "        super().__init__()\n",
    "        self.linear_layer = nn.Linear(in_features=1, out_features=1)\n",
    "        #self.bilinear_layer = nn.Bilinear(1, 1, 1)\n",
    "        \n",
    "    def forward(self, x: torch.Tensor) -> torch.Tensor:\n",
    "        return self.linear_layer(x)\n",
    "        \n",
    "    #def forward(self, x1: torch.Tensor, x2: torch.tensor) -> (torch.Tensor, torch.Tensor):\n",
    "        #return self.bilinear_layer(x1, x2)"
   ],
   "id": "206b02e4c9ec5662",
   "outputs": [],
   "execution_count": 418
  },
  {
   "metadata": {
    "ExecuteTime": {
     "end_time": "2024-06-12T11:13:47.089574Z",
     "start_time": "2024-06-12T11:13:47.074575Z"
    }
   },
   "cell_type": "code",
   "source": [
    "torch.manual_seed(636)\n",
    "model_0 = LRM2()\n",
    "model_0, model_0.state_dict()"
   ],
   "id": "8c074289bce5f057",
   "outputs": [
    {
     "data": {
      "text/plain": [
       "(LRM2(\n",
       "   (linear_layer): Linear(in_features=1, out_features=1, bias=True)\n",
       " ),\n",
       " OrderedDict([('linear_layer.weight', tensor([[-0.7967]])),\n",
       "              ('linear_layer.bias', tensor([-0.0739]))]))"
      ]
     },
     "execution_count": 419,
     "metadata": {},
     "output_type": "execute_result"
    }
   ],
   "execution_count": 419
  },
  {
   "metadata": {
    "ExecuteTime": {
     "end_time": "2024-06-12T11:13:47.104574Z",
     "start_time": "2024-06-12T11:13:47.090575Z"
    }
   },
   "cell_type": "code",
   "source": "next(model_0.parameters()).device",
   "id": "ea1e6b0d4d259414",
   "outputs": [
    {
     "data": {
      "text/plain": [
       "device(type='cpu')"
      ]
     },
     "execution_count": 420,
     "metadata": {},
     "output_type": "execute_result"
    }
   ],
   "execution_count": 420
  },
  {
   "metadata": {
    "ExecuteTime": {
     "end_time": "2024-06-12T11:13:47.119575Z",
     "start_time": "2024-06-12T11:13:47.105575Z"
    }
   },
   "cell_type": "code",
   "source": [
    "model_0.to(device)\n",
    "next(model_0.parameters()).device"
   ],
   "id": "b248c56b5f1d8aee",
   "outputs": [
    {
     "data": {
      "text/plain": [
       "device(type='xpu', index=0)"
      ]
     },
     "execution_count": 421,
     "metadata": {},
     "output_type": "execute_result"
    }
   ],
   "execution_count": 421
  },
  {
   "metadata": {
    "ExecuteTime": {
     "end_time": "2024-06-12T11:13:47.134575Z",
     "start_time": "2024-06-12T11:13:47.120575Z"
    }
   },
   "cell_type": "code",
   "source": [
    "loss_fn = torch.nn.MSELoss()\n",
    "lr = 0.01\n",
    "optimizer = torch.optim.SGD(params=model_0.parameters(), lr=lr)\n",
    "\n",
    "loss_fn = loss_fn.to(device)\n",
    "#model_0, optimizer = ipex.optimize(model_0, optimizer=optimizer)"
   ],
   "id": "369ed75eb076d1a8",
   "outputs": [],
   "execution_count": 422
  },
  {
   "metadata": {
    "ExecuteTime": {
     "end_time": "2024-06-12T11:13:47.150576Z",
     "start_time": "2024-06-12T11:13:47.135575Z"
    }
   },
   "cell_type": "code",
   "source": [
    "A_train = A_train.to(device)\n",
    "B_train = B_train.to(device)\n",
    "A_test = A_test.to(device)\n",
    "B_test = B_test.to(device)\n",
    "\n",
    "A_train.device, B_train.device, A_test.device, B_test.device"
   ],
   "id": "ef7e3b41318aac64",
   "outputs": [
    {
     "data": {
      "text/plain": [
       "(device(type='xpu', index=0),\n",
       " device(type='xpu', index=0),\n",
       " device(type='xpu', index=0),\n",
       " device(type='xpu', index=0))"
      ]
     },
     "execution_count": 423,
     "metadata": {},
     "output_type": "execute_result"
    }
   ],
   "execution_count": 423
  },
  {
   "metadata": {
    "ExecuteTime": {
     "end_time": "2024-06-12T11:13:48.988640Z",
     "start_time": "2024-06-12T11:13:48.967641Z"
    }
   },
   "cell_type": "code",
   "source": "model_0.state_dict()",
   "id": "431f6a9165f66571",
   "outputs": [
    {
     "data": {
      "text/plain": [
       "OrderedDict([('linear_layer.weight', tensor([[-0.7967]], device='xpu:0')),\n",
       "             ('linear_layer.bias', tensor([-0.0739], device='xpu:0'))])"
      ]
     },
     "execution_count": 424,
     "metadata": {},
     "output_type": "execute_result"
    }
   ],
   "execution_count": 424
  },
  {
   "metadata": {
    "ExecuteTime": {
     "end_time": "2024-06-12T11:13:51.326652Z",
     "start_time": "2024-06-12T11:13:49.592642Z"
    }
   },
   "cell_type": "code",
   "source": [
    "torch.manual_seed(472)\n",
    "epochs = 1000\n",
    "\n",
    "for epoch in range(epochs):\n",
    "    model_0.train()\n",
    "    b_pred = model_0(A_train)\n",
    "    loss = loss_fn(b_pred, B_train)\n",
    "    optimizer.zero_grad()\n",
    "    loss.backward()\n",
    "    optimizer.step()\n",
    "    \n",
    "    model_0.eval()\n",
    "    with torch.inference_mode():\n",
    "        test_pred = model_0(A_test)\n",
    "        test_loss = loss_fn(test_pred, B_test)\n",
    "        \n",
    "    if epoch % 100 == 0:\n",
    "        print(f\"Epoch: {epoch} | Train loss: {loss} | Test loss; {test_loss}\")"
   ],
   "id": "fdda97ca69cb2ec9",
   "outputs": [
    {
     "name": "stdout",
     "output_type": "stream",
     "text": [
      "Epoch: 0 | Train loss: 50434.12890625 | Test loss; 208400.015625\n",
      "Epoch: 100 | Train loss: 1521.2464599609375 | Test loss; 6229.5458984375\n",
      "Epoch: 200 | Train loss: 76.37539672851562 | Test loss; 312.75885009765625\n",
      "Epoch: 300 | Train loss: 3.8344783782958984 | Test loss; 15.702207565307617\n",
      "Epoch: 400 | Train loss: 0.19249972701072693 | Test loss; 0.7882823348045349\n",
      "Epoch: 500 | Train loss: 0.009671561419963837 | Test loss; 0.03960838168859482\n",
      "Epoch: 600 | Train loss: 0.00048540160059928894 | Test loss; 0.001987385330721736\n",
      "Epoch: 700 | Train loss: 2.4303504687850364e-05 | Test loss; 9.96784947346896e-05\n",
      "Epoch: 800 | Train loss: 1.3223673249740386e-06 | Test loss; 5.391103059082525e-06\n",
      "Epoch: 900 | Train loss: 1.9052977506817115e-07 | Test loss; 8.239483690886118e-07\n"
     ]
    }
   ],
   "execution_count": 425
  },
  {
   "metadata": {
    "ExecuteTime": {
     "end_time": "2024-06-12T11:14:58.061751Z",
     "start_time": "2024-06-12T11:14:58.037736Z"
    }
   },
   "cell_type": "code",
   "source": [
    "print(f\"New models parameters: {model_0.state_dict()}\")\n",
    "print(f\"Weight: {weight} & bias: {bias}\")"
   ],
   "id": "31025a474fd2c7fe",
   "outputs": [
    {
     "name": "stdout",
     "output_type": "stream",
     "text": [
      "New models parameters: OrderedDict([('linear_layer.weight', tensor([[47.9999]], device='xpu:0')), ('linear_layer.bias', tensor([197.9995], device='xpu:0'))])\n",
      "Weight: 48 & bias: 198\n"
     ]
    }
   ],
   "execution_count": 426
  },
  {
   "metadata": {
    "ExecuteTime": {
     "end_time": "2024-06-12T11:16:20.158208Z",
     "start_time": "2024-06-12T11:16:20.143210Z"
    }
   },
   "cell_type": "code",
   "source": [
    "model_0.eval()\n",
    "with torch.inference_mode():\n",
    "    b_preds = model_0(A_test)\n",
    "b_preds"
   ],
   "id": "bcf7ae1112d18bac",
   "outputs": [
    {
     "data": {
      "text/plain": [
       "tensor([[437.9992],\n",
       "        [438.0040],\n",
       "        [438.0088],\n",
       "        ...,\n",
       "        [677.9846],\n",
       "        [677.9894],\n",
       "        [677.9941]], device='xpu:0')"
      ]
     },
     "execution_count": 428,
     "metadata": {},
     "output_type": "execute_result"
    }
   ],
   "execution_count": 428
  },
  {
   "metadata": {
    "ExecuteTime": {
     "end_time": "2024-06-12T11:17:26.118139Z",
     "start_time": "2024-06-12T11:17:22.744804Z"
    }
   },
   "cell_type": "code",
   "source": "plot(A_train.cpu(), B_train.cpu(), A_test.cpu(), B_test.cpu(), predictions = b_preds.cpu())",
   "id": "7b20b0a6b680bcd2",
   "outputs": [
    {
     "data": {
      "text/plain": [
       "<Figure size 1200x1000 with 1 Axes>"
      ],
      "image/png": "[encoded data removed]"
     },
     "metadata": {},
     "output_type": "display_data"
    }
   ],
   "execution_count": 432
  },
  {
   "metadata": {
    "ExecuteTime": {
     "end_time": "2024-06-12T11:18:56.279376Z",
     "start_time": "2024-06-12T11:18:56.261340Z"
    }
   },
   "cell_type": "code",
   "source": [
    "from saveModel import save_model\n",
    "\n",
    "save_model(model_0, \"chapter_1_practice_3_model_0.pth\")"
   ],
   "id": "323f1066f1bf8726",
   "outputs": [
    {
     "name": "stdout",
     "output_type": "stream",
     "text": [
      "models\\chapter_1_practice_3_model_0.pth\n",
      "Saving model to: models\\chapter_1_practice_3_model_0.pth\n"
     ]
    }
   ],
   "execution_count": 434
  },
  {
   "metadata": {
    "ExecuteTime": {
     "end_time": "2024-06-12T11:21:01.442717Z",
     "start_time": "2024-06-12T11:21:01.434653Z"
    }
   },
   "cell_type": "code",
   "source": [
    "loadedModel = LRM2()\n",
    "\n",
    "loadedModel.load_state_dict(torch.load('models/chapter_1_practice_3_model_0.pth'))\n",
    "\n",
    "loadedModel.to(device)"
   ],
   "id": "88b4870705ac3096",
   "outputs": [
    {
     "data": {
      "text/plain": [
       "LRM2(\n",
       "  (linear_layer): Linear(in_features=1, out_features=1, bias=True)\n",
       ")"
      ]
     },
     "execution_count": 437,
     "metadata": {},
     "output_type": "execute_result"
    }
   ],
   "execution_count": 437
  },
  {
   "metadata": {
    "ExecuteTime": {
     "end_time": "2024-06-12T11:22:06.671917Z",
     "start_time": "2024-06-12T11:22:06.624900Z"
    }
   },
   "cell_type": "code",
   "source": [
    "loadedModel.eval()\n",
    "with torch.inference_mode():\n",
    "    preds_new = loadedModel(A_test)\n",
    "preds_new == b_preds"
   ],
   "id": "7d4ebd6f38388874",
   "outputs": [
    {
     "data": {
      "text/plain": [
       "tensor([[True],\n",
       "        [True],\n",
       "        [True],\n",
       "        ...,\n",
       "        [True],\n",
       "        [True],\n",
       "        [True]], device='xpu:0')"
      ]
     },
     "execution_count": 438,
     "metadata": {},
     "output_type": "execute_result"
    }
   ],
   "execution_count": 438
  }
 ],
 "metadata": {
  "kernelspec": {
   "display_name": "Python 3",
   "language": "python",
   "name": "python3"
  },
  "language_info": {
   "codemirror_mode": {
    "name": "ipython",
    "version": 2
   },
   "file_extension": ".py",
   "mimetype": "text/x-python",
   "name": "python",
   "nbconvert_exporter": "python",
   "pygments_lexer": "ipython2",
   "version": "2.7.6"
  }
 },
 "nbformat": 4,
 "nbformat_minor": 5
}

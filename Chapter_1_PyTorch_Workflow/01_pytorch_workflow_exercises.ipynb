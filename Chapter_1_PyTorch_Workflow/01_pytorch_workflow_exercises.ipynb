{
 "nbformat": 4,
 "nbformat_minor": 0,
 "metadata": {
  "colab": {
   "name": "01_pytorch_workflow_exercises.ipynb",
   "provenance": [],
   "collapsed_sections": [],
   "authorship_tag": "ABX9TyNYzatJtFkfUqqdiR6rYwVL",
   "include_colab_link": true
  },
  "kernelspec": {
   "name": "python3",
   "display_name": "Python 3 (ipykernel)",
   "language": "python"
  },
  "language_info": {
   "name": "python"
  },
  "accelerator": "GPU"
 },
 "cells": [
  {
   "cell_type": "markdown",
   "metadata": {
    "id": "view-in-github",
    "colab_type": "text"
   },
   "source": [
    "<a href=\"https://colab.research.google.com/github/mrdbourke/pytorch-deep-learning/blob/main/extras/exercises/01_pytorch_workflow_exercises.ipynb\" target=\"_parent\"><img src=\"https://colab.research.google.com/assets/colab-badge.svg\" alt=\"Open In Colab\"/></a>"
   ]
  },
  {
   "cell_type": "markdown",
   "source": [
    "# 01. PyTorch Workflow Exercise Template\n",
    "\n",
    "The following is a template for the PyTorch workflow exercises.\n",
    "\n",
    "It's only starter code and it's your job to fill in the blanks.\n",
    "\n",
    "Because of the flexibility of PyTorch, there may be more than one way to answer the question.\n",
    "\n",
    "Don't worry about trying to be *right* just try writing code that suffices the question.\n",
    "\n",
    "You can see one form of [solutions on GitHub](https://github.com/mrdbourke/pytorch-deep-learning/tree/main/extras/solutions) (but try the exercises below yourself first!)."
   ],
   "metadata": {
    "id": "N8LsPXZti9Sw"
   }
  },
  {
   "cell_type": "code",
   "source": [
    "# Import necessary libraries\n",
    "import torch, intel_extension_for_pytorch as ipex, matplotlib.pyplot as plt\n",
    "from torch import nn"
   ],
   "metadata": {
    "id": "Glu2fM4dkNlx",
    "ExecuteTime": {
     "end_time": "2024-06-12T15:16:04.184409Z",
     "start_time": "2024-06-12T15:16:04.173409Z"
    }
   },
   "outputs": [],
   "execution_count": 39
  },
  {
   "cell_type": "code",
   "source": [
    "# Setup device-agnostic code\n",
    "device = \"xpu\" if torch.xpu.is_available() else \"cpu\"\n",
    "device"
   ],
   "metadata": {
    "id": "LqKhXY26m31s",
    "ExecuteTime": {
     "end_time": "2024-06-12T15:16:04.262408Z",
     "start_time": "2024-06-12T15:16:04.248410Z"
    }
   },
   "outputs": [
    {
     "data": {
      "text/plain": [
       "'xpu'"
      ]
     },
     "execution_count": 40,
     "metadata": {},
     "output_type": "execute_result"
    }
   ],
   "execution_count": 40
  },
  {
   "cell_type": "markdown",
   "source": [
    "## 1. Create a straight line dataset using the linear regression formula (`weight * X + bias`).\n",
    "  * Set `weight=0.3` and `bias=0.9` there should be at least 100 datapoints total. \n",
    "  * Split the data into 80% training, 20% testing.\n",
    "  * Plot the training and testing data so it becomes visual.\n",
    "\n",
    "Your output of the below cell should look something like:\n",
    "```\n",
    "Number of X samples: 100\n",
    "Number of y samples: 100\n",
    "First 10 X & y samples:\n",
    "X: tensor([0.0000, 0.0100, 0.0200, 0.0300, 0.0400, 0.0500, 0.0600, 0.0700, 0.0800,\n",
    "        0.0900])\n",
    "y: tensor([0.9000, 0.9030, 0.9060, 0.9090, 0.9120, 0.9150, 0.9180, 0.9210, 0.9240,\n",
    "        0.9270])\n",
    "```\n",
    "\n",
    "Of course the numbers in `X` and `y` may be different but ideally they're created using the linear regression formula."
   ],
   "metadata": {
    "id": "g7HUhxCxjeBx"
   }
  },
  {
   "cell_type": "code",
   "source": [
    "# Create the data parameters\n",
    "weight = 0.3\n",
    "bias = 0.9\n",
    "\n",
    "# Make X and y using linear regression feature\n",
    "X = torch.arange(0, 1, 0.01).unsqueeze(dim=1)\n",
    "y = weight * X + bias\n",
    "\n",
    "print(f\"Number of X samples: {len(X)}\")\n",
    "print(f\"Number of y samples: {len(y)}\")\n",
    "print(f\"First 10 X & y samples:\\nX: {X[:10]}\\ny: {y[:10]}\")"
   ],
   "metadata": {
    "id": "KbDG5MV7jhvE",
    "ExecuteTime": {
     "end_time": "2024-06-12T15:16:04.278410Z",
     "start_time": "2024-06-12T15:16:04.263412Z"
    }
   },
   "outputs": [
    {
     "name": "stdout",
     "output_type": "stream",
     "text": [
      "Number of X samples: 100\n",
      "Number of y samples: 100\n",
      "First 10 X & y samples:\n",
      "X: tensor([[0.0000],\n",
      "        [0.0100],\n",
      "        [0.0200],\n",
      "        [0.0300],\n",
      "        [0.0400],\n",
      "        [0.0500],\n",
      "        [0.0600],\n",
      "        [0.0700],\n",
      "        [0.0800],\n",
      "        [0.0900]])\n",
      "y: tensor([[0.9000],\n",
      "        [0.9030],\n",
      "        [0.9060],\n",
      "        [0.9090],\n",
      "        [0.9120],\n",
      "        [0.9150],\n",
      "        [0.9180],\n",
      "        [0.9210],\n",
      "        [0.9240],\n",
      "        [0.9270]])\n"
     ]
    }
   ],
   "execution_count": 41
  },
  {
   "cell_type": "code",
   "source": [
    "# Split the data into training and testing\n",
    "train_split = int(0.8 * len(X))\n",
    "\n",
    "X_train = X[:train_split]\n",
    "y_train = y[:train_split]\n",
    "X_test = X[train_split:]\n",
    "y_test = y[train_split:]\n",
    "\n",
    "len(X_train), len(y_train), len(X_test), len(y_test)"
   ],
   "metadata": {
    "id": "GlwtT1djkmLw",
    "ExecuteTime": {
     "end_time": "2024-06-12T15:16:04.294408Z",
     "start_time": "2024-06-12T15:16:04.279411Z"
    }
   },
   "outputs": [
    {
     "data": {
      "text/plain": [
       "(80, 80, 20, 20)"
      ]
     },
     "execution_count": 42,
     "metadata": {},
     "output_type": "execute_result"
    }
   ],
   "execution_count": 42
  },
  {
   "cell_type": "code",
   "source": [
    "# Plot the training and testing data \n",
    "def plot(train_data= X_train, train_label = y_train, test_data = X_test, test_label = y_test, predictions = None):\n",
    "  plt.figure(figsize=(9,7))\n",
    "  plt.scatter(train_data, train_label, c='r', label = \"Training set\")\n",
    "  plt.scatter(test_data, test_label, c='g', label = \"Testing data\")\n",
    "  \n",
    "  if predictions is not None:\n",
    "    plt.scatter(test_data, predictions, c='y', label = \"Predictions\")\n",
    "  plt.legend(prop={\"size\":10})"
   ],
   "metadata": {
    "id": "29iQZFNhlYJ-",
    "ExecuteTime": {
     "end_time": "2024-06-12T15:16:04.310408Z",
     "start_time": "2024-06-12T15:16:04.295408Z"
    }
   },
   "outputs": [],
   "execution_count": 43
  },
  {
   "metadata": {
    "ExecuteTime": {
     "end_time": "2024-06-12T15:16:04.452408Z",
     "start_time": "2024-06-12T15:16:04.312408Z"
    }
   },
   "cell_type": "code",
   "source": "plot()",
   "outputs": [
    {
     "data": {
      "text/plain": [
       "<Figure size 900x700 with 1 Axes>"
      ],
      "image/png": "[encoded data removed]"
     },
     "metadata": {},
     "output_type": "display_data"
    }
   ],
   "execution_count": 44
  },
  {
   "cell_type": "markdown",
   "source": [
    "## 2. Build a PyTorch model by subclassing `nn.Module`. \n",
    "  * Inside should be a randomly initialized `nn.Parameter()` with `requires_grad=True`, one for `weights` and one for `bias`. \n",
    "  * Implement the `forward()` method to compute the linear regression function you used to create the dataset in 1. \n",
    "  * Once you've constructed the model, make an instance of it and check its `state_dict()`.\n",
    "  * **Note:** If you'd like to use `nn.Linear()` instead of `nn.Parameter()` you can."
   ],
   "metadata": {
    "id": "ImZoe3v8jif8"
   }
  },
  {
   "cell_type": "code",
   "source": [
    "# Create PyTorch linear regression model by subclassing nn.Module\n",
    "class LinearRegressionModel(nn.Module):\n",
    "  def __init__(self):\n",
    "    super().__init__()\n",
    "    self.weights = nn.Parameter(torch.randn(1, dtype=torch.float), requires_grad=True)\n",
    "    self.bias = nn.Parameter(torch.randn(1, dtype=torch.float), requires_grad=True)\n",
    "      \n",
    "  def forward(self, x:torch.Tensor) -> torch.Tensor:\n",
    "    return self.weights * x + self.bias"
   ],
   "metadata": {
    "id": "qzd__Y5rjtB8",
    "ExecuteTime": {
     "end_time": "2024-06-12T15:16:04.467408Z",
     "start_time": "2024-06-12T15:16:04.454411Z"
    }
   },
   "outputs": [],
   "execution_count": 45
  },
  {
   "cell_type": "code",
   "source": [
    "# Instantiate the model and put it to the target device\n",
    "torch.manual_seed(69)\n",
    "model = LinearRegressionModel()\n",
    "model = model.to(device)\n",
    "next(model.parameters()).device"
   ],
   "metadata": {
    "id": "5LdcDnmOmyQ2",
    "ExecuteTime": {
     "end_time": "2024-06-12T15:16:04.483407Z",
     "start_time": "2024-06-12T15:16:04.468410Z"
    }
   },
   "outputs": [
    {
     "data": {
      "text/plain": [
       "device(type='xpu', index=0)"
      ]
     },
     "execution_count": 46,
     "metadata": {},
     "output_type": "execute_result"
    }
   ],
   "execution_count": 46
  },
  {
   "metadata": {
    "ExecuteTime": {
     "end_time": "2024-06-12T15:16:04.498407Z",
     "start_time": "2024-06-12T15:16:04.484412Z"
    }
   },
   "cell_type": "code",
   "source": "model.state_dict()",
   "outputs": [
    {
     "data": {
      "text/plain": [
       "OrderedDict([('weights', tensor([-0.5259], device='xpu:0')),\n",
       "             ('bias', tensor([-2.6043], device='xpu:0'))])"
      ]
     },
     "execution_count": 47,
     "metadata": {},
     "output_type": "execute_result"
    }
   ],
   "execution_count": 47
  },
  {
   "cell_type": "markdown",
   "source": [
    "## 3. Create a loss function and optimizer using `nn.L1Loss()` and `torch.optim.SGD(params, lr)` respectively. \n",
    "  * Set the learning rate of the optimizer to be 0.01 and the parameters to optimize should be the model parameters from the model you created in 2.\n",
    "  * Write a training loop to perform the appropriate training steps for 300 epochs.\n",
    "  * The training loop should test the model on the test dataset every 20 epochs."
   ],
   "metadata": {
    "id": "G6nYOrJhjtfu"
   }
  },
  {
   "cell_type": "code",
   "source": [
    "# Create the loss function and optimizer\n",
    "loss_fn = nn.L1Loss()\n",
    "loss_fn.to(device)\n",
    "\n",
    "lr = 0.01\n",
    "\n",
    "optimizer = torch.optim.SGD(params=model.parameters(), lr=lr)"
   ],
   "metadata": {
    "id": "ltvoZ-FWjv1j",
    "ExecuteTime": {
     "end_time": "2024-06-12T15:16:04.513407Z",
     "start_time": "2024-06-12T15:16:04.499407Z"
    }
   },
   "outputs": [],
   "execution_count": 48
  },
  {
   "cell_type": "code",
   "source": [
    "# Training loop\n",
    "\n",
    "# Train model for 300 epochs\n",
    "epochs = 300\n",
    "\n",
    "# Send data to target device\n",
    "X_train, y_train, X_test, y_test = X_train.to(device), y_train.to(device), X_test.to(device), y_test.to(device)\n",
    "\n",
    "for epoch in range(epochs):\n",
    "  ### Training\n",
    "\n",
    "  # Put model in train mode\n",
    "  model.train()\n",
    "\n",
    "  # 1. Forward pass\n",
    "  y_pred = model(X_train)\n",
    "\n",
    "  # 2. Calculate loss\n",
    "  loss = loss_fn(y_pred, y_train)\n",
    "\n",
    "  # 3. Zero gradients\n",
    "  optimizer.zero_grad()\n",
    "\n",
    "  # 4. Backpropagation\n",
    "  loss.backward()\n",
    "\n",
    "  # 5. Step the optimizer\n",
    "  optimizer.step()\n",
    "\n",
    "  ### Perform testing every 20 epochs\n",
    "  if epoch % 20 == 0:\n",
    "\n",
    "    # Put model in evaluation mode and setup inference context \n",
    "    model.eval()\n",
    "    with torch.inference_mode():\n",
    "      # 1. Forward pass\n",
    "      test_pred = model(X_test)\n",
    "      # 2. Calculate test loss\n",
    "      test_loss = loss_fn(test_pred, y_test)\n",
    "      # Print out what's happening\n",
    "      print(f\"Epoch: {epoch} | Train loss: {loss:.3f} | Test loss: {test_loss:.3f}\")"
   ],
   "metadata": {
    "id": "xpE83NvNnkdV",
    "ExecuteTime": {
     "end_time": "2024-06-12T15:16:04.795407Z",
     "start_time": "2024-06-12T15:16:04.515407Z"
    }
   },
   "outputs": [
    {
     "name": "stdout",
     "output_type": "stream",
     "text": [
      "Epoch: 0 | Train loss: 3.830 | Test loss: 4.230\n",
      "Epoch: 20 | Train loss: 3.599 | Test loss: 3.959\n",
      "Epoch: 40 | Train loss: 3.368 | Test loss: 3.688\n",
      "Epoch: 60 | Train loss: 3.137 | Test loss: 3.418\n",
      "Epoch: 80 | Train loss: 2.906 | Test loss: 3.147\n",
      "Epoch: 100 | Train loss: 2.674 | Test loss: 2.876\n",
      "Epoch: 120 | Train loss: 2.443 | Test loss: 2.606\n",
      "Epoch: 140 | Train loss: 2.212 | Test loss: 2.335\n",
      "Epoch: 160 | Train loss: 1.981 | Test loss: 2.064\n",
      "Epoch: 180 | Train loss: 1.750 | Test loss: 1.794\n",
      "Epoch: 200 | Train loss: 1.518 | Test loss: 1.523\n",
      "Epoch: 220 | Train loss: 1.287 | Test loss: 1.252\n",
      "Epoch: 240 | Train loss: 1.056 | Test loss: 0.981\n",
      "Epoch: 260 | Train loss: 0.825 | Test loss: 0.711\n",
      "Epoch: 280 | Train loss: 0.594 | Test loss: 0.440\n"
     ]
    }
   ],
   "execution_count": 49
  },
  {
   "cell_type": "markdown",
   "source": [
    "## 4. Make predictions with the trained model on the test data.\n",
    "  * Visualize these predictions against the original training and testing data (**note:** you may need to make sure the predictions are *not* on the GPU if you want to use non-CUDA-enabled libraries such as matplotlib to plot)."
   ],
   "metadata": {
    "id": "x4j4TM18jwa7"
   }
  },
  {
   "cell_type": "code",
   "source": [
    "# Make predictions with the model\n",
    "model.eval()\n",
    "with torch.inference_mode():\n",
    "  y_pred_new = model(X_test)\n",
    "y_pred_new"
   ],
   "metadata": {
    "id": "bbMPK5Qjjyx_",
    "ExecuteTime": {
     "end_time": "2024-06-12T15:16:04.811443Z",
     "start_time": "2024-06-12T15:16:04.796409Z"
    }
   },
   "outputs": [
    {
     "data": {
      "text/plain": [
       "tensor([[0.9230],\n",
       "        [0.9296],\n",
       "        [0.9362],\n",
       "        [0.9428],\n",
       "        [0.9494],\n",
       "        [0.9560],\n",
       "        [0.9626],\n",
       "        [0.9692],\n",
       "        [0.9757],\n",
       "        [0.9823],\n",
       "        [0.9889],\n",
       "        [0.9955],\n",
       "        [1.0021],\n",
       "        [1.0087],\n",
       "        [1.0153],\n",
       "        [1.0219],\n",
       "        [1.0285],\n",
       "        [1.0351],\n",
       "        [1.0417],\n",
       "        [1.0482]], device='xpu:0')"
      ]
     },
     "execution_count": 50,
     "metadata": {},
     "output_type": "execute_result"
    }
   ],
   "execution_count": 50
  },
  {
   "cell_type": "code",
   "source": [
    "# Plot the predictions (these may need to be on a specific device)\n",
    "plot(X_train.cpu(), y_train.cpu(), X_test.cpu(), y_test.cpu(), y_pred_new.cpu())"
   ],
   "metadata": {
    "id": "K3BdmQaDpFo8",
    "ExecuteTime": {
     "end_time": "2024-06-12T15:16:04.954440Z",
     "start_time": "2024-06-12T15:16:04.812441Z"
    }
   },
   "outputs": [
    {
     "data": {
      "text/plain": [
       "<Figure size 900x700 with 1 Axes>"
      ],
      "image/png": "[encoded data removed]"
     },
     "metadata": {},
     "output_type": "display_data"
    }
   ],
   "execution_count": 51
  },
  {
   "cell_type": "markdown",
   "source": [
    "## 5. Save your trained model's `state_dict()` to file.\n",
    "  * Create a new instance of your model class you made in 2. and load in the `state_dict()` you just saved to it.\n",
    "  * Perform predictions on your test data with the loaded model and confirm they match the original model predictions from 4."
   ],
   "metadata": {
    "id": "s2OnlMWKjzX8"
   }
  },
  {
   "cell_type": "code",
   "source": [
    "from pathlib import Path\n",
    "\n",
    "# 1. Create models directory \n",
    "model_path = Path(\"models\")\n",
    "model_path.mkdir(parents=True, exist_ok=True)\n",
    "# 2. Create model save path \n",
    "model_save_path = model_path / \"chapter_1_exercises_model.pth\"\n",
    "# 3. Save the model state dict\n",
    "torch.save(model.state_dict(), model_save_path)\n",
    "print(f\"Model saved to: {model_save_path}\")"
   ],
   "metadata": {
    "id": "hgxhgD14qr-i",
    "ExecuteTime": {
     "end_time": "2024-06-12T15:16:04.970439Z",
     "start_time": "2024-06-12T15:16:04.955440Z"
    }
   },
   "outputs": [
    {
     "name": "stdout",
     "output_type": "stream",
     "text": [
      "Model saved to: models\\chapter_1_exercises_model.pth\n"
     ]
    }
   ],
   "execution_count": 52
  },
  {
   "cell_type": "code",
   "source": [
    "# Create new instance of model and load saved state dict (make sure to put it on the target device)\n",
    "newModel = LinearRegressionModel()\n",
    "newModel.to(device)\n",
    "newModel.load_state_dict(torch.load(model_save_path))"
   ],
   "metadata": {
    "id": "P9vTgiLRrJ7T",
    "ExecuteTime": {
     "end_time": "2024-06-12T15:16:04.986439Z",
     "start_time": "2024-06-12T15:16:04.971443Z"
    }
   },
   "outputs": [
    {
     "data": {
      "text/plain": [
       "<All keys matched successfully>"
      ]
     },
     "execution_count": 53,
     "metadata": {},
     "output_type": "execute_result"
    }
   ],
   "execution_count": 53
  },
  {
   "cell_type": "code",
   "source": [
    "# Make predictions with loaded model and compare them to the previous\n",
    "newModel.eval()\n",
    "with torch.inference_mode():\n",
    "  new_pred = newModel(X_test)\n",
    "new_pred == y_pred_new"
   ],
   "metadata": {
    "id": "8UGX3VebrVtI",
    "ExecuteTime": {
     "end_time": "2024-06-12T15:16:05.002439Z",
     "start_time": "2024-06-12T15:16:04.987442Z"
    }
   },
   "outputs": [
    {
     "data": {
      "text/plain": [
       "tensor([[True],\n",
       "        [True],\n",
       "        [True],\n",
       "        [True],\n",
       "        [True],\n",
       "        [True],\n",
       "        [True],\n",
       "        [True],\n",
       "        [True],\n",
       "        [True],\n",
       "        [True],\n",
       "        [True],\n",
       "        [True],\n",
       "        [True],\n",
       "        [True],\n",
       "        [True],\n",
       "        [True],\n",
       "        [True],\n",
       "        [True],\n",
       "        [True]], device='xpu:0')"
      ]
     },
     "execution_count": 54,
     "metadata": {},
     "output_type": "execute_result"
    }
   ],
   "execution_count": 54
  },
  {
   "metadata": {
    "ExecuteTime": {
     "end_time": "2024-06-12T15:16:05.018443Z",
     "start_time": "2024-06-12T15:16:05.003440Z"
    }
   },
   "cell_type": "code",
   "source": "weight, bias, model.state_dict(), newModel.state_dict()",
   "outputs": [
    {
     "data": {
      "text/plain": [
       "(0.3,\n",
       " 0.9,\n",
       " OrderedDict([('weights', tensor([0.6591], device='xpu:0')),\n",
       "              ('bias', tensor([0.3957], device='xpu:0'))]),\n",
       " OrderedDict([('weights', tensor([0.6591], device='xpu:0')),\n",
       "              ('bias', tensor([0.3957], device='xpu:0'))]))"
      ]
     },
     "execution_count": 55,
     "metadata": {},
     "output_type": "execute_result"
    }
   ],
   "execution_count": 55
  }
 ]
}

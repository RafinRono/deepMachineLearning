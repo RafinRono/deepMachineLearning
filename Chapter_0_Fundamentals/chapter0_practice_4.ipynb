{
 "cells": [
  {
   "cell_type": "code",
   "id": "initial_id",
   "metadata": {
    "collapsed": true,
    "ExecuteTime": {
     "end_time": "2024-05-31T13:57:20.302864Z",
     "start_time": "2024-05-31T13:57:15.944609Z"
    }
   },
   "source": [
    "import torch\n",
    "import intel_extension_for_pytorch as ipex\n",
    "import math, numpy as np # https://numpy.org/doc/stable/user/absolute_beginners.html"
   ],
   "execution_count": 1,
   "outputs": []
  },
  {
   "metadata": {
    "ExecuteTime": {
     "end_time": "2024-05-31T13:57:20.317863Z",
     "start_time": "2024-05-31T13:57:20.303863Z"
    }
   },
   "cell_type": "code",
   "source": "ipex.is_loaded, ipex.has_xpu(), torch.xpu.is_available() # https://pytorch.org/docs/stable/xpu.html",
   "id": "f56424bcbd1225d6",
   "execution_count": 2,
   "outputs": []
  },
  {
   "metadata": {
    "ExecuteTime": {
     "end_time": "2024-05-31T13:57:20.333862Z",
     "start_time": "2024-05-31T13:57:20.318863Z"
    }
   },
   "cell_type": "code",
   "source": [
    "print(f\"PyTorch: {torch.__version__}, IPEX: {ipex.__version__}\")\n",
    "[print(f'[{i}]: {torch.xpu.get_device_properties(i)}') for i in range(torch.xpu.device_count())]"
   ],
   "id": "fde8b9c105c2a910",
   "execution_count": 3,
   "outputs": []
  },
  {
   "metadata": {
    "ExecuteTime": {
     "end_time": "2024-05-31T13:57:20.348862Z",
     "start_time": "2024-05-31T13:57:20.334863Z"
    }
   },
   "cell_type": "code",
   "source": [
    "x = torch.arange(1, 17).reshape(1, 4, 4)\n",
    "x, x.shape"
   ],
   "id": "273647e65f18c56d",
   "execution_count": 4,
   "outputs": []
  },
  {
   "metadata": {
    "ExecuteTime": {
     "end_time": "2024-05-31T13:57:20.363863Z",
     "start_time": "2024-05-31T13:57:20.350864Z"
    }
   },
   "cell_type": "code",
   "source": "x[0, 1, 2], x[0][1][2]",
   "id": "c160d8bd8a49273b",
   "execution_count": 5,
   "outputs": []
  },
  {
   "metadata": {
    "ExecuteTime": {
     "end_time": "2024-05-31T13:57:20.378863Z",
     "start_time": "2024-05-31T13:57:20.364863Z"
    }
   },
   "cell_type": "code",
   "source": "x[:, 1, :]",
   "id": "8f7a4467c76badd0",
   "execution_count": 6,
   "outputs": []
  },
  {
   "metadata": {
    "ExecuteTime": {
     "end_time": "2024-05-31T13:57:20.394863Z",
     "start_time": "2024-05-31T13:57:20.379863Z"
    }
   },
   "cell_type": "code",
   "source": "x[0, :], x[0]",
   "id": "1192a3e56aaccda1",
   "execution_count": 7,
   "outputs": []
  },
  {
   "metadata": {
    "ExecuteTime": {
     "end_time": "2024-05-31T13:57:20.410863Z",
     "start_time": "2024-05-31T13:57:20.395863Z"
    }
   },
   "cell_type": "code",
   "source": "x[:, 1]",
   "id": "c1fedfa5d90b90c5",
   "execution_count": 8,
   "outputs": []
  },
  {
   "metadata": {
    "ExecuteTime": {
     "end_time": "2024-05-31T13:57:20.426863Z",
     "start_time": "2024-05-31T13:57:20.411863Z"
    }
   },
   "cell_type": "code",
   "source": "x[:, :, 1]",
   "id": "74d7162e9ef23633",
   "execution_count": 9,
   "outputs": []
  },
  {
   "metadata": {
    "ExecuteTime": {
     "end_time": "2024-05-31T13:57:20.442865Z",
     "start_time": "2024-05-31T13:57:20.427866Z"
    }
   },
   "cell_type": "code",
   "source": "x[:, 1, 0]",
   "id": "d89e738bbc062903",
   "execution_count": 10,
   "outputs": []
  },
  {
   "metadata": {
    "ExecuteTime": {
     "end_time": "2024-05-31T13:57:20.473863Z",
     "start_time": "2024-05-31T13:57:20.443865Z"
    }
   },
   "cell_type": "code",
   "source": [
    "# While a Python list can contain different data types within a single list, each of the elements in a NumPy array should be homogeneous (data type is same for every element)\n",
    "x = np.linspace(-math.pi, math.pi, 1000)\n",
    "y = np.sin(x)\n",
    "x, y"
   ],
   "id": "31c53397be1ee1f2",
   "execution_count": 11,
   "outputs": []
  },
  {
   "metadata": {
    "ExecuteTime": {
     "end_time": "2024-05-31T13:57:20.489866Z",
     "start_time": "2024-05-31T13:57:20.474863Z"
    }
   },
   "cell_type": "code",
   "source": [
    "a = np.random.randn()\n",
    "b = np.random.randn()\n",
    "c = np.random.randn()\n",
    "d = np.random.randn()\n",
    "a, b, c, d"
   ],
   "id": "8f8d5a5b2d5fb50f",
   "execution_count": 12,
   "outputs": []
  },
  {
   "metadata": {
    "ExecuteTime": {
     "end_time": "2024-05-31T13:57:20.505863Z",
     "start_time": "2024-05-31T13:57:20.490864Z"
    }
   },
   "cell_type": "code",
   "source": [
    "e = np.arange(6)\n",
    "e"
   ],
   "id": "6e93293194ef9f12",
   "execution_count": 13,
   "outputs": []
  },
  {
   "metadata": {
    "ExecuteTime": {
     "end_time": "2024-05-31T13:57:20.521863Z",
     "start_time": "2024-05-31T13:57:20.508863Z"
    }
   },
   "cell_type": "code",
   "source": "e.shape",
   "id": "edd8e0d0f717e13e",
   "execution_count": 14,
   "outputs": []
  },
  {
   "metadata": {
    "ExecuteTime": {
     "end_time": "2024-05-31T13:57:20.536863Z",
     "start_time": "2024-05-31T13:57:20.522864Z"
    }
   },
   "cell_type": "code",
   "source": [
    "a = np.array([[1, 2, 3, 4], [5, 6, 7, 8], [9, 10, 11, 12]])\n",
    "a[0], a.shape"
   ],
   "id": "c409dd9156ea2b8f",
   "execution_count": 15,
   "outputs": []
  },
  {
   "metadata": {
    "ExecuteTime": {
     "end_time": "2024-05-31T13:57:20.552865Z",
     "start_time": "2024-05-31T13:57:20.537863Z"
    }
   },
   "cell_type": "code",
   "source": [
    "x = np.ones(2, dtype=np.int64)\n",
    "x"
   ],
   "id": "d3e32b72d72da9b9",
   "execution_count": 16,
   "outputs": []
  },
  {
   "metadata": {
    "ExecuteTime": {
     "end_time": "2024-05-31T13:57:20.568863Z",
     "start_time": "2024-05-31T13:57:20.553864Z"
    }
   },
   "cell_type": "code",
   "source": [
    "arr = np.random.rand(5, 7)\n",
    "arr"
   ],
   "id": "5a19d3e78a3eded3",
   "execution_count": 17,
   "outputs": []
  },
  {
   "metadata": {
    "ExecuteTime": {
     "end_time": "2024-05-31T13:57:20.583864Z",
     "start_time": "2024-05-31T13:57:20.569863Z"
    }
   },
   "cell_type": "code",
   "source": "np.sort(arr, kind='quicksort')",
   "id": "dbb82a135188df7c",
   "execution_count": 18,
   "outputs": []
  },
  {
   "metadata": {
    "ExecuteTime": {
     "end_time": "2024-05-31T13:57:20.599863Z",
     "start_time": "2024-05-31T13:57:20.584874Z"
    }
   },
   "cell_type": "code",
   "source": "np.sort(arr, kind='heapsort')",
   "id": "2ca18233e798ddbf",
   "execution_count": 19,
   "outputs": []
  },
  {
   "metadata": {
    "ExecuteTime": {
     "end_time": "2024-05-31T13:57:20.614862Z",
     "start_time": "2024-05-31T13:57:20.600863Z"
    }
   },
   "cell_type": "code",
   "source": "np.sort(arr, kind='stable')",
   "id": "64f0f5e43ae991b7",
   "execution_count": 20,
   "outputs": []
  },
  {
   "metadata": {
    "ExecuteTime": {
     "end_time": "2024-05-31T13:57:20.630862Z",
     "start_time": "2024-05-31T13:57:20.615863Z"
    }
   },
   "cell_type": "code",
   "source": "np.sort(arr, kind='mergesort')",
   "id": "ffd212290b0c49f1",
   "execution_count": 21,
   "outputs": []
  },
  {
   "metadata": {
    "ExecuteTime": {
     "end_time": "2024-05-31T13:57:20.646862Z",
     "start_time": "2024-05-31T13:57:20.631865Z"
    }
   },
   "cell_type": "code",
   "source": [
    "# https://numpy.org/doc/stable/reference/generated/numpy.sort.html#numpy.sort\n",
    "dtype = [('name', 'S10'), ('height', float), ('age', int)]\n",
    "values = [('Arthur', 1.8, 41), ('Lancelot', 1.9, 38),\n",
    "          ('Galahad', 1.7, 38)]\n",
    "\n",
    "a = np.array(values, dtype=dtype)       # create a structured array\n",
    "\n",
    "np.sort(a, order='height')                        "
   ],
   "id": "d71c302ade5be116",
   "execution_count": 22,
   "outputs": []
  },
  {
   "metadata": {
    "ExecuteTime": {
     "end_time": "2024-05-31T13:57:20.662880Z",
     "start_time": "2024-05-31T13:57:20.647862Z"
    }
   },
   "cell_type": "code",
   "source": "np.sort(a, order=['age', 'height'])",
   "id": "c0f4114282f26de1",
   "execution_count": 23,
   "outputs": []
  },
  {
   "metadata": {
    "ExecuteTime": {
     "end_time": "2024-05-31T13:57:20.678866Z",
     "start_time": "2024-05-31T13:57:20.663864Z"
    }
   },
   "cell_type": "code",
   "source": [
    "a = np.array([1, 2, 3, 4])\n",
    "b = np.array([5, 6, 7, 8])\n",
    "np.concatenate((a, b), axis=0)"
   ],
   "id": "160a871bcc1dc9e3",
   "execution_count": 24,
   "outputs": []
  },
  {
   "metadata": {
    "ExecuteTime": {
     "end_time": "2024-05-31T13:57:20.694863Z",
     "start_time": "2024-05-31T13:57:20.679864Z"
    }
   },
   "cell_type": "code",
   "source": [
    "x = np.array([[1, 2], [3, 4]])\n",
    "y = np.array([[5, 6], [7, 8]])\n",
    "\n",
    "print(np.concatenate((x, y), axis=0))\n",
    "print(np.concatenate((x, y), axis=1)) # for this, both arrays have to be the same size"
   ],
   "id": "94ac310eaf951843",
   "execution_count": 25,
   "outputs": []
  },
  {
   "metadata": {
    "ExecuteTime": {
     "end_time": "2024-05-31T13:57:20.710863Z",
     "start_time": "2024-05-31T13:57:20.695863Z"
    }
   },
   "cell_type": "code",
   "source": "x, x.ndim, x.size, x.shape",
   "id": "aa0175746b1d6260",
   "execution_count": 26,
   "outputs": []
  },
  {
   "metadata": {
    "ExecuteTime": {
     "end_time": "2024-05-31T13:57:20.726864Z",
     "start_time": "2024-05-31T13:57:20.711865Z"
    }
   },
   "cell_type": "code",
   "source": "x.reshape(1, 4), x.reshape(4, 1)",
   "id": "d21cf2963e88b058",
   "execution_count": 27,
   "outputs": []
  },
  {
   "metadata": {
    "ExecuteTime": {
     "end_time": "2024-05-31T13:57:20.742863Z",
     "start_time": "2024-05-31T13:57:20.727864Z"
    }
   },
   "cell_type": "code",
   "source": "np.reshape(x, newshape=(1, 4))",
   "id": "d76f3af11c0675f",
   "execution_count": 28,
   "outputs": []
  },
  {
   "metadata": {
    "ExecuteTime": {
     "end_time": "2024-05-31T13:57:20.758863Z",
     "start_time": "2024-05-31T13:57:20.743863Z"
    }
   },
   "cell_type": "code",
   "source": [
    "a = np.array([1, 2, 3, 4, 5, 6])\n",
    "a.shape"
   ],
   "id": "63c3703766bd4ad",
   "execution_count": 29,
   "outputs": []
  },
  {
   "metadata": {
    "ExecuteTime": {
     "end_time": "2024-05-31T13:57:20.774866Z",
     "start_time": "2024-05-31T13:57:20.759863Z"
    }
   },
   "cell_type": "code",
   "source": [
    "a1 = a[np.newaxis, :]\n",
    "a1.shape # same as making the array a row vector"
   ],
   "id": "37d6ee063379274b",
   "execution_count": 30,
   "outputs": []
  },
  {
   "metadata": {
    "ExecuteTime": {
     "end_time": "2024-05-31T13:57:20.790863Z",
     "start_time": "2024-05-31T13:57:20.775865Z"
    }
   },
   "cell_type": "code",
   "source": [
    "a2 = a[:, np.newaxis]\n",
    "a2.shape # this is a column vector"
   ],
   "id": "da861014185918c1",
   "execution_count": 31,
   "outputs": []
  },
  {
   "metadata": {
    "ExecuteTime": {
     "end_time": "2024-05-31T13:57:20.806863Z",
     "start_time": "2024-05-31T13:57:20.791865Z"
    }
   },
   "cell_type": "code",
   "source": [
    "b = np.expand_dims(a, axis=1)\n",
    "b.shape"
   ],
   "id": "ade047d39e68acac",
   "execution_count": 32,
   "outputs": []
  },
  {
   "metadata": {
    "ExecuteTime": {
     "end_time": "2024-05-31T13:57:20.821865Z",
     "start_time": "2024-05-31T13:57:20.807862Z"
    }
   },
   "cell_type": "code",
   "source": [
    "b1 = np.expand_dims(a, axis=0)\n",
    "b1.shape"
   ],
   "id": "c39961c41426dc6b",
   "execution_count": 33,
   "outputs": []
  },
  {
   "metadata": {
    "ExecuteTime": {
     "end_time": "2024-05-31T13:57:20.837862Z",
     "start_time": "2024-05-31T13:57:20.822865Z"
    }
   },
   "cell_type": "code",
   "source": [
    "data = np.array([1, 2, 3])\n",
    "data[1], data[0:2], data[1:], data[-2:]"
   ],
   "id": "63476e216999d30c",
   "execution_count": 34,
   "outputs": []
  },
  {
   "metadata": {
    "ExecuteTime": {
     "end_time": "2024-05-31T13:57:20.853866Z",
     "start_time": "2024-05-31T13:57:20.838863Z"
    }
   },
   "cell_type": "code",
   "source": [
    "a = np.array([[1 , 2, 3, 4], [5, 6, 7, 8], [9, 10, 11, 12]])\n",
    "a"
   ],
   "id": "7ec7f924aca84d31",
   "execution_count": 35,
   "outputs": []
  },
  {
   "metadata": {
    "ExecuteTime": {
     "end_time": "2024-05-31T13:57:20.869865Z",
     "start_time": "2024-05-31T13:57:20.854864Z"
    }
   },
   "cell_type": "code",
   "source": "a[a < 5]",
   "id": "dab2134e0d1004ab",
   "execution_count": 36,
   "outputs": []
  },
  {
   "metadata": {
    "ExecuteTime": {
     "end_time": "2024-05-31T13:57:20.885865Z",
     "start_time": "2024-05-31T13:57:20.870863Z"
    }
   },
   "cell_type": "code",
   "source": "a[a >= 5]",
   "id": "7be0e586761aaf8a",
   "execution_count": 37,
   "outputs": []
  },
  {
   "metadata": {
    "ExecuteTime": {
     "end_time": "2024-05-31T13:57:20.901865Z",
     "start_time": "2024-05-31T13:57:20.886866Z"
    }
   },
   "cell_type": "code",
   "source": "a[(a > 2) & (a < 11)], a[(a > 2) & (a < 11)].reshape(2, 4)",
   "id": "34d0a99a0dc9c31b",
   "execution_count": 38,
   "outputs": []
  },
  {
   "metadata": {
    "ExecuteTime": {
     "end_time": "2024-05-31T13:57:20.916864Z",
     "start_time": "2024-05-31T13:57:20.902863Z"
    }
   },
   "cell_type": "code",
   "source": "RANDOM_SEED = 372735452636",
   "id": "72e902a0c1feac57",
   "execution_count": 39,
   "outputs": []
  },
  {
   "metadata": {
    "ExecuteTime": {
     "end_time": "2024-05-31T13:57:20.931866Z",
     "start_time": "2024-05-31T13:57:20.917866Z"
    }
   },
   "cell_type": "code",
   "source": [
    "manualSeed = torch.manual_seed(RANDOM_SEED)\n",
    "randomTensorC = torch.rand((3, 4), generator=manualSeed)\n",
    "\n",
    "manualSeed = torch.manual_seed(RANDOM_SEED)\n",
    "randomTensorD = torch.rand((3, 4), generator=manualSeed)\n",
    "\n",
    "print(randomTensorC)\n",
    "print(randomTensorD)\n",
    "print(randomTensorC == randomTensorD) "
   ],
   "id": "8cb0bfb671a8d65b",
   "execution_count": 40,
   "outputs": []
  },
  {
   "metadata": {
    "ExecuteTime": {
     "end_time": "2024-05-31T13:57:20.947866Z",
     "start_time": "2024-05-31T13:57:20.935866Z"
    }
   },
   "cell_type": "code",
   "source": [
    "torch.manual_seed(858545545387)\n",
    "randomTensorC = torch.rand(3, 4)\n",
    "\n",
    "torch.manual_seed(858545545387)\n",
    "randomTensorD = torch.rand(3, 4)\n",
    "\n",
    "print(randomTensorC)\n",
    "print(randomTensorD)\n",
    "print(randomTensorC == randomTensorD)"
   ],
   "id": "919a2ab4c7d2afbb",
   "execution_count": 41,
   "outputs": []
  },
  {
   "metadata": {
    "ExecuteTime": {
     "end_time": "2024-05-31T13:57:20.963864Z",
     "start_time": "2024-05-31T13:57:20.948866Z"
    }
   },
   "cell_type": "code",
   "source": [
    "torch.manual_seed(RANDOM_SEED)\n",
    "torch.rand((3, 4), device=torch.device('cpu'))"
   ],
   "id": "87478b94844d115f",
   "execution_count": 42,
   "outputs": []
  },
  {
   "metadata": {
    "ExecuteTime": {
     "end_time": "2024-05-31T13:57:21.668863Z",
     "start_time": "2024-05-31T13:57:20.964865Z"
    }
   },
   "cell_type": "code",
   "source": [
    "torch.manual_seed(RANDOM_SEED)\n",
    "torch.rand((3, 4), device=torch.device('xpu'))"
   ],
   "id": "3c3c1d6cf9ff0f5e",
   "execution_count": 43,
   "outputs": []
  },
  {
   "metadata": {
    "ExecuteTime": {
     "end_time": "2024-05-31T13:57:21.683865Z",
     "start_time": "2024-05-31T13:57:21.669863Z"
    }
   },
   "cell_type": "code",
   "source": [
    "tensor = torch.rand(3, 4)\n",
    "print(tensor)"
   ],
   "id": "76ea6ee8a535d4c1",
   "execution_count": 44,
   "outputs": []
  },
  {
   "metadata": {},
   "cell_type": "markdown",
   "source": "## PyTorch's methods with `_` at the end like `resize_()` mutates the original input tensor, meaning the input and outputs share the same memory and the original input will reflect the change instead of just making a copy ",
   "id": "a65192ba7fbe48a1"
  },
  {
   "metadata": {
    "ExecuteTime": {
     "end_time": "2024-05-31T13:57:21.699865Z",
     "start_time": "2024-05-31T13:57:21.684864Z"
    }
   },
   "cell_type": "code",
   "source": "print(tensor, tensor.resize_(2,2)) # the original tensor itself has changed, because resize_() mutates the input",
   "id": "a8a1a4f7a917e53c",
   "execution_count": 45,
   "outputs": []
  },
  {
   "metadata": {
    "ExecuteTime": {
     "end_time": "2024-05-31T13:57:21.715865Z",
     "start_time": "2024-05-31T13:57:21.700864Z"
    }
   },
   "cell_type": "code",
   "source": [
    "arr = np.arange(1., 10.)\n",
    "arr, arr.dtype, arr.shape"
   ],
   "id": "9f40a6bec953f10f",
   "execution_count": 46,
   "outputs": []
  },
  {
   "metadata": {
    "ExecuteTime": {
     "end_time": "2024-05-31T13:57:21.731862Z",
     "start_time": "2024-05-31T13:57:21.716863Z"
    }
   },
   "cell_type": "code",
   "source": [
    "arrTensor = torch.from_numpy(arr) # numpy -> torch\n",
    "arrTensor"
   ],
   "id": "948bea4eb8278979",
   "execution_count": 47,
   "outputs": []
  },
  {
   "metadata": {
    "ExecuteTime": {
     "end_time": "2024-05-31T13:57:21.747864Z",
     "start_time": "2024-05-31T13:57:21.732863Z"
    }
   },
   "cell_type": "code",
   "source": [
    "tensorArr = arrTensor.numpy() # torch -> numpy\n",
    "tensorArr"
   ],
   "id": "ad6b36945b44dd35",
   "execution_count": 48,
   "outputs": []
  },
  {
   "metadata": {
    "ExecuteTime": {
     "end_time": "2024-05-31T13:57:21.763864Z",
     "start_time": "2024-05-31T13:57:21.748864Z"
    }
   },
   "cell_type": "code",
   "source": "torch.xpu.get_device_properties(0)",
   "id": "40e0369ec4ddfb9c",
   "execution_count": 49,
   "outputs": []
  },
  {
   "metadata": {
    "ExecuteTime": {
     "end_time": "2024-05-31T13:57:21.779864Z",
     "start_time": "2024-05-31T13:57:21.764864Z"
    }
   },
   "cell_type": "code",
   "source": "torch.xpu.is_initialized(), torch.xpu.get_device_capability()",
   "id": "c4268b39058e382",
   "execution_count": 50,
   "outputs": []
  },
  {
   "metadata": {
    "ExecuteTime": {
     "end_time": "2024-05-31T14:05:58.654442Z",
     "start_time": "2024-05-31T14:05:58.636441Z"
    }
   },
   "cell_type": "code",
   "source": [
    "xpu = torch.device('xpu')     # Default XPU device\n",
    "xpu0 = torch.device('xpu:0')\n",
    "\n",
    "x = torch.tensor([1., 2.], device=xpu0)\n",
    "# x.device is device(type='xpu', index=0)\n",
    "y = torch.tensor([1., 2.]).xpu()\n",
    "# y.device is device(type='xpu', index=0)\n",
    "\n",
    "with torch.xpu.device(0):\n",
    "    # allocates a tensor on GPU 1\n",
    "    a = torch.tensor([1., 2.], device=xpu)\n",
    "\n",
    "    # transfers a tensor from CPU to GPU 1\n",
    "    b = torch.tensor([1., 2.]).xpu()\n",
    "    # a.device and b.device are device(type='xpu', index=1)\n",
    "\n",
    "    # You can also use ``Tensor.to`` to transfer a tensor:\n",
    "    b2 = torch.tensor([1., 2.]).to(device=xpu)\n",
    "    # b.device and b2.device are device(type='xpu', index=1)\n",
    "\n",
    "    c = a + b\n",
    "    # c.device is device(type='xpu', index=1)\n",
    "\n",
    "    z = x + y\n",
    "    # z.device is device(type='xpu', index=0)\n",
    "\n",
    "    # even within a context, you can specify the device\n",
    "    # (or give a GPU index to the .xpu call)\n",
    "    d = torch.randn(2, device=xpu0)\n",
    "    e = torch.randn(2).to(xpu0)\n",
    "    f = torch.randn(2).xpu(xpu0)\n",
    "    # d.device, e.device, and f.device are all device(type='cuda', index=2)"
   ],
   "id": "108c3b0066333741",
   "execution_count": 57,
   "outputs": []
  },
  {
   "metadata": {
    "ExecuteTime": {
     "end_time": "2024-05-31T14:06:19.584753Z",
     "start_time": "2024-05-31T14:06:19.554713Z"
    }
   },
   "cell_type": "code",
   "source": "a, b, b2, c, z, d, e, f",
   "id": "f036da5b237a8b29",
   "execution_count": 59,
   "outputs": []
  },
  {
   "metadata": {
    "ExecuteTime": {
     "end_time": "2024-05-31T14:09:38.547619Z",
     "start_time": "2024-05-31T14:09:38.526620Z"
    }
   },
   "cell_type": "code",
   "source": [
    "s = torch.xpu.Stream()  # Create a new stream.\n",
    "A = torch.empty((100, 100), device=xpu).normal_(0.0, 1.0)\n",
    "with torch.xpu.stream(s):\n",
    "    # sum() may start execution before normal_() finishes!\n",
    "    B = torch.sum(A)\n",
    "B"
   ],
   "id": "d9592443397b200c",
   "execution_count": 67,
   "outputs": []
  },
  {
   "metadata": {
    "ExecuteTime": {
     "end_time": "2024-05-31T14:36:13.321875Z",
     "start_time": "2024-05-31T14:36:13.306876Z"
    }
   },
   "cell_type": "code",
   "source": [
    "tensor = torch.rand(3, 3)\n",
    "tensor.device"
   ],
   "id": "c269103b6c0df0ba",
   "execution_count": 68,
   "outputs": []
  },
  {
   "metadata": {
    "ExecuteTime": {
     "end_time": "2024-05-31T14:36:38.280079Z",
     "start_time": "2024-05-31T14:36:38.261078Z"
    }
   },
   "cell_type": "code",
   "source": [
    "tensor1 = tensor.xpu()\n",
    "tensor.device, tensor1.device"
   ],
   "id": "f94409117d577c29",
   "execution_count": 69,
   "outputs": []
  },
  {
   "metadata": {
    "ExecuteTime": {
     "end_time": "2024-05-31T14:37:02.757361Z",
     "start_time": "2024-05-31T14:37:02.745359Z"
    }
   },
   "cell_type": "code",
   "source": [
    "tensor2 = tensor.to('xpu')\n",
    "tensor.device, tensor2.device"
   ],
   "id": "4224588df27cfb5e",
   "execution_count": 70,
   "outputs": []
  },
  {
   "metadata": {
    "ExecuteTime": {
     "end_time": "2024-05-31T14:43:40.599298Z",
     "start_time": "2024-05-31T14:43:40.593299Z"
    }
   },
   "cell_type": "code",
   "source": "tensor.is_xpu, tensor1.is_xpu, tensor2.is_xpu",
   "id": "3d662126ad18745d",
   "execution_count": 78,
   "outputs": []
  }
 ],
 "metadata": {
  "kernelspec": {
   "display_name": "Python 3",
   "language": "python",
   "name": "python3"
  },
  "language_info": {
   "codemirror_mode": {
    "name": "ipython",
    "version": 2
   },
   "file_extension": ".py",
   "mimetype": "text/x-python",
   "name": "python",
   "nbconvert_exporter": "python",
   "pygments_lexer": "ipython2",
   "version": "2.7.6"
  }
 },
 "nbformat": 4,
 "nbformat_minor": 5
}

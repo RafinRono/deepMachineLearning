{
 "cells": [
  {
   "cell_type": "code",
   "id": "initial_id",
   "metadata": {
    "collapsed": true,
    "ExecuteTime": {
     "end_time": "2024-05-27T14:05:35.694441Z",
     "start_time": "2024-05-27T14:05:33.826113Z"
    }
   },
   "source": "import torch",
   "outputs": [],
   "execution_count": 1
  },
  {
   "metadata": {
    "ExecuteTime": {
     "end_time": "2024-05-27T14:08:00.705978Z",
     "start_time": "2024-05-27T14:08:00.699979Z"
    }
   },
   "cell_type": "code",
   "source": [
    "tensor1 = torch.tensor([[[1,2,3],[4,5,6],[7,8,9]]])\n",
    "print(tensor1)\n",
    "print(tensor1.ndim)\n",
    "print(tensor1.shape)\n",
    "print(tensor1[0])"
   ],
   "id": "d50fbedc536ee907",
   "outputs": [
    {
     "name": "stdout",
     "output_type": "stream",
     "text": [
      "tensor([[[1, 2, 3],\n",
      "         [4, 5, 6],\n",
      "         [7, 8, 9]]])\n",
      "3\n",
      "torch.Size([1, 3, 3])\n",
      "tensor([[1, 2, 3],\n",
      "        [4, 5, 6],\n",
      "        [7, 8, 9]])\n"
     ]
    }
   ],
   "execution_count": 5
  },
  {
   "metadata": {
    "ExecuteTime": {
     "end_time": "2024-05-27T14:08:12.695210Z",
     "start_time": "2024-05-27T14:08:12.688746Z"
    }
   },
   "cell_type": "code",
   "source": [
    "tensor2 = torch.tensor([[[[5, 6, 7], [11, 45, 7], [22, 91, 2], [11, 55, 69]]]])\n",
    "tensor2"
   ],
   "id": "fe2463aadb23466b",
   "outputs": [
    {
     "data": {
      "text/plain": [
       "tensor([[[[ 5,  6,  7],\n",
       "          [11, 45,  7],\n",
       "          [22, 91,  2],\n",
       "          [11, 55, 69]]]])"
      ]
     },
     "execution_count": 6,
     "metadata": {},
     "output_type": "execute_result"
    }
   ],
   "execution_count": 6
  },
  {
   "metadata": {
    "ExecuteTime": {
     "end_time": "2024-05-27T14:08:21.244509Z",
     "start_time": "2024-05-27T14:08:21.239510Z"
    }
   },
   "cell_type": "code",
   "source": "tensor2.ndim",
   "id": "942b3f77273013ab",
   "outputs": [
    {
     "data": {
      "text/plain": [
       "4"
      ]
     },
     "execution_count": 8,
     "metadata": {},
     "output_type": "execute_result"
    }
   ],
   "execution_count": 8
  },
  {
   "metadata": {
    "ExecuteTime": {
     "end_time": "2024-05-27T14:08:57.668353Z",
     "start_time": "2024-05-27T14:08:57.663352Z"
    }
   },
   "cell_type": "code",
   "source": "tensor2.shape",
   "id": "7a692c64c452b2b5",
   "outputs": [
    {
     "data": {
      "text/plain": [
       "torch.Size([1, 1, 4, 3])"
      ]
     },
     "execution_count": 10,
     "metadata": {},
     "output_type": "execute_result"
    }
   ],
   "execution_count": 10
  },
  {
   "metadata": {
    "ExecuteTime": {
     "end_time": "2024-05-27T14:10:12.185405Z",
     "start_time": "2024-05-27T14:10:12.179403Z"
    }
   },
   "cell_type": "code",
   "source": [
    "tensor3 = torch.tensor([[[[5, 6, 7], [11, 45, 7]],[[11, 55, 69], [22, 91, 2]]]])\n",
    "tensor3"
   ],
   "id": "84f16db6065a0efb",
   "outputs": [
    {
     "data": {
      "text/plain": [
       "tensor([[[[ 5,  6,  7],\n",
       "          [11, 45,  7]],\n",
       "\n",
       "         [[11, 55, 69],\n",
       "          [22, 91,  2]]]])"
      ]
     },
     "execution_count": 13,
     "metadata": {},
     "output_type": "execute_result"
    }
   ],
   "execution_count": 13
  },
  {
   "metadata": {
    "ExecuteTime": {
     "end_time": "2024-05-27T14:10:21.744800Z",
     "start_time": "2024-05-27T14:10:21.736712Z"
    }
   },
   "cell_type": "code",
   "source": "tensor3.ndim",
   "id": "65794890b20dfab9",
   "outputs": [
    {
     "data": {
      "text/plain": [
       "4"
      ]
     },
     "execution_count": 15,
     "metadata": {},
     "output_type": "execute_result"
    }
   ],
   "execution_count": 15
  },
  {
   "metadata": {
    "ExecuteTime": {
     "end_time": "2024-05-27T14:13:15.330145Z",
     "start_time": "2024-05-27T14:13:15.322121Z"
    }
   },
   "cell_type": "code",
   "source": [
    "print(tensor3.shape)\n",
    "print(tensor3[0][1])\n",
    "print(tensor3[0][1][0])\n",
    "print(tensor3[0][1][0][2])\n",
    "print(tensor3[0][1][0][2].item())"
   ],
   "id": "f2a81fcd70b1fb47",
   "outputs": [
    {
     "name": "stdout",
     "output_type": "stream",
     "text": [
      "torch.Size([1, 2, 2, 3])\n",
      "tensor([[11, 55, 69],\n",
      "        [22, 91,  2]])\n",
      "tensor([11, 55, 69])\n",
      "tensor(69)\n",
      "69\n"
     ]
    }
   ],
   "execution_count": 26
  },
  {
   "metadata": {
    "ExecuteTime": {
     "end_time": "2024-05-27T14:16:17.962038Z",
     "start_time": "2024-05-27T14:16:17.955929Z"
    }
   },
   "cell_type": "code",
   "source": [
    "tensor4 = torch.tensor([[[[5, 6, 7], [11, 45, 7]],[[11, 55, 69], [22, 91, 2]]],[[[-2, -6, -32], [-1, -85,-9]],[[-101, -5, -99], [-2, -91, -3]]]])\n",
    "tensor4"
   ],
   "id": "55b41c3dd7b4cf3b",
   "outputs": [
    {
     "data": {
      "text/plain": [
       "tensor([[[[   5,    6,    7],\n",
       "          [  11,   45,    7]],\n",
       "\n",
       "         [[  11,   55,   69],\n",
       "          [  22,   91,    2]]],\n",
       "\n",
       "\n",
       "        [[[  -2,   -6,  -32],\n",
       "          [  -1,  -85,   -9]],\n",
       "\n",
       "         [[-101,   -5,  -99],\n",
       "          [  -2,  -91,   -3]]]])"
      ]
     },
     "execution_count": 37,
     "metadata": {},
     "output_type": "execute_result"
    }
   ],
   "execution_count": 37
  },
  {
   "metadata": {
    "ExecuteTime": {
     "end_time": "2024-05-27T14:14:45.674136Z",
     "start_time": "2024-05-27T14:14:45.670135Z"
    }
   },
   "cell_type": "code",
   "source": "tensor4.ndim",
   "id": "34160fce6b6cc9e",
   "outputs": [
    {
     "data": {
      "text/plain": [
       "4"
      ]
     },
     "execution_count": 30,
     "metadata": {},
     "output_type": "execute_result"
    }
   ],
   "execution_count": 30
  },
  {
   "metadata": {
    "ExecuteTime": {
     "end_time": "2024-05-27T14:14:58.371952Z",
     "start_time": "2024-05-27T14:14:58.352944Z"
    }
   },
   "cell_type": "code",
   "source": "tensor4.shape",
   "id": "1049d53a61d30aaf",
   "outputs": [
    {
     "data": {
      "text/plain": [
       "torch.Size([2, 2, 2, 3])"
      ]
     },
     "execution_count": 32,
     "metadata": {},
     "output_type": "execute_result"
    }
   ],
   "execution_count": 32
  },
  {
   "metadata": {
    "ExecuteTime": {
     "end_time": "2024-05-27T14:18:03.577252Z",
     "start_time": "2024-05-27T14:18:03.046251Z"
    }
   },
   "cell_type": "code",
   "source": "tensor4[1][1][1].item() #item() can be used for tensors with 1 element",
   "id": "28a92da57fe0ca17",
   "outputs": [
    {
     "ename": "RuntimeError",
     "evalue": "a Tensor with 3 elements cannot be converted to Scalar",
     "output_type": "error",
     "traceback": [
      "\u001B[1;31m---------------------------------------------------------------------------\u001B[0m",
      "\u001B[1;31mRuntimeError\u001B[0m                              Traceback (most recent call last)",
      "Cell \u001B[1;32mIn[41], line 1\u001B[0m\n\u001B[1;32m----> 1\u001B[0m \u001B[43mtensor4\u001B[49m\u001B[43m[\u001B[49m\u001B[38;5;241;43m1\u001B[39;49m\u001B[43m]\u001B[49m\u001B[43m[\u001B[49m\u001B[38;5;241;43m1\u001B[39;49m\u001B[43m]\u001B[49m\u001B[43m[\u001B[49m\u001B[38;5;241;43m1\u001B[39;49m\u001B[43m]\u001B[49m\u001B[38;5;241;43m.\u001B[39;49m\u001B[43mitem\u001B[49m\u001B[43m(\u001B[49m\u001B[43m)\u001B[49m\n",
      "\u001B[1;31mRuntimeError\u001B[0m: a Tensor with 3 elements cannot be converted to Scalar"
     ]
    }
   ],
   "execution_count": 41
  },
  {
   "metadata": {
    "ExecuteTime": {
     "end_time": "2024-05-27T14:18:16.294033Z",
     "start_time": "2024-05-27T14:18:16.282034Z"
    }
   },
   "cell_type": "code",
   "source": "tensor4[1][1][1][2]",
   "id": "11c9d1fb431d13a9",
   "outputs": [
    {
     "data": {
      "text/plain": [
       "tensor(-3)"
      ]
     },
     "execution_count": 42,
     "metadata": {},
     "output_type": "execute_result"
    }
   ],
   "execution_count": 42
  },
  {
   "metadata": {
    "ExecuteTime": {
     "end_time": "2024-05-27T14:18:30.554900Z",
     "start_time": "2024-05-27T14:18:30.548896Z"
    }
   },
   "cell_type": "code",
   "source": "tensor4[1][1][1][2].item()",
   "id": "adabbcc140ea991f",
   "outputs": [
    {
     "data": {
      "text/plain": [
       "-3"
      ]
     },
     "execution_count": 43,
     "metadata": {},
     "output_type": "execute_result"
    }
   ],
   "execution_count": 43
  },
  {
   "metadata": {
    "ExecuteTime": {
     "end_time": "2024-05-27T14:17:01.363099Z",
     "start_time": "2024-05-27T14:17:01.353637Z"
    }
   },
   "cell_type": "code",
   "source": [
    "tensor5 = torch.tensor([[[1.3,2.2,3.88],[4.212121,5.434343,6.11],[7.265465262,8,9]]])\n",
    "tensor5"
   ],
   "id": "d4382c54fec0ca2d",
   "outputs": [
    {
     "data": {
      "text/plain": [
       "tensor([[[1.3000, 2.2000, 3.8800],\n",
       "         [4.2121, 5.4343, 6.1100],\n",
       "         [7.2655, 8.0000, 9.0000]]])"
      ]
     },
     "execution_count": 39,
     "metadata": {},
     "output_type": "execute_result"
    }
   ],
   "execution_count": 39
  }
 ],
 "metadata": {
  "kernelspec": {
   "display_name": "Python 3",
   "language": "python",
   "name": "python3"
  },
  "language_info": {
   "codemirror_mode": {
    "name": "ipython",
    "version": 2
   },
   "file_extension": ".py",
   "mimetype": "text/x-python",
   "name": "python",
   "nbconvert_exporter": "python",
   "pygments_lexer": "ipython2",
   "version": "2.7.6"
  }
 },
 "nbformat": 4,
 "nbformat_minor": 5
}

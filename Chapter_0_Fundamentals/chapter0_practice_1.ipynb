{
 "cells": [
  {
   "cell_type": "code",
   "id": "initial_id",
   "metadata": {
    "collapsed": true,
    "ExecuteTime": {
     "end_time": "2024-05-28T07:00:56.236059Z",
     "start_time": "2024-05-28T07:00:54.343857Z"
    }
   },
   "source": "import torch",
   "execution_count": 1,
   "outputs": []
  },
  {
   "metadata": {
    "ExecuteTime": {
     "end_time": "2024-05-28T07:00:56.251460Z",
     "start_time": "2024-05-28T07:00:56.237063Z"
    }
   },
   "cell_type": "code",
   "source": [
    "randomTensor = torch.rand(2,5,6)\n",
    "print(randomTensor)"
   ],
   "id": "3a6dfa483b0ff2e8",
   "execution_count": 2,
   "outputs": []
  },
  {
   "metadata": {
    "ExecuteTime": {
     "end_time": "2024-05-28T07:00:56.267458Z",
     "start_time": "2024-05-28T07:00:56.252461Z"
    }
   },
   "cell_type": "code",
   "source": "randomTensor.shape",
   "id": "3bc93734343d4cfe",
   "execution_count": 3,
   "outputs": []
  },
  {
   "metadata": {
    "ExecuteTime": {
     "end_time": "2024-05-28T07:00:56.282461Z",
     "start_time": "2024-05-28T07:00:56.268461Z"
    }
   },
   "cell_type": "code",
   "source": [
    "randomTensor1 = torch.rand(1, 4, 5, 2)\n",
    "randomTensor1"
   ],
   "id": "cdf5af4878b9786f",
   "execution_count": 4,
   "outputs": []
  },
  {
   "metadata": {
    "ExecuteTime": {
     "end_time": "2024-05-28T07:00:56.298458Z",
     "start_time": "2024-05-28T07:00:56.283461Z"
    }
   },
   "cell_type": "code",
   "source": "randomTensor1.ndim",
   "id": "255fe03f087937ba",
   "execution_count": 5,
   "outputs": []
  },
  {
   "metadata": {
    "ExecuteTime": {
     "end_time": "2024-05-28T07:00:56.313461Z",
     "start_time": "2024-05-28T07:00:56.299459Z"
    }
   },
   "cell_type": "code",
   "source": [
    "randomTensor2 = torch.rand(2, 4, 5, 2, 3)\n",
    "randomTensor2"
   ],
   "id": "c4fe70a5be29d527",
   "execution_count": 6,
   "outputs": []
  },
  {
   "metadata": {
    "ExecuteTime": {
     "end_time": "2024-05-28T07:00:56.329463Z",
     "start_time": "2024-05-28T07:00:56.314460Z"
    }
   },
   "cell_type": "code",
   "source": "randomTensor2.ndim, randomTensor2.shape, randomTensor2.dtype",
   "id": "94a5d3efaaa2ccc3",
   "execution_count": 7,
   "outputs": []
  },
  {
   "metadata": {
    "ExecuteTime": {
     "end_time": "2024-05-28T07:00:56.345458Z",
     "start_time": "2024-05-28T07:00:56.330460Z"
    }
   },
   "cell_type": "code",
   "source": [
    "randomTensorWithZeros = torch.zeros(1, 2, 3, 4)\n",
    "randomTensorWithZeros"
   ],
   "id": "268092dd1774c2ab",
   "execution_count": 8,
   "outputs": []
  },
  {
   "metadata": {
    "ExecuteTime": {
     "end_time": "2024-05-28T07:00:56.361460Z",
     "start_time": "2024-05-28T07:00:56.346461Z"
    }
   },
   "cell_type": "code",
   "source": [
    "randomTensorWithZeros1 = torch.zeros(9)\n",
    "randomTensorWithZeros1, randomTensorWithZeros1.dtype"
   ],
   "id": "f9da5730c650098f",
   "execution_count": 9,
   "outputs": []
  },
  {
   "metadata": {
    "ExecuteTime": {
     "end_time": "2024-05-28T07:00:56.377460Z",
     "start_time": "2024-05-28T07:00:56.362460Z"
    }
   },
   "cell_type": "code",
   "source": [
    "randomTensorWithOnes = torch.ones(2, 5, 3, 4)\n",
    "randomTensorWithOnes"
   ],
   "id": "9ad53cab1be5ae0c",
   "execution_count": 10,
   "outputs": []
  },
  {
   "metadata": {
    "ExecuteTime": {
     "end_time": "2024-05-28T07:00:56.393458Z",
     "start_time": "2024-05-28T07:00:56.378460Z"
    }
   },
   "cell_type": "code",
   "source": [
    "randomTensorWithRange = torch.arange(10, 30)\n",
    "randomTensorWithRange, randomTensorWithRange.shape, randomTensorWithRange.dtype"
   ],
   "id": "13fd7d479d0f6929",
   "execution_count": 11,
   "outputs": []
  },
  {
   "metadata": {
    "ExecuteTime": {
     "end_time": "2024-05-28T07:00:56.409462Z",
     "start_time": "2024-05-28T07:00:56.394460Z"
    }
   },
   "cell_type": "code",
   "source": [
    "randomTensorWithRangeStep = torch.arange(10, 3166, 334)\n",
    "randomTensorWithRangeStep, randomTensorWithRangeStep.shape, randomTensorWithRangeStep.dtype"
   ],
   "id": "fbad3f6acf184de",
   "execution_count": 12,
   "outputs": []
  },
  {
   "metadata": {
    "ExecuteTime": {
     "end_time": "2024-05-28T07:00:56.425458Z",
     "start_time": "2024-05-28T07:00:56.410461Z"
    }
   },
   "cell_type": "code",
   "source": [
    "float16Tensor = torch.rand([3,4,5,6],dtype=torch.float16)\n",
    "float16Tensor"
   ],
   "id": "2263bd51d3bc43e2",
   "execution_count": 13,
   "outputs": []
  },
  {
   "metadata": {
    "ExecuteTime": {
     "end_time": "2024-05-28T07:00:56.441462Z",
     "start_time": "2024-05-28T07:00:56.428459Z"
    }
   },
   "cell_type": "code",
   "source": [
    "float64Tensor = torch.rand([1, 3, 2, 2],dtype=torch.float64)\n",
    "float64Tensor"
   ],
   "id": "b88f8b27230781e5",
   "execution_count": 14,
   "outputs": []
  },
  {
   "metadata": {
    "ExecuteTime": {
     "end_time": "2024-05-28T07:00:56.457458Z",
     "start_time": "2024-05-28T07:00:56.442462Z"
    }
   },
   "cell_type": "code",
   "source": [
    "#int32Tensor = torch.rand([1, 3, 2, 2],dtype=torch.int32)\n",
    "#int32Tensor # error occurs because rand works with floating point numbers, NOT int"
   ],
   "id": "8b485644112177cd",
   "execution_count": 15,
   "outputs": []
  },
  {
   "metadata": {
    "ExecuteTime": {
     "end_time": "2024-05-28T07:00:56.472458Z",
     "start_time": "2024-05-28T07:00:56.458461Z"
    }
   },
   "cell_type": "code",
   "source": [
    "int64Tensor = float64Tensor.type(torch.int64)\n",
    "int64Tensor # float -> int converts all value to 0 "
   ],
   "id": "e83034d0dd7ad61e",
   "execution_count": 16,
   "outputs": []
  },
  {
   "metadata": {
    "ExecuteTime": {
     "end_time": "2024-05-28T07:00:56.488459Z",
     "start_time": "2024-05-28T07:00:56.473462Z"
    }
   },
   "cell_type": "code",
   "source": [
    "int32Tensor = torch.tensor([1, 4, 58, 9, -7], dtype=torch.int32)\n",
    "int32Tensor"
   ],
   "id": "bf741bb5472c39f2",
   "execution_count": 17,
   "outputs": []
  },
  {
   "metadata": {
    "ExecuteTime": {
     "end_time": "2024-05-28T07:00:56.504459Z",
     "start_time": "2024-05-28T07:00:56.489458Z"
    }
   },
   "cell_type": "code",
   "source": [
    "float32Tensor = int32Tensor.type(torch.float32)\n",
    "float32Tensor # but int -> float conversion works"
   ],
   "id": "4dc39efbe0416287",
   "execution_count": 18,
   "outputs": []
  },
  {
   "metadata": {
    "ExecuteTime": {
     "end_time": "2024-05-28T07:00:56.520458Z",
     "start_time": "2024-05-28T07:00:56.505461Z"
    }
   },
   "cell_type": "code",
   "source": [
    "floatTensor = torch.rand([1,3], dtype=torch.float)\n",
    "floatTensor"
   ],
   "id": "c0329b062640ae9c",
   "execution_count": 19,
   "outputs": []
  },
  {
   "metadata": {
    "ExecuteTime": {
     "end_time": "2024-05-28T07:00:56.536458Z",
     "start_time": "2024-05-28T07:00:56.521459Z"
    }
   },
   "cell_type": "code",
   "source": [
    "intTensor = floatTensor.type(torch.int)\n",
    "intTensor # float -> int conversion yields a zero-filled tensor"
   ],
   "id": "8004c1084556572c",
   "execution_count": 20,
   "outputs": []
  },
  {
   "metadata": {
    "ExecuteTime": {
     "end_time": "2024-05-28T07:00:56.552458Z",
     "start_time": "2024-05-28T07:00:56.537459Z"
    }
   },
   "cell_type": "code",
   "source": [
    "booleanTensor = torch.tensor([1,0,1,3,-4,-1262,0], dtype=torch.bool)\n",
    "booleanTensor"
   ],
   "id": "5e8c2a5b5f4bdcb6",
   "execution_count": 21,
   "outputs": []
  },
  {
   "metadata": {
    "ExecuteTime": {
     "end_time": "2024-05-28T07:00:56.568459Z",
     "start_time": "2024-05-28T07:00:56.553461Z"
    }
   },
   "cell_type": "code",
   "source": [
    "complex32Tensor = torch.rand([1,5],dtype=torch.complex64)\n",
    "complex32Tensor"
   ],
   "id": "43d624135ebbe0eb",
   "execution_count": 22,
   "outputs": []
  },
  {
   "metadata": {
    "ExecuteTime": {
     "end_time": "2024-05-28T07:00:56.584458Z",
     "start_time": "2024-05-28T07:00:56.569459Z"
    }
   },
   "cell_type": "code",
   "source": [
    "emptyTensor = torch.empty([2,3])\n",
    "emptyTensor, emptyTensor.dtype, emptyTensor.shape"
   ],
   "id": "5b0bc8416e9fd1c9",
   "execution_count": 23,
   "outputs": []
  },
  {
   "metadata": {
    "ExecuteTime": {
     "end_time": "2024-05-28T07:00:56.600458Z",
     "start_time": "2024-05-28T07:00:56.585459Z"
    }
   },
   "cell_type": "code",
   "source": [
    "testTensor = torch.empty([2, 3],dtype=torch.int64)\n",
    "testTensor, testTensor.dtype, testTensor.shape"
   ],
   "id": "c6d3e590cad3e032",
   "execution_count": 24,
   "outputs": []
  },
  {
   "metadata": {
    "ExecuteTime": {
     "end_time": "2024-05-28T07:00:56.616458Z",
     "start_time": "2024-05-28T07:00:56.601461Z"
    }
   },
   "cell_type": "code",
   "source": [
    "testTensor1 = torch.IntTensor(5)\n",
    "testTensor1"
   ],
   "id": "2c7e5be304acfd0a",
   "execution_count": 25,
   "outputs": []
  },
  {
   "metadata": {
    "ExecuteTime": {
     "end_time": "2024-05-28T07:00:56.632458Z",
     "start_time": "2024-05-28T07:00:56.617459Z"
    }
   },
   "cell_type": "code",
   "source": [
    "testTensor2 = torch.tensor(testTensor1.shape, dtype=torch.int)\n",
    "testTensor2"
   ],
   "id": "2f2b09b3c3abdb64",
   "execution_count": 26,
   "outputs": []
  },
  {
   "metadata": {
    "ExecuteTime": {
     "end_time": "2024-05-28T07:00:56.647458Z",
     "start_time": "2024-05-28T07:00:56.633460Z"
    }
   },
   "cell_type": "code",
   "source": [
    "# some example from: https://pytorch.org/docs/stable/tensors.html#data-types\n",
    "x = torch.tensor([[1]])\n",
    "print(x.item(), x.ndim)\n",
    "x = torch.tensor(2.5)\n",
    "print(x.item(), x.ndim)"
   ],
   "id": "19da443230b42dcb",
   "execution_count": 27,
   "outputs": []
  },
  {
   "metadata": {
    "ExecuteTime": {
     "end_time": "2024-05-28T07:00:56.663459Z",
     "start_time": "2024-05-28T07:00:56.648459Z"
    }
   },
   "cell_type": "code",
   "source": [
    "testTensor3 = torch.rand([2,3])\n",
    "testTensor3, testTensor3.H # returns the transposed version, works for 2D tensors only"
   ],
   "id": "c81b3ba4b11e6cf3",
   "execution_count": 28,
   "outputs": []
  },
  {
   "metadata": {
    "ExecuteTime": {
     "end_time": "2024-05-28T07:00:56.679457Z",
     "start_time": "2024-05-28T07:00:56.664461Z"
    }
   },
   "cell_type": "code",
   "source": [
    "testTensor4 = torch.rand([1,4,3])\n",
    "testTensor4, testTensor4.mH #returns the adjoined matrix which is also transposed"
   ],
   "id": "4329199e003ca2cb",
   "execution_count": 29,
   "outputs": []
  },
  {
   "metadata": {
    "ExecuteTime": {
     "end_time": "2024-05-28T07:00:56.695458Z",
     "start_time": "2024-05-28T07:00:56.680460Z"
    }
   },
   "cell_type": "code",
   "source": "testTensor4.new_full([2,3], 5) #fills the new tensor of the provided size with the provided data ",
   "id": "c870afca0116ca27",
   "execution_count": 30,
   "outputs": []
  },
  {
   "metadata": {
    "ExecuteTime": {
     "end_time": "2024-05-28T07:00:56.711458Z",
     "start_time": "2024-05-28T07:00:56.696459Z"
    }
   },
   "cell_type": "code",
   "source": "testTensor4.new_empty(2,3) # creates the tensor with uninitialized values",
   "id": "50242a4904622e84",
   "execution_count": 31,
   "outputs": []
  },
  {
   "metadata": {
    "ExecuteTime": {
     "end_time": "2024-05-28T07:00:56.727462Z",
     "start_time": "2024-05-28T07:00:56.712459Z"
    }
   },
   "cell_type": "code",
   "source": "int32Tensor * float32Tensor",
   "id": "dabfb0f439b9e4a1",
   "execution_count": 32,
   "outputs": []
  },
  {
   "metadata": {
    "ExecuteTime": {
     "end_time": "2024-05-28T07:00:56.743461Z",
     "start_time": "2024-05-28T07:00:56.728459Z"
    }
   },
   "cell_type": "code",
   "source": "int32Tensor.shape, float64Tensor.shape",
   "id": "56654574bfbd7b7e",
   "execution_count": 33,
   "outputs": []
  },
  {
   "metadata": {
    "ExecuteTime": {
     "end_time": "2024-05-28T07:00:57.123619Z",
     "start_time": "2024-05-28T07:00:56.744461Z"
    }
   },
   "cell_type": "code",
   "source": "float64Tensor*int32Tensor #dimension error",
   "id": "b3b5bd65eb5434aa",
   "execution_count": 34,
   "outputs": []
  }
 ],
 "metadata": {
  "kernelspec": {
   "display_name": "Python 3",
   "language": "python",
   "name": "python3"
  },
  "language_info": {
   "codemirror_mode": {
    "name": "ipython",
    "version": 2
   },
   "file_extension": ".py",
   "mimetype": "text/x-python",
   "name": "python",
   "nbconvert_exporter": "python",
   "pygments_lexer": "ipython2",
   "version": "2.7.6"
  }
 },
 "nbformat": 4,
 "nbformat_minor": 5
}

{
 "cells": [
  {
   "cell_type": "code",
   "id": "initial_id",
   "metadata": {
    "collapsed": true,
    "ExecuteTime": {
     "end_time": "2024-05-31T15:29:11.511684Z",
     "start_time": "2024-05-31T15:29:07.718045Z"
    }
   },
   "source": [
    "import torch\n",
    "import intel_extension_for_pytorch as ipex"
   ],
   "execution_count": 1,
   "outputs": []
  },
  {
   "metadata": {
    "ExecuteTime": {
     "end_time": "2024-05-31T15:29:11.527182Z",
     "start_time": "2024-05-31T15:29:11.512685Z"
    }
   },
   "cell_type": "code",
   "source": "ipex.ipex_version, ipex.is_loaded, ipex.has_xpu(), torch.xpu.is_available()",
   "id": "b90cc686f4057898",
   "execution_count": 2,
   "outputs": []
  },
  {
   "metadata": {
    "ExecuteTime": {
     "end_time": "2024-05-31T15:29:11.543183Z",
     "start_time": "2024-05-31T15:29:11.528179Z"
    }
   },
   "cell_type": "code",
   "source": "# torch.matmul(torch.rand(3, 2), torch.rand(3,2))",
   "id": "1386caba3f20b6d6",
   "execution_count": 3,
   "outputs": []
  },
  {
   "metadata": {
    "ExecuteTime": {
     "end_time": "2024-05-31T15:29:11.638177Z",
     "start_time": "2024-05-31T15:29:11.544180Z"
    }
   },
   "cell_type": "code",
   "source": "torch.matmul(torch.rand(3, 2714343), torch.rand(2714343, 3))",
   "id": "4990f654ae3fc0d0",
   "execution_count": 4,
   "outputs": []
  },
  {
   "metadata": {
    "ExecuteTime": {
     "end_time": "2024-05-31T15:29:11.684180Z",
     "start_time": "2024-05-31T15:29:11.641180Z"
    }
   },
   "cell_type": "code",
   "source": "torch.matmul(torch.rand(1, 2713254), torch.rand(2713254, 1)).shape",
   "id": "69ed8562d10bac99",
   "execution_count": 5,
   "outputs": []
  },
  {
   "metadata": {
    "ExecuteTime": {
     "end_time": "2024-05-31T15:29:11.699179Z",
     "start_time": "2024-05-31T15:29:11.685180Z"
    }
   },
   "cell_type": "code",
   "source": [
    "tensorA = torch.rand(5, 6)\n",
    "tensorA"
   ],
   "id": "9a540431be2601b9",
   "execution_count": 6,
   "outputs": []
  },
  {
   "metadata": {
    "ExecuteTime": {
     "end_time": "2024-05-31T15:29:11.715177Z",
     "start_time": "2024-05-31T15:29:11.700179Z"
    }
   },
   "cell_type": "code",
   "source": [
    "tensorB = torch.rand(5, 6)\n",
    "tensorB"
   ],
   "id": "5acc8dd8b0272c48",
   "execution_count": 7,
   "outputs": []
  },
  {
   "metadata": {
    "ExecuteTime": {
     "end_time": "2024-05-31T15:29:11.731181Z",
     "start_time": "2024-05-31T15:29:11.716180Z"
    }
   },
   "cell_type": "code",
   "source": "# torch.mm(tensorA, tensorB) #won't work as dimension error persists ",
   "id": "fd207bcf9ac1899c",
   "execution_count": 8,
   "outputs": []
  },
  {
   "metadata": {
    "ExecuteTime": {
     "end_time": "2024-05-31T15:29:11.747177Z",
     "start_time": "2024-05-31T15:29:11.732178Z"
    }
   },
   "cell_type": "code",
   "source": [
    "# By transposing either matrixA or matrixB, the dimension mismatch can be fixed\n",
    "tensorA.shape, tensorA.T.shape"
   ],
   "id": "ea16d48a849e521b",
   "execution_count": 9,
   "outputs": []
  },
  {
   "metadata": {
    "ExecuteTime": {
     "end_time": "2024-05-31T15:29:11.762177Z",
     "start_time": "2024-05-31T15:29:11.748177Z"
    }
   },
   "cell_type": "code",
   "source": [
    "tensorC = torch.tensor([[1, 2], [3, 4], [5, 6], [7, 8]])\n",
    "tensorD = torch.tensor([[8, 12], [9, 13], [10, 14], [11, 15]])"
   ],
   "id": "8c94c875d5c13470",
   "execution_count": 10,
   "outputs": []
  },
  {
   "metadata": {
    "ExecuteTime": {
     "end_time": "2024-05-31T15:29:11.778178Z",
     "start_time": "2024-05-31T15:29:11.763177Z"
    }
   },
   "cell_type": "code",
   "source": "tensorC, tensorC.shape",
   "id": "ec6449971d93a026",
   "execution_count": 11,
   "outputs": []
  },
  {
   "metadata": {
    "ExecuteTime": {
     "end_time": "2024-05-31T15:29:11.794178Z",
     "start_time": "2024-05-31T15:29:11.779178Z"
    }
   },
   "cell_type": "code",
   "source": "tensorD, tensorD.shape",
   "id": "998a8924b439092f",
   "execution_count": 12,
   "outputs": []
  },
  {
   "metadata": {
    "ExecuteTime": {
     "end_time": "2024-05-31T15:29:11.810177Z",
     "start_time": "2024-05-31T15:29:11.795180Z"
    }
   },
   "cell_type": "code",
   "source": "tensorC, tensorC.T, tensorC.T.shape",
   "id": "ba7dcd0171ed372e",
   "execution_count": 13,
   "outputs": []
  },
  {
   "metadata": {
    "ExecuteTime": {
     "end_time": "2024-05-31T15:29:11.826180Z",
     "start_time": "2024-05-31T15:29:11.814179Z"
    }
   },
   "cell_type": "code",
   "source": [
    "# Or tensorD could've been transposed instead and that could've been multiplied with the original tensorC\n",
    "torch.mm(tensorC, tensorD.T)"
   ],
   "id": "a982e0290efd295b",
   "execution_count": 14,
   "outputs": []
  },
  {
   "metadata": {
    "ExecuteTime": {
     "end_time": "2024-05-31T15:29:11.842181Z",
     "start_time": "2024-05-31T15:29:11.827180Z"
    }
   },
   "cell_type": "code",
   "source": "# Notice that the output dimensions and even the result are different ",
   "id": "2df2cfe7594de445",
   "execution_count": 15,
   "outputs": []
  },
  {
   "metadata": {
    "ExecuteTime": {
     "end_time": "2024-05-31T15:29:11.905179Z",
     "start_time": "2024-05-31T15:29:11.843181Z"
    }
   },
   "cell_type": "code",
   "source": [
    "x = torch.rand(2,3)\n",
    "x, x.T, x.H"
   ],
   "id": "82f8666d7f6cdd3f",
   "execution_count": 16,
   "outputs": []
  },
  {
   "metadata": {
    "ExecuteTime": {
     "end_time": "2024-05-31T15:29:11.921180Z",
     "start_time": "2024-05-31T15:29:11.906180Z"
    }
   },
   "cell_type": "code",
   "source": [
    "tensor = torch.IntTensor(32)\n",
    "tensor"
   ],
   "id": "34ebea3ee3660209",
   "execution_count": 17,
   "outputs": []
  },
  {
   "metadata": {
    "ExecuteTime": {
     "end_time": "2024-05-31T15:29:11.937179Z",
     "start_time": "2024-05-31T15:29:11.922179Z"
    }
   },
   "cell_type": "code",
   "source": [
    "# Now transposed matrixC can be multiplied with matrixD\n",
    "torch.mm(tensorC.T, tensorD)"
   ],
   "id": "334b9ae807eb6c5f",
   "execution_count": 18,
   "outputs": []
  },
  {
   "metadata": {
    "ExecuteTime": {
     "end_time": "2024-05-31T15:29:11.952179Z",
     "start_time": "2024-05-31T15:29:11.938181Z"
    }
   },
   "cell_type": "code",
   "source": "torch.max(tensor), tensor.max()",
   "id": "983ae9edd6154ae4",
   "execution_count": 19,
   "outputs": []
  },
  {
   "metadata": {
    "ExecuteTime": {
     "end_time": "2024-05-31T15:29:11.967179Z",
     "start_time": "2024-05-31T15:29:11.953181Z"
    }
   },
   "cell_type": "code",
   "source": "(torch.min(tensor), tensor.min())",
   "id": "69f41b8f0976b69a",
   "execution_count": 20,
   "outputs": []
  },
  {
   "metadata": {
    "ExecuteTime": {
     "end_time": "2024-05-31T15:29:11.983181Z",
     "start_time": "2024-05-31T15:29:11.968181Z"
    }
   },
   "cell_type": "code",
   "source": "# (torch.mean(tensor), tensor.mean()) # won't work as the tensor is of int32 dtype",
   "id": "196a695b3e0d1561",
   "execution_count": 21,
   "outputs": []
  },
  {
   "metadata": {
    "ExecuteTime": {
     "end_time": "2024-05-31T15:29:11.999181Z",
     "start_time": "2024-05-31T15:29:11.984180Z"
    }
   },
   "cell_type": "code",
   "source": "torch.mean(tensor.type(torch.float32)), tensor.type(torch.float32).mean()",
   "id": "878c4b3052eb096b",
   "execution_count": 22,
   "outputs": []
  },
  {
   "metadata": {
    "ExecuteTime": {
     "end_time": "2024-05-31T15:29:12.030178Z",
     "start_time": "2024-05-31T15:29:12.000179Z"
    }
   },
   "cell_type": "code",
   "source": [
    "# argmin & argmax -> returns the index positions of min and max elements respectively\n",
    "# If there are multiple minimal values then the indices of the first minimal value are returned - https://pytorch.org/docs/stable/generated/torch.argmin.html\n",
    "torch.argmin(tensor), tensor.argmin()"
   ],
   "id": "a675c66cb9523c2b",
   "execution_count": 23,
   "outputs": []
  },
  {
   "metadata": {
    "ExecuteTime": {
     "end_time": "2024-05-31T15:29:12.062179Z",
     "start_time": "2024-05-31T15:29:12.031179Z"
    }
   },
   "cell_type": "code",
   "source": "torch.argmax(tensor), tensor.argmax()",
   "id": "40a8cd6659ce0c73",
   "execution_count": 24,
   "outputs": []
  },
  {
   "metadata": {
    "ExecuteTime": {
     "end_time": "2024-05-31T15:29:12.094179Z",
     "start_time": "2024-05-31T15:29:12.063180Z"
    }
   },
   "cell_type": "code",
   "source": [
    "tensor = torch.randn(5, 6)\n",
    "tensor"
   ],
   "id": "72364e0dcdc43b5c",
   "execution_count": 25,
   "outputs": []
  },
  {
   "metadata": {
    "ExecuteTime": {
     "end_time": "2024-05-31T15:29:12.110180Z",
     "start_time": "2024-05-31T15:29:12.095183Z"
    }
   },
   "cell_type": "code",
   "source": "torch.argmin(tensor)",
   "id": "4b9575f3c406532c",
   "execution_count": 26,
   "outputs": []
  },
  {
   "metadata": {
    "ExecuteTime": {
     "end_time": "2024-05-31T15:29:12.126180Z",
     "start_time": "2024-05-31T15:29:12.111180Z"
    }
   },
   "cell_type": "code",
   "source": "torch.argmin(tensor, dim=1) # this checks for the minimum elements index for each row",
   "id": "5d5627ad1836410c",
   "execution_count": 27,
   "outputs": []
  },
  {
   "metadata": {
    "ExecuteTime": {
     "end_time": "2024-05-31T15:29:12.141179Z",
     "start_time": "2024-05-31T15:29:12.127179Z"
    }
   },
   "cell_type": "code",
   "source": "torch.argmin(tensor, dim=-2) # this finds the minimum element index in each column",
   "id": "3d6272ebf6e7d94c",
   "execution_count": 28,
   "outputs": []
  },
  {
   "metadata": {
    "ExecuteTime": {
     "end_time": "2024-05-31T15:29:12.157181Z",
     "start_time": "2024-05-31T15:29:12.142181Z"
    }
   },
   "cell_type": "code",
   "source": "torch.argmin(tensor, keepdim=True, dim=1)",
   "id": "a01963db69744836",
   "execution_count": 29,
   "outputs": []
  },
  {
   "metadata": {
    "ExecuteTime": {
     "end_time": "2024-05-31T15:29:12.237178Z",
     "start_time": "2024-05-31T15:29:12.158180Z"
    }
   },
   "cell_type": "code",
   "source": [
    "# Since the linear layer starts with a random weights matrix, let's make it reproducible (more on this later)\n",
    "torch.manual_seed(52)\n",
    "# This uses matrix multiplication\n",
    "linear = torch.nn.Linear(in_features=6, # in_features = matches inner dimension of input \n",
    "                         out_features=7) # out_features = describes outer value \n",
    "x = tensorA\n",
    "output = linear(x)\n",
    "print(f\"Input shape: {x.shape}\\n\")\n",
    "print(f\"Output:\\n{output}\\n\\nOutput shape: {output.shape}\")"
   ],
   "id": "1792d1fb7fff6ee3",
   "execution_count": 30,
   "outputs": []
  },
  {
   "metadata": {
    "ExecuteTime": {
     "end_time": "2024-05-31T15:29:12.253182Z",
     "start_time": "2024-05-31T15:29:12.238180Z"
    }
   },
   "cell_type": "code",
   "source": [
    "x = torch.arange(1., 15.)\n",
    "x, x.shape"
   ],
   "id": "580bfd35d5276d69",
   "execution_count": 31,
   "outputs": []
  },
  {
   "metadata": {
    "ExecuteTime": {
     "end_time": "2024-05-31T15:29:12.268178Z",
     "start_time": "2024-05-31T15:29:12.254178Z"
    }
   },
   "cell_type": "code",
   "source": [
    "#xReshaped = x.reshape(1, 5) # will throw an error as the total number of elements don't match 1X5 = 5 not equaling 14\n",
    "#xReshaped, xReshaped.shape"
   ],
   "id": "454e45c6bc217338",
   "execution_count": 32,
   "outputs": []
  },
  {
   "metadata": {
    "ExecuteTime": {
     "end_time": "2024-05-31T15:29:12.284178Z",
     "start_time": "2024-05-31T15:29:12.269178Z"
    }
   },
   "cell_type": "code",
   "source": [
    "xReshaped = x.reshape(1, 14)\n",
    "xReshaped, xReshaped.shape"
   ],
   "id": "decb46618976ce40",
   "execution_count": 33,
   "outputs": []
  },
  {
   "metadata": {
    "ExecuteTime": {
     "end_time": "2024-05-31T15:29:12.299179Z",
     "start_time": "2024-05-31T15:29:12.285180Z"
    }
   },
   "cell_type": "code",
   "source": [
    "xReshaped = x.reshape(14, 1)\n",
    "xReshaped, xReshaped.shape"
   ],
   "id": "934fb34d484509e6",
   "execution_count": 34,
   "outputs": []
  },
  {
   "metadata": {
    "ExecuteTime": {
     "end_time": "2024-05-31T15:29:12.315182Z",
     "start_time": "2024-05-31T15:29:12.300180Z"
    }
   },
   "cell_type": "code",
   "source": [
    "x = torch.arange(1., 15.)\n",
    "z = x.view(7, 2)\n",
    "z, z.shape"
   ],
   "id": "2ebcfbaa9911d700",
   "execution_count": 35,
   "outputs": []
  },
  {
   "metadata": {
    "ExecuteTime": {
     "end_time": "2024-05-31T15:29:12.331179Z",
     "start_time": "2024-05-31T15:29:12.316179Z"
    }
   },
   "cell_type": "code",
   "source": [
    "z = x.view(1, 14)\n",
    "z, z.shape"
   ],
   "id": "e854b13728f94ee2",
   "execution_count": 36,
   "outputs": []
  },
  {
   "metadata": {
    "ExecuteTime": {
     "end_time": "2024-05-31T15:29:12.346182Z",
     "start_time": "2024-05-31T15:29:12.332180Z"
    }
   },
   "cell_type": "code",
   "source": [
    "# changing z, will also change x as they both share the same memory\n",
    "z[:, 3] = 5\n",
    "z, x"
   ],
   "id": "a1c78146371082",
   "execution_count": 37,
   "outputs": []
  },
  {
   "metadata": {
    "ExecuteTime": {
     "end_time": "2024-05-31T15:29:12.362181Z",
     "start_time": "2024-05-31T15:29:12.347181Z"
    }
   },
   "cell_type": "code",
   "source": [
    "xStacked = torch.stack([x, x, x], dim=0)\n",
    "xStacked, xStacked.shape"
   ],
   "id": "23bd16a05e574a9a",
   "execution_count": 38,
   "outputs": []
  },
  {
   "metadata": {
    "ExecuteTime": {
     "end_time": "2024-05-31T15:29:12.378180Z",
     "start_time": "2024-05-31T15:29:12.363181Z"
    }
   },
   "cell_type": "code",
   "source": [
    "xStacked = torch.stack([x, x, x], dim=1)\n",
    "xStacked, xStacked.shape"
   ],
   "id": "1be5db39a8d4032b",
   "execution_count": 39,
   "outputs": []
  },
  {
   "metadata": {
    "ExecuteTime": {
     "end_time": "2024-05-31T15:29:12.410178Z",
     "start_time": "2024-05-31T15:29:12.379181Z"
    }
   },
   "cell_type": "code",
   "source": [
    "# v-stack\n",
    "a = torch.tensor([1, 2, 3])\n",
    "b = torch.tensor([4, 5, 6])\n",
    "torch.vstack((a,b))"
   ],
   "id": "f24c385c5f86aeaf",
   "execution_count": 40,
   "outputs": []
  },
  {
   "metadata": {
    "ExecuteTime": {
     "end_time": "2024-05-31T15:29:12.441178Z",
     "start_time": "2024-05-31T15:29:12.414178Z"
    }
   },
   "cell_type": "code",
   "source": [
    "# h-stack\n",
    "a = torch.tensor([1, 2, 3])\n",
    "b = torch.tensor([4, 5, 6])\n",
    "torch.hstack((a,b))"
   ],
   "id": "bdfb2b2a170885db",
   "execution_count": 41,
   "outputs": []
  },
  {
   "metadata": {
    "ExecuteTime": {
     "end_time": "2024-05-31T15:29:12.456178Z",
     "start_time": "2024-05-31T15:29:12.442179Z"
    }
   },
   "cell_type": "code",
   "source": [
    "a = torch.tensor([1, 2, 3])\n",
    "b = torch.tensor([4, 5, 6])\n",
    "torch.stack([a,b], dim=0) # same as vstack()"
   ],
   "id": "ab35df2f34576987",
   "execution_count": 42,
   "outputs": []
  },
  {
   "metadata": {
    "ExecuteTime": {
     "end_time": "2024-05-31T15:29:12.472179Z",
     "start_time": "2024-05-31T15:29:12.457179Z"
    }
   },
   "cell_type": "code",
   "source": [
    "a = torch.tensor([1, 2, 3])\n",
    "b = torch.tensor([4, 5, 6])\n",
    "torch.stack([a,b], dim=1)"
   ],
   "id": "89a1880165807f40",
   "execution_count": 43,
   "outputs": []
  },
  {
   "metadata": {
    "ExecuteTime": {
     "end_time": "2024-05-31T15:29:12.487181Z",
     "start_time": "2024-05-31T15:29:12.473179Z"
    }
   },
   "cell_type": "code",
   "source": [
    "# squeeze - remove dimension of 1s\n",
    "x = torch.zeros(2, 1, 2, 1, 2)\n",
    "print(x.size())\n",
    "y = torch.squeeze(x)\n",
    "print(y.size())\n",
    "y = torch.squeeze(x, 0)\n",
    "print(y.size())\n",
    "y = torch.squeeze(x, 1)\n",
    "print(y.size())\n",
    "y = torch.squeeze(x, (1, 2, 3))\n",
    "print(y.size())\n",
    "y = torch.squeeze(x, (0, 2, 4))\n",
    "print(y.size())"
   ],
   "id": "98bbd67284f2a8ce",
   "execution_count": 44,
   "outputs": []
  },
  {
   "metadata": {
    "ExecuteTime": {
     "end_time": "2024-05-31T15:29:12.503179Z",
     "start_time": "2024-05-31T15:29:12.488178Z"
    }
   },
   "cell_type": "code",
   "source": [
    "x = torch.zeros(1, 3, 1, 1, 1, 5, 1)\n",
    "print(x.size())\n",
    "y = torch.squeeze(x)\n",
    "print(y.size())\n",
    "y = torch.squeeze(x, 0)\n",
    "print(y.size())\n",
    "y = torch.squeeze(x, 1)\n",
    "print(y.size())\n",
    "y = torch.squeeze(x, (1, 2, 3))\n",
    "print(y.size())"
   ],
   "id": "116db42f0edc6812",
   "execution_count": 45,
   "outputs": []
  },
  {
   "metadata": {
    "ExecuteTime": {
     "end_time": "2024-05-31T15:29:12.519178Z",
     "start_time": "2024-05-31T15:29:12.504179Z"
    }
   },
   "cell_type": "code",
   "source": [
    "# un-squeezing\n",
    "x = torch.tensor([1, 2, 3, 4])\n",
    "print(x, x.shape, x.ndim)\n",
    "print(torch.unsqueeze(x, 0), torch.unsqueeze(x, 0).shape, torch.unsqueeze(x, 0).ndim)\n",
    "print(torch.unsqueeze(x, 1), torch.unsqueeze(x, 1).shape, torch.unsqueeze(x, 1).ndim)"
   ],
   "id": "498a127eca887f97",
   "execution_count": 46,
   "outputs": []
  },
  {
   "metadata": {
    "ExecuteTime": {
     "end_time": "2024-05-31T15:29:12.535179Z",
     "start_time": "2024-05-31T15:29:12.520179Z"
    }
   },
   "cell_type": "code",
   "source": [
    "randomTensor = torch.rand(size=(7, 8, 9, 10))\n",
    "randomTensor.shape"
   ],
   "id": "6d0bc6a35f98aa32",
   "execution_count": 47,
   "outputs": []
  },
  {
   "metadata": {
    "ExecuteTime": {
     "end_time": "2024-05-31T15:29:12.551179Z",
     "start_time": "2024-05-31T15:29:12.536180Z"
    }
   },
   "cell_type": "code",
   "source": [
    "permutedTensor = randomTensor.permute(1, 3, 2, 0)\n",
    "permutedTensor.shape"
   ],
   "id": "ba2c40cdc550d0cc",
   "execution_count": 48,
   "outputs": []
  },
  {
   "metadata": {
    "ExecuteTime": {
     "end_time": "2024-05-31T15:29:12.567180Z",
     "start_time": "2024-05-31T15:29:12.552179Z"
    }
   },
   "cell_type": "code",
   "source": "permutedTensor[7][4][2][6] = 6238925",
   "id": "87dee3c41a511f49",
   "execution_count": 49,
   "outputs": []
  },
  {
   "metadata": {
    "ExecuteTime": {
     "end_time": "2024-05-31T15:29:12.583181Z",
     "start_time": "2024-05-31T15:29:12.568181Z"
    }
   },
   "cell_type": "code",
   "source": [
    "# since permutedTensor has shifter indexes of 0->3, 1->0, 2->2, 3-> 1\n",
    "randomTensor[6][7][2][4]\n",
    "# this cell should have the data which was altered in the original tensor, which implies that changing the permuted tensor also changes the original "
   ],
   "id": "460a35374bdd3e81",
   "execution_count": 50,
   "outputs": []
  },
  {
   "metadata": {
    "ExecuteTime": {
     "end_time": "2024-05-31T15:29:12.599179Z",
     "start_time": "2024-05-31T15:29:12.584181Z"
    }
   },
   "cell_type": "code",
   "source": "",
   "id": "74b5c0ccb98410bf",
   "execution_count": 50,
   "outputs": []
  }
 ],
 "metadata": {
  "kernelspec": {
   "display_name": "Python 3",
   "language": "python",
   "name": "python3"
  },
  "language_info": {
   "codemirror_mode": {
    "name": "ipython",
    "version": 2
   },
   "file_extension": ".py",
   "mimetype": "text/x-python",
   "name": "python",
   "nbconvert_exporter": "python",
   "pygments_lexer": "ipython2",
   "version": "2.7.6"
  }
 },
 "nbformat": 4,
 "nbformat_minor": 5
}

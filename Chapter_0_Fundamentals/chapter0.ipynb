{
 "cells": [
  {
   "cell_type": "code",
   "id": "initial_id",
   "metadata": {
    "collapsed": true,
    "ExecuteTime": {
     "end_time": "2024-05-31T14:13:11.568642Z",
     "start_time": "2024-05-31T14:13:11.552243Z"
    }
   },
   "source": [
    "import torch\n",
    "import pandas as pd\n",
    "import numpy as np\n",
    "import matplotlib.pyplot as plt\n",
    "\n",
    "torch.__version__"
   ],
   "execution_count": 125,
   "outputs": []
  },
  {
   "metadata": {},
   "cell_type": "markdown",
   "source": [
    "### Tensors with a shape of [2, 224, 224] means [colour_channels, height, width] \n",
    "which further\n",
    "means it has 3 colour channels (RGB) and it is 224x224 pixels in dimension"
   ],
   "id": "ffce4e0d71b620fd"
  },
  {
   "metadata": {
    "ExecuteTime": {
     "end_time": "2024-05-31T14:13:12.711930Z",
     "start_time": "2024-05-31T14:13:12.699679Z"
    }
   },
   "cell_type": "code",
   "source": [
    " # scaler - A scalar is a single number and in tensor-speak it's a zero dimension tensor.\n",
    "\n",
    "scaler = torch.tensor(7)\n",
    "scaler"
   ],
   "id": "644604cc5e4a6ba5",
   "execution_count": 126,
   "outputs": []
  },
  {
   "metadata": {
    "ExecuteTime": {
     "end_time": "2024-05-31T14:13:12.743927Z",
     "start_time": "2024-05-31T14:13:12.728929Z"
    }
   },
   "cell_type": "code",
   "source": "scaler.ndim",
   "id": "47401fc6f9eb5362",
   "execution_count": 127,
   "outputs": []
  },
  {
   "metadata": {
    "ExecuteTime": {
     "end_time": "2024-05-31T14:13:12.854929Z",
     "start_time": "2024-05-31T14:13:12.839928Z"
    }
   },
   "cell_type": "code",
   "source": [
    "# return scaler value as int\n",
    "scaler.item()"
   ],
   "id": "2a3bb0394bf4f143",
   "execution_count": 128,
   "outputs": []
  },
  {
   "metadata": {
    "ExecuteTime": {
     "end_time": "2024-05-31T14:13:12.900929Z",
     "start_time": "2024-05-31T14:13:12.886929Z"
    }
   },
   "cell_type": "code",
   "source": [
    "# vector\n",
    "vector = torch.tensor([7, 7])\n",
    "vector"
   ],
   "id": "9fde44ee65473a7b",
   "execution_count": 129,
   "outputs": []
  },
  {
   "metadata": {
    "ExecuteTime": {
     "end_time": "2024-05-31T14:13:13.008929Z",
     "start_time": "2024-05-31T14:13:12.993928Z"
    }
   },
   "cell_type": "code",
   "source": "vector.ndim",
   "id": "b52963fd2ad935a7",
   "execution_count": 130,
   "outputs": []
  },
  {
   "metadata": {
    "ExecuteTime": {
     "end_time": "2024-05-31T14:13:13.039927Z",
     "start_time": "2024-05-31T14:13:13.024931Z"
    }
   },
   "cell_type": "code",
   "source": "vector.shape",
   "id": "df6010cc0d59c2cc",
   "execution_count": 131,
   "outputs": []
  },
  {
   "metadata": {
    "ExecuteTime": {
     "end_time": "2024-05-31T14:13:13.119931Z",
     "start_time": "2024-05-31T14:13:13.104929Z"
    }
   },
   "cell_type": "code",
   "source": [
    "# MATRIX\n",
    "\n",
    "MATRIX  = torch.tensor([[7, 8], [9, 10]])\n",
    "MATRIX"
   ],
   "id": "82b230aeaa11f955",
   "execution_count": 132,
   "outputs": []
  },
  {
   "metadata": {
    "ExecuteTime": {
     "end_time": "2024-05-31T14:13:13.198927Z",
     "start_time": "2024-05-31T14:13:13.183929Z"
    }
   },
   "cell_type": "code",
   "source": "MATRIX.ndim",
   "id": "7d0eea83ba6b8673",
   "execution_count": 133,
   "outputs": []
  },
  {
   "metadata": {
    "ExecuteTime": {
     "end_time": "2024-05-31T14:13:13.274929Z",
     "start_time": "2024-05-31T14:13:13.269928Z"
    }
   },
   "cell_type": "code",
   "source": "MATRIX[1]",
   "id": "96e3d952888e03bb",
   "execution_count": 134,
   "outputs": []
  },
  {
   "metadata": {
    "ExecuteTime": {
     "end_time": "2024-05-31T14:13:13.322931Z",
     "start_time": "2024-05-31T14:13:13.316931Z"
    }
   },
   "cell_type": "code",
   "source": "MATRIX.shape",
   "id": "4984a8047a7fb242",
   "execution_count": 135,
   "outputs": []
  },
  {
   "metadata": {
    "ExecuteTime": {
     "end_time": "2024-05-31T14:13:13.402929Z",
     "start_time": "2024-05-31T14:13:13.387931Z"
    }
   },
   "cell_type": "code",
   "source": [
    "# TENSOR\n",
    "TENSOR = torch.tensor([[[1, 2, 3], [4, 5, 6], [7, 8, 9]]])\n",
    "TENSOR"
   ],
   "id": "d29a672d49096b39",
   "execution_count": 136,
   "outputs": []
  },
  {
   "metadata": {
    "ExecuteTime": {
     "end_time": "2024-05-31T14:13:13.465929Z",
     "start_time": "2024-05-31T14:13:13.450930Z"
    }
   },
   "cell_type": "code",
   "source": "TENSOR.ndim",
   "id": "3c76828d31929e31",
   "execution_count": 137,
   "outputs": []
  },
  {
   "metadata": {
    "ExecuteTime": {
     "end_time": "2024-05-31T14:13:13.558928Z",
     "start_time": "2024-05-31T14:13:13.542928Z"
    }
   },
   "cell_type": "code",
   "source": "TENSOR.shape ",
   "id": "6d0ad53c36eea4a0",
   "execution_count": 138,
   "outputs": []
  },
  {
   "metadata": {
    "ExecuteTime": {
     "end_time": "2024-05-31T14:13:13.605928Z",
     "start_time": "2024-05-31T14:13:13.590929Z"
    }
   },
   "cell_type": "code",
   "source": "TENSOR[0]",
   "id": "a7f8f563f2f69f6c",
   "execution_count": 139,
   "outputs": []
  },
  {
   "metadata": {},
   "cell_type": "markdown",
   "source": "### Random Tensors",
   "id": "9d6f6fd01fce1354"
  },
  {
   "metadata": {
    "ExecuteTime": {
     "end_time": "2024-05-31T14:13:13.669929Z",
     "start_time": "2024-05-31T14:13:13.664929Z"
    }
   },
   "cell_type": "code",
   "source": [
    "# random tensor of dimension:2\n",
    "randomTensor = torch.rand(11, 12)\n",
    "randomTensor"
   ],
   "id": "ded2359f4cabe3c1",
   "execution_count": 140,
   "outputs": []
  },
  {
   "metadata": {
    "ExecuteTime": {
     "end_time": "2024-05-31T14:13:13.747928Z",
     "start_time": "2024-05-31T14:13:13.732929Z"
    }
   },
   "cell_type": "code",
   "source": "randomTensor.ndim",
   "id": "eb870964e4cbc04e",
   "execution_count": 141,
   "outputs": []
  },
  {
   "metadata": {
    "ExecuteTime": {
     "end_time": "2024-05-31T14:13:13.841929Z",
     "start_time": "2024-05-31T14:13:13.836929Z"
    }
   },
   "cell_type": "code",
   "source": [
    "randomTensor1 = torch.rand(1, 2, 3)\n",
    "randomTensor1"
   ],
   "id": "4077c581abcfc353",
   "execution_count": 142,
   "outputs": []
  },
  {
   "metadata": {
    "ExecuteTime": {
     "end_time": "2024-05-31T14:13:13.903930Z",
     "start_time": "2024-05-31T14:13:13.889931Z"
    }
   },
   "cell_type": "code",
   "source": "randomTensor1.ndim",
   "id": "158cc793df08c602",
   "execution_count": 143,
   "outputs": []
  },
  {
   "metadata": {
    "ExecuteTime": {
     "end_time": "2024-05-31T14:13:13.978929Z",
     "start_time": "2024-05-31T14:13:13.968929Z"
    }
   },
   "cell_type": "code",
   "source": [
    "#random tensor with similar shape to an image tensor\n",
    "randomImageSizeTensor = torch.rand(size=(3, 224, 224))\n",
    "randomImageSizeTensor.shape, randomImageSizeTensor.ndim"
   ],
   "id": "980cb5569f2f291d",
   "execution_count": 144,
   "outputs": []
  },
  {
   "metadata": {
    "ExecuteTime": {
     "end_time": "2024-05-31T14:13:14.025929Z",
     "start_time": "2024-05-31T14:13:14.013929Z"
    }
   },
   "cell_type": "code",
   "source": "torch.rand(size=(3, 3))",
   "id": "7efc98fa64ed66f3",
   "execution_count": 145,
   "outputs": []
  },
  {
   "metadata": {},
   "cell_type": "markdown",
   "source": "### Zeros & ones",
   "id": "126be7c4651048b2"
  },
  {
   "metadata": {
    "ExecuteTime": {
     "end_time": "2024-05-31T14:13:14.103927Z",
     "start_time": "2024-05-31T14:13:14.086929Z"
    }
   },
   "cell_type": "code",
   "source": [
    "# a tensor of all zeros\n",
    "zeros = torch.zeros(size=(3, 4))\n",
    "zeros"
   ],
   "id": "6f50055fd97ea8b8",
   "execution_count": 146,
   "outputs": []
  },
  {
   "metadata": {
    "ExecuteTime": {
     "end_time": "2024-05-31T14:13:14.150928Z",
     "start_time": "2024-05-31T14:13:14.138929Z"
    }
   },
   "cell_type": "code",
   "source": "zeros*torch.rand(size=(3, 4))",
   "id": "2ebf8535ec937e10",
   "execution_count": 147,
   "outputs": []
  },
  {
   "metadata": {
    "ExecuteTime": {
     "end_time": "2024-05-31T14:13:14.230927Z",
     "start_time": "2024-05-31T14:13:14.211928Z"
    }
   },
   "cell_type": "code",
   "source": [
    "# a tensor of all 1s\n",
    "ones = torch.ones(size=(3, 4))\n",
    "ones"
   ],
   "id": "f66b0ac38ea082eb",
   "execution_count": 148,
   "outputs": []
  },
  {
   "metadata": {
    "ExecuteTime": {
     "end_time": "2024-05-31T14:13:14.275928Z",
     "start_time": "2024-05-31T14:13:14.269928Z"
    }
   },
   "cell_type": "code",
   "source": "ones.dtype # default datatype",
   "id": "cfe990e4be962d2f",
   "execution_count": 149,
   "outputs": []
  },
  {
   "metadata": {},
   "cell_type": "markdown",
   "source": "### Range of tensors and tensor-like",
   "id": "cf9ad92a11c7157b"
  },
  {
   "metadata": {
    "ExecuteTime": {
     "end_time": "2024-05-31T14:13:14.383928Z",
     "start_time": "2024-05-31T14:13:14.368929Z"
    }
   },
   "cell_type": "code",
   "source": "torch.range(0, 10)",
   "id": "fb7c7c9422b7e435",
   "execution_count": 150,
   "outputs": []
  },
  {
   "metadata": {
    "ExecuteTime": {
     "end_time": "2024-05-31T14:13:14.431930Z",
     "start_time": "2024-05-31T14:13:14.424930Z"
    }
   },
   "cell_type": "code",
   "source": [
    "oneToTen = torch.arange(0, 10)\n",
    "oneToTen"
   ],
   "id": "3e55cb4801000db6",
   "execution_count": 151,
   "outputs": []
  },
  {
   "metadata": {
    "ExecuteTime": {
     "end_time": "2024-05-31T14:13:14.511928Z",
     "start_time": "2024-05-31T14:13:14.496930Z"
    }
   },
   "cell_type": "code",
   "source": "oneToTen.dtype",
   "id": "da4a49efe57d7097",
   "execution_count": 152,
   "outputs": []
  },
  {
   "metadata": {
    "ExecuteTime": {
     "end_time": "2024-05-31T14:13:14.588928Z",
     "start_time": "2024-05-31T14:13:14.574929Z"
    }
   },
   "cell_type": "code",
   "source": "torch.arange(-5, 17)",
   "id": "67ee79800319c5b0",
   "execution_count": 153,
   "outputs": []
  },
  {
   "metadata": {
    "ExecuteTime": {
     "end_time": "2024-05-31T14:13:14.618927Z",
     "start_time": "2024-05-31T14:13:14.604929Z"
    }
   },
   "cell_type": "code",
   "source": "torch.arange(1, 1737, 78) # (start, stop, end)",
   "id": "1d4389cddb319cf",
   "execution_count": 154,
   "outputs": []
  },
  {
   "metadata": {
    "ExecuteTime": {
     "end_time": "2024-05-31T14:13:14.695929Z",
     "start_time": "2024-05-31T14:13:14.687930Z"
    }
   },
   "cell_type": "code",
   "source": [
    "# tensors-like: Create tensors like (with a similar shape) an already existing tensor\n",
    "tenZeroes = torch.zeros_like(input=oneToTen)\n",
    "tenZeroes"
   ],
   "id": "9463dbbe97dce9d9",
   "execution_count": 155,
   "outputs": []
  },
  {
   "metadata": {
    "ExecuteTime": {
     "end_time": "2024-05-31T14:13:14.727929Z",
     "start_time": "2024-05-31T14:13:14.718929Z"
    }
   },
   "cell_type": "code",
   "source": [
    "tenOnes = torch.ones_like(input=oneToTen)\n",
    "tenOnes"
   ],
   "id": "6817782c6d4f7c90",
   "execution_count": 156,
   "outputs": []
  },
  {
   "metadata": {
    "ExecuteTime": {
     "end_time": "2024-05-31T14:13:14.837928Z",
     "start_time": "2024-05-31T14:13:14.823930Z"
    }
   },
   "cell_type": "code",
   "source": "# torch.randn(input=oneToTen) # Error in the parameters passed",
   "id": "be055d3f0a7823d",
   "execution_count": 157,
   "outputs": []
  },
  {
   "metadata": {
    "ExecuteTime": {
     "end_time": "2024-05-31T14:13:14.883927Z",
     "start_time": "2024-05-31T14:13:14.865929Z"
    }
   },
   "cell_type": "code",
   "source": "torch.randn(oneToTen.shape)",
   "id": "e1b261f7e33f5c60",
   "execution_count": 158,
   "outputs": []
  },
  {
   "metadata": {},
   "cell_type": "markdown",
   "source": [
    "### Tensor Datatypes\n",
    "datatypes are one of 3 major issues leading to code errors with PyTorch and DL. The errors include-\n",
    "1. Tensors datatype mismatch\n",
    "2. Tensors shape mismatch\n",
    "3. Tensors not on the appropriate device"
   ],
   "id": "1f03e2e431723c99"
  },
  {
   "metadata": {
    "ExecuteTime": {
     "end_time": "2024-05-31T14:13:14.945927Z",
     "start_time": "2024-05-31T14:13:14.938928Z"
    }
   },
   "cell_type": "code",
   "source": [
    "# float 32 tensor\n",
    "float32Tensor = torch.tensor([3.0, 6.0, 9.0], dtype=None)\n",
    "float32Tensor"
   ],
   "id": "214cd6091b776fc7",
   "execution_count": 159,
   "outputs": []
  },
  {
   "metadata": {
    "ExecuteTime": {
     "end_time": "2024-05-31T14:13:14.991929Z",
     "start_time": "2024-05-31T14:13:14.985929Z"
    }
   },
   "cell_type": "code",
   "source": "float32Tensor.dtype # unspecified default datatype for pytorch is float32",
   "id": "dae0249f282a65e4",
   "execution_count": 160,
   "outputs": []
  },
  {
   "metadata": {
    "ExecuteTime": {
     "end_time": "2024-05-31T14:13:15.099928Z",
     "start_time": "2024-05-31T14:13:15.080928Z"
    }
   },
   "cell_type": "code",
   "source": [
    "float16Tensor = torch.tensor([3.0, 6.0, 9.0], dtype=torch.float16)\n",
    "float16Tensor"
   ],
   "id": "a8125bf0de330789",
   "execution_count": 161,
   "outputs": []
  },
  {
   "metadata": {
    "ExecuteTime": {
     "end_time": "2024-05-31T14:13:15.130929Z",
     "start_time": "2024-05-31T14:13:15.116928Z"
    }
   },
   "cell_type": "code",
   "source": [
    "testTensor = torch.tensor([[3.0, 6.0, 9.0]],\n",
    "                          dtype=None, # datatype for the tensor like float32, int64 etc\n",
    "                          device=None, # the device this tensor is on. \"cpu\" is the default, but can be changed to \"xpu\" for intel or \"cuda\" for nvidia gpus\n",
    "                          requires_grad=False) #checks whether gradients with the tensors operations should be tracked or not \n",
    "testTensor"
   ],
   "id": "a3fedd092e482747",
   "execution_count": 162,
   "outputs": []
  },
  {
   "metadata": {
    "ExecuteTime": {
     "end_time": "2024-05-31T14:13:15.193927Z",
     "start_time": "2024-05-31T14:13:15.181928Z"
    }
   },
   "cell_type": "code",
   "source": [
    "float16tensor = float32Tensor.type(torch.float16)\n",
    "float16tensor"
   ],
   "id": "966f1a352a3a08ba",
   "execution_count": 163,
   "outputs": []
  },
  {
   "metadata": {
    "ExecuteTime": {
     "end_time": "2024-05-31T14:13:15.241929Z",
     "start_time": "2024-05-31T14:13:15.230929Z"
    }
   },
   "cell_type": "code",
   "source": "float16Tensor*float32Tensor",
   "id": "24297defa525c1e0",
   "execution_count": 164,
   "outputs": []
  },
  {
   "metadata": {
    "ExecuteTime": {
     "end_time": "2024-05-31T14:13:15.319940Z",
     "start_time": "2024-05-31T14:13:15.304941Z"
    }
   },
   "cell_type": "code",
   "source": [
    "int32tensor = torch.tensor([3, 6, 9], dtype=torch.int32)\n",
    "int32tensor"
   ],
   "id": "7e9ecbe602527c23",
   "execution_count": 165,
   "outputs": []
  },
  {
   "metadata": {
    "ExecuteTime": {
     "end_time": "2024-05-31T14:13:15.382940Z",
     "start_time": "2024-05-31T14:13:15.367942Z"
    }
   },
   "cell_type": "code",
   "source": "float32Tensor*int32tensor",
   "id": "99a60231759efed2",
   "execution_count": 166,
   "outputs": []
  },
  {
   "metadata": {},
   "cell_type": "markdown",
   "source": [
    "### Getting info from tensors (Tensor Attributes)\n",
    "1. For datatype: `tensor.dtype`\n",
    "2. For shape: `tensor.shape`\n",
    "3. For device name: `tensor.device`"
   ],
   "id": "829ed888c324b452"
  },
  {
   "metadata": {
    "ExecuteTime": {
     "end_time": "2024-05-31T14:13:15.461940Z",
     "start_time": "2024-05-31T14:13:15.444942Z"
    }
   },
   "cell_type": "code",
   "source": [
    "someTensor = torch.rand(3,4)\n",
    "someTensor"
   ],
   "id": "2ff69bb62c51f91c",
   "execution_count": 167,
   "outputs": []
  },
  {
   "metadata": {
    "ExecuteTime": {
     "end_time": "2024-05-31T14:13:15.493942Z",
     "start_time": "2024-05-31T14:13:15.488943Z"
    }
   },
   "cell_type": "code",
   "source": "someTensor.size, someTensor.size(), someTensor.shape",
   "id": "3ce2ea008504ea1e",
   "execution_count": 168,
   "outputs": []
  },
  {
   "metadata": {
    "ExecuteTime": {
     "end_time": "2024-05-31T14:13:15.572940Z",
     "start_time": "2024-05-31T14:13:15.557943Z"
    }
   },
   "cell_type": "code",
   "source": [
    "# Details about the tensor\n",
    "print(someTensor)\n",
    "print(f\"Datatype of tensor: {someTensor.dtype}\")\n",
    "print(f\"Shape of tensor: {someTensor.shape}\")\n",
    "print(f\"Device of tensor: {someTensor.device}\")"
   ],
   "id": "e0d576eeffaa9489",
   "execution_count": 169,
   "outputs": []
  },
  {
   "metadata": {},
   "cell_type": "markdown",
   "source": [
    "### Manipulating Tensors\n",
    "Tensors operations:\n",
    "1. Addition\n",
    "2. Subtraction\n",
    "3. Multiplication (element-wise)\n",
    "4. Division\n",
    "5. Matrix Multiplication"
   ],
   "id": "ad0e247b75fc2abd"
  },
  {
   "metadata": {
    "ExecuteTime": {
     "end_time": "2024-05-31T14:13:15.633941Z",
     "start_time": "2024-05-31T14:13:15.628941Z"
    }
   },
   "cell_type": "code",
   "source": [
    "# addition\n",
    "tensor = torch.tensor([1, 2, 3])\n",
    "tensor, tensor + 10"
   ],
   "id": "7f354eb302f96a76",
   "execution_count": 170,
   "outputs": []
  },
  {
   "metadata": {
    "ExecuteTime": {
     "end_time": "2024-05-31T14:13:15.728941Z",
     "start_time": "2024-05-31T14:13:15.719941Z"
    }
   },
   "cell_type": "code",
   "source": [
    "# multiplication\n",
    "tensor, tensor * 10 \n",
    "#these tensor operations are immutable, meaning the changes aren't implemented in the input automatically, rather stored in a separate space, hence the values of the initial tensor doesn't change"
   ],
   "id": "ddfc708f9eee526f",
   "execution_count": 171,
   "outputs": []
  },
  {
   "metadata": {
    "ExecuteTime": {
     "end_time": "2024-05-31T14:13:15.791941Z",
     "start_time": "2024-05-31T14:13:15.775941Z"
    }
   },
   "cell_type": "code",
   "source": [
    "# subtraction\n",
    "tensor - 10"
   ],
   "id": "e24651d012dd9d22",
   "execution_count": 172,
   "outputs": []
  },
  {
   "metadata": {
    "ExecuteTime": {
     "end_time": "2024-05-31T14:13:15.902940Z",
     "start_time": "2024-05-31T14:13:15.887941Z"
    }
   },
   "cell_type": "code",
   "source": [
    "# in-built pytorch functions\n",
    "torch.mul(tensor, 10)"
   ],
   "id": "a0b3e8fd90aa0556",
   "execution_count": 173,
   "outputs": []
  },
  {
   "metadata": {
    "ExecuteTime": {
     "end_time": "2024-05-31T14:13:15.934942Z",
     "start_time": "2024-05-31T14:13:15.929941Z"
    }
   },
   "cell_type": "code",
   "source": "torch.add(tensor, 15)",
   "id": "eaa908e83f27f83",
   "execution_count": 174,
   "outputs": []
  },
  {
   "metadata": {},
   "cell_type": "markdown",
   "source": [
    "### Tensor multiplication\n",
    "Two main ways of multiplication in NNs and DL:\n",
    "1. Element-wise multiplication\n",
    "2. Matrix Multiplication (One of the most common tensor operation in NNs)"
   ],
   "id": "21c5a409eb3ad1c7"
  },
  {
   "metadata": {
    "ExecuteTime": {
     "end_time": "2024-05-31T14:13:16.028941Z",
     "start_time": "2024-05-31T14:13:16.011942Z"
    }
   },
   "cell_type": "code",
   "source": [
    "# element wise multiplication\n",
    "print(tensor, \"*\", tensor)\n",
    "print(f\"Equals: {tensor*tensor}\")"
   ],
   "id": "eabf45dfd72ea9e9",
   "execution_count": 175,
   "outputs": []
  },
  {
   "metadata": {
    "ExecuteTime": {
     "end_time": "2024-05-31T14:13:16.075941Z",
     "start_time": "2024-05-31T14:13:16.061942Z"
    }
   },
   "cell_type": "code",
   "source": [
    "# Matrix multiplication\n",
    "torch.matmul(tensor, tensor)"
   ],
   "id": "b7aa74d0dabc5287",
   "execution_count": 176,
   "outputs": []
  },
  {
   "metadata": {
    "ExecuteTime": {
     "end_time": "2024-05-31T14:13:16.138940Z",
     "start_time": "2024-05-31T14:13:16.131941Z"
    }
   },
   "cell_type": "code",
   "source": "tensor",
   "id": "ff046a58ded28de",
   "execution_count": 177,
   "outputs": []
  },
  {
   "metadata": {
    "ExecuteTime": {
     "end_time": "2024-05-31T14:13:16.200941Z",
     "start_time": "2024-05-31T14:13:16.189942Z"
    }
   },
   "cell_type": "code",
   "source": [
    "# the multiplication by hand\n",
    "1*1 + 2*2 + 3*3"
   ],
   "id": "50eb40ef1762a4a5",
   "execution_count": 178,
   "outputs": []
  },
  {
   "metadata": {
    "ExecuteTime": {
     "end_time": "2024-05-31T14:13:16.278940Z",
     "start_time": "2024-05-31T14:13:16.261941Z"
    }
   },
   "cell_type": "code",
   "source": [
    "%%time\n",
    "value = 0\n",
    "for i in range(len(tensor)):\n",
    "    value += tensor[i] * tensor[i]\n",
    "value"
   ],
   "id": "1b4027bf5684104b",
   "execution_count": 179,
   "outputs": []
  },
  {
   "metadata": {
    "ExecuteTime": {
     "end_time": "2024-05-31T14:13:16.310137Z",
     "start_time": "2024-05-31T14:13:16.302138Z"
    }
   },
   "cell_type": "code",
   "source": [
    "%%time\n",
    "torch.matmul(tensor, tensor)"
   ],
   "id": "3571c1d6cff319bb",
   "execution_count": 180,
   "outputs": []
  },
  {
   "metadata": {},
   "cell_type": "markdown",
   "source": "### One of the most common errors in DL: Shape mismatch",
   "id": "564451986156c9bc"
  },
  {
   "metadata": {},
   "cell_type": "markdown",
   "source": [
    "#### Matrix Multiplication\n",
    "2 rules need to be satisfied:\n",
    "1. **Inner dimensions** must match:\n",
    "* `(3, 2) @ (3, 2)` will NOT work\n",
    "* `(2, 3) @ (3, 2)` will work\n",
    "* `(3, 2) @ (2, 3) ` will also work\n",
    "\n",
    "2. The resulting matrix has the shape of the  **outer dimensions**:\n",
    "* `(2, 3) @ (3, 2)` -> `(2, 2)`\n",
    "* `(3, 2) @ (2, 3)` -> `(3, 3)`"
   ],
   "id": "efb43da568352de1"
  },
  {
   "metadata": {
    "ExecuteTime": {
     "end_time": "2024-05-31T14:13:16.390136Z",
     "start_time": "2024-05-31T14:13:16.372137Z"
    }
   },
   "cell_type": "code",
   "source": "#torch.matmul(torch.rand(3, 2), torch.rand(3,2)) #inner dimensions mismatch error",
   "id": "7517d355e98f5a08",
   "execution_count": 181,
   "outputs": []
  },
  {
   "metadata": {
    "ExecuteTime": {
     "end_time": "2024-05-31T14:13:16.469136Z",
     "start_time": "2024-05-31T14:13:16.453137Z"
    }
   },
   "cell_type": "code",
   "source": "torch.matmul(torch.rand(2, 3), torch.rand(3,2)) #works perfectly",
   "id": "6fce96e39c0fbfb4",
   "execution_count": 182,
   "outputs": []
  },
  {
   "metadata": {
    "ExecuteTime": {
     "end_time": "2024-05-31T14:13:16.549136Z",
     "start_time": "2024-05-31T14:13:16.534137Z"
    }
   },
   "cell_type": "code",
   "source": "torch.matmul(torch.rand(3, 2), torch.rand(2, 3))",
   "id": "93c84100f7a7d83",
   "execution_count": 183,
   "outputs": []
  },
  {
   "metadata": {
    "ExecuteTime": {
     "end_time": "2024-05-31T14:13:16.596134Z",
     "start_time": "2024-05-31T14:13:16.582138Z"
    }
   },
   "cell_type": "code",
   "source": "torch.matmul(torch.rand(3, 271), torch.rand(271, 3))",
   "id": "2d9ece0b6ac4867b",
   "execution_count": 184,
   "outputs": []
  },
  {
   "metadata": {
    "ExecuteTime": {
     "end_time": "2024-05-31T14:13:16.708134Z",
     "start_time": "2024-05-31T14:13:16.693136Z"
    }
   },
   "cell_type": "code",
   "source": "torch.matmul(torch.rand(347, 271), torch.rand(271, 453)).shape",
   "id": "b75b97480ae93062",
   "execution_count": 185,
   "outputs": []
  },
  {
   "metadata": {
    "ExecuteTime": {
     "end_time": "2024-05-31T14:13:16.755135Z",
     "start_time": "2024-05-31T14:13:16.741136Z"
    }
   },
   "cell_type": "code",
   "source": [
    "# Shapes for matrix multiplication\n",
    "tensorA = torch.tensor([[1, 2], [3, 4], [5, 6]])\n",
    "tensorB = torch.tensor([[7, 10], [8, 11], [9, 12]])\n",
    "\n",
    "# torch.mm(tensorA, tensorB) #mm is an alias for matmul\n",
    "# torch.matmul(tensorA, tensorB) # shape mismatch\n"
   ],
   "id": "f61de0ac9b565f32",
   "execution_count": 186,
   "outputs": []
  },
  {
   "metadata": {
    "ExecuteTime": {
     "end_time": "2024-05-31T14:13:16.865648Z",
     "start_time": "2024-05-31T14:13:16.848650Z"
    }
   },
   "cell_type": "code",
   "source": "tensorA.shape, tensorB.shape",
   "id": "2c903714668da87b",
   "execution_count": 187,
   "outputs": []
  },
  {
   "metadata": {},
   "cell_type": "markdown",
   "source": [
    "###### To fix a tensor shape issues, the shape can be manipulated with a **transpose**\n",
    "A **Transpose** switches the axes or dimensions of a given tensor"
   ],
   "id": "77a212b07b521ddf"
  },
  {
   "metadata": {
    "ExecuteTime": {
     "end_time": "2024-05-31T14:13:16.913650Z",
     "start_time": "2024-05-31T14:13:16.905650Z"
    }
   },
   "cell_type": "code",
   "source": "tensorB, tensorB.shape",
   "id": "3598bb23ad6d9bc7",
   "execution_count": 188,
   "outputs": []
  },
  {
   "metadata": {
    "ExecuteTime": {
     "end_time": "2024-05-31T14:13:16.991649Z",
     "start_time": "2024-05-31T14:13:16.984650Z"
    }
   },
   "cell_type": "code",
   "source": "tensorB.T, tensorB.T.shape",
   "id": "689836b96ff8d5d5",
   "execution_count": 189,
   "outputs": []
  },
  {
   "metadata": {
    "ExecuteTime": {
     "end_time": "2024-05-31T14:13:17.023649Z",
     "start_time": "2024-05-31T14:13:17.013650Z"
    }
   },
   "cell_type": "code",
   "source": "torch.mm(tensorA, tensorB.T)",
   "id": "7e3679c7a4e63d0c",
   "execution_count": 190,
   "outputs": []
  },
  {
   "metadata": {
    "ExecuteTime": {
     "end_time": "2024-05-31T14:13:17.118648Z",
     "start_time": "2024-05-31T14:13:17.102650Z"
    }
   },
   "cell_type": "code",
   "source": [
    "# the matrix multiplication works after tensorB is transposed as the original dimension couldn't be used in multiplication\n",
    "\n",
    "print(f\"Original shapes: tensorA = {tensorA.shape} & tensorB = {tensorB.shape}\")\n",
    "print(f\"New shapes: tensorA = {tensorA.shape}, same as before & tensorB.T's shape = {tensorB.T.shape}\")\n",
    "\n",
    "print(f\"Multiplying: {tensorA.shape} @ {tensorB.T.shape} <- Inner dimensions match\")\n",
    "print(\"Output:\\n\")\n",
    "output = torch.mm(tensorA, tensorB.T)\n",
    "print(output)\n",
    "print(f\"Output shape: {output.shape}\")\n"
   ],
   "id": "58dd3e14dc837cfb",
   "execution_count": 191,
   "outputs": []
  },
  {
   "metadata": {},
   "cell_type": "markdown",
   "source": "#### Finding min, max, sum etc. (also known as aggregations) of tensors",
   "id": "c275c82ff5562c66"
  },
  {
   "metadata": {
    "ExecuteTime": {
     "end_time": "2024-05-31T14:13:17.149649Z",
     "start_time": "2024-05-31T14:13:17.140651Z"
    }
   },
   "cell_type": "code",
   "source": [
    "x = torch.arange(0, 100, 10)\n",
    "x, x.dtype"
   ],
   "id": "3346b1fe3bff39e3",
   "execution_count": 192,
   "outputs": []
  },
  {
   "metadata": {
    "ExecuteTime": {
     "end_time": "2024-05-31T14:13:17.229649Z",
     "start_time": "2024-05-31T14:13:17.210649Z"
    }
   },
   "cell_type": "code",
   "source": [
    "# finding the min\n",
    "torch.min(x), x.min()"
   ],
   "id": "bc145e25099fac3",
   "execution_count": 193,
   "outputs": []
  },
  {
   "metadata": {
    "ExecuteTime": {
     "end_time": "2024-05-31T14:13:17.276650Z",
     "start_time": "2024-05-31T14:13:17.258652Z"
    }
   },
   "cell_type": "code",
   "source": [
    "# finding the max\n",
    "torch.max(x), x.max()"
   ],
   "id": "e905bbeef5902e9d",
   "execution_count": 194,
   "outputs": []
  },
  {
   "metadata": {
    "ExecuteTime": {
     "end_time": "2024-05-31T14:13:17.356649Z",
     "start_time": "2024-05-31T14:13:17.341649Z"
    }
   },
   "cell_type": "code",
   "source": [
    "# finding the average/mean - works with tensors of float or complex types\n",
    "# torch.mean(x), x.mean() # won't work as torch.mean works for floating or complex types, not int types"
   ],
   "id": "84ad86e8ce0ab544",
   "execution_count": 195,
   "outputs": []
  },
  {
   "metadata": {
    "ExecuteTime": {
     "end_time": "2024-05-31T14:13:17.401649Z",
     "start_time": "2024-05-31T14:13:17.385650Z"
    }
   },
   "cell_type": "code",
   "source": "torch.mean(x.type(torch.float32)), x.type(torch.float32).mean() #turning x to float dtype to make it compatible for mean()",
   "id": "db4aeaf4b9abecc6",
   "execution_count": 196,
   "outputs": []
  },
  {
   "metadata": {
    "ExecuteTime": {
     "end_time": "2024-05-31T14:13:17.480649Z",
     "start_time": "2024-05-31T14:13:17.470650Z"
    }
   },
   "cell_type": "code",
   "source": [
    "# finding the sum\n",
    "torch.sum(x), x.sum()"
   ],
   "id": "c02eb824ef8a2ff8",
   "execution_count": 197,
   "outputs": []
  },
  {
   "metadata": {},
   "cell_type": "markdown",
   "source": "##### Finding the positional min & max: `argmin()` & `argmax()`",
   "id": "e7c04894a852c730"
  },
  {
   "metadata": {
    "ExecuteTime": {
     "end_time": "2024-05-31T14:13:17.527649Z",
     "start_time": "2024-05-31T14:13:17.512654Z"
    }
   },
   "cell_type": "code",
   "source": "x",
   "id": "ced116c2eddc9ff3",
   "execution_count": 198,
   "outputs": []
  },
  {
   "metadata": {
    "ExecuteTime": {
     "end_time": "2024-05-31T14:13:17.607649Z",
     "start_time": "2024-05-31T14:13:17.592650Z"
    }
   },
   "cell_type": "code",
   "source": [
    "# find the index position of an element with the minimum value in a tensor\n",
    "x.argmin(), x[0]"
   ],
   "id": "d43de1f2fccc3751",
   "execution_count": 199,
   "outputs": []
  },
  {
   "metadata": {
    "ExecuteTime": {
     "end_time": "2024-05-31T14:13:17.655649Z",
     "start_time": "2024-05-31T14:13:17.637651Z"
    }
   },
   "cell_type": "code",
   "source": [
    "x = torch.arange(1, 100, 10)\n",
    "x, x.argmin()"
   ],
   "id": "80b9e73a0513886c",
   "execution_count": 200,
   "outputs": []
  },
  {
   "metadata": {
    "ExecuteTime": {
     "end_time": "2024-05-31T14:13:17.719650Z",
     "start_time": "2024-05-31T14:13:17.705650Z"
    }
   },
   "cell_type": "code",
   "source": [
    "# find the index position of the tensor element with the highest value with argmax()\n",
    "x.argmax(), x[9]"
   ],
   "id": "e630f59de1808807",
   "execution_count": 201,
   "outputs": []
  },
  {
   "metadata": {},
   "cell_type": "markdown",
   "source": [
    "### Reshaping, stacking, squeezing and un-squeezing\n",
    "*  **Reshaping** - Resizes an input tensor to a defined shape\n",
    "* **View** - Return a view of an input tensor of a certain shape but the same memory of the original tensor\n",
    "* **Stacking** - Combine multiple tensors on top of each other (vertical-stack or v-stack or side-by-side (h-stack)\n",
    "* **Squeezing** - removes all `1` dimensions from a tensor\n",
    "* **Un-squeeze** - add a `1` dimension to a target tensor\n",
    "* **Permute** - Return a view of an input with dimensions permuted (swapped) in a certain way"
   ],
   "id": "12b3b5888715c700"
  },
  {
   "metadata": {
    "ExecuteTime": {
     "end_time": "2024-05-31T14:13:17.766649Z",
     "start_time": "2024-05-31T14:13:17.752649Z"
    }
   },
   "cell_type": "code",
   "source": [
    "x = torch.arange(1., 10.)\n",
    "x, x.shape"
   ],
   "id": "d4e5ba5ea5ba76de",
   "execution_count": 202,
   "outputs": []
  },
  {
   "metadata": {
    "ExecuteTime": {
     "end_time": "2024-05-31T14:13:17.861649Z",
     "start_time": "2024-05-31T14:13:17.843650Z"
    }
   },
   "cell_type": "code",
   "source": [
    "# add an extra dimension\n",
    "xReshaped = x.reshape(1, 9)\n",
    "xReshaped, xReshaped.shape"
   ],
   "id": "a59e03d9c6c717aa",
   "execution_count": 203,
   "outputs": []
  },
  {
   "metadata": {
    "ExecuteTime": {
     "end_time": "2024-05-31T14:13:17.893649Z",
     "start_time": "2024-05-31T14:13:17.883653Z"
    }
   },
   "cell_type": "code",
   "source": [
    "xReshaped = x.reshape(9, 1)\n",
    "xReshaped, xReshaped.shape"
   ],
   "id": "2253ca699524a2e8",
   "execution_count": 204,
   "outputs": []
  },
  {
   "metadata": {
    "ExecuteTime": {
     "end_time": "2024-05-31T14:13:17.972653Z",
     "start_time": "2024-05-31T14:13:17.953651Z"
    }
   },
   "cell_type": "code",
   "source": [
    "x = torch.arange(1., 11.)\n",
    "x, x.shape, x.reshape(5, 2)"
   ],
   "id": "d48a82c83bcf5577",
   "execution_count": 205,
   "outputs": []
  },
  {
   "metadata": {
    "ExecuteTime": {
     "end_time": "2024-05-31T14:13:18.004650Z",
     "start_time": "2024-05-31T14:13:17.996652Z"
    }
   },
   "cell_type": "code",
   "source": "x = torch.arange(1., 10.)",
   "id": "1088e3356bd620a9",
   "execution_count": 206,
   "outputs": []
  },
  {
   "metadata": {
    "ExecuteTime": {
     "end_time": "2024-05-31T14:13:18.099648Z",
     "start_time": "2024-05-31T14:13:18.084649Z"
    }
   },
   "cell_type": "code",
   "source": [
    "# change the view\n",
    "z = x.view(1, 9)\n",
    "z, z.shape"
   ],
   "id": "d349ebad53787100",
   "execution_count": 207,
   "outputs": []
  },
  {
   "metadata": {
    "ExecuteTime": {
     "end_time": "2024-05-31T14:13:18.163651Z",
     "start_time": "2024-05-31T14:13:18.153649Z"
    }
   },
   "cell_type": "code",
   "source": [
    "# changing z, will change x, as the view of a tensor shares the same memory as the original input\n",
    "z[:, 0] = 5\n",
    "z, x"
   ],
   "id": "9a05c643d2352131",
   "execution_count": 208,
   "outputs": []
  },
  {
   "metadata": {
    "ExecuteTime": {
     "end_time": "2024-05-31T14:13:18.194650Z",
     "start_time": "2024-05-31T14:13:18.184649Z"
    }
   },
   "cell_type": "code",
   "source": [
    "# Stack tensors on top of each other\n",
    "xStacked = torch.stack([x, x, x, x], dim=0)\n",
    "xStacked, xStacked.shape"
   ],
   "id": "d485f9b2b8ecd20f",
   "execution_count": 209,
   "outputs": []
  },
  {
   "metadata": {
    "ExecuteTime": {
     "end_time": "2024-05-31T14:13:18.258648Z",
     "start_time": "2024-05-31T14:13:18.251648Z"
    }
   },
   "cell_type": "code",
   "source": [
    "xStacked = torch.stack([x, x, x, x], dim=1)\n",
    "xStacked, xStacked.shape"
   ],
   "id": "1ae541f202fb27c2",
   "execution_count": 210,
   "outputs": []
  },
  {
   "metadata": {
    "ExecuteTime": {
     "end_time": "2024-05-31T14:13:18.320650Z",
     "start_time": "2024-05-31T14:13:18.305651Z"
    }
   },
   "cell_type": "code",
   "source": [
    " # torch.squeeze() -> removes all '1' dimensions from a tensor\n",
    "print(f\"Previous tensor: {xReshaped}\")\n",
    "print(f\"Previous tensor shape: {xReshaped.shape}\")"
   ],
   "id": "92b5c8f1345e7af7",
   "execution_count": 211,
   "outputs": []
  },
  {
   "metadata": {
    "ExecuteTime": {
     "end_time": "2024-05-31T14:13:18.398649Z",
     "start_time": "2024-05-31T14:13:18.383650Z"
    }
   },
   "cell_type": "code",
   "source": [
    "# remove extra dimensions for xReshaped\n",
    "xSqueezed = xReshaped.squeeze()\n",
    "print(f\"\\nNew tensor: {xSqueezed}\")\n",
    "print(f\"New shape: {xSqueezed.shape}\")"
   ],
   "id": "c2c2ff2973cadd5f",
   "execution_count": 212,
   "outputs": []
  },
  {
   "metadata": {
    "ExecuteTime": {
     "end_time": "2024-05-31T14:13:18.429652Z",
     "start_time": "2024-05-31T14:13:18.415654Z"
    }
   },
   "cell_type": "code",
   "source": [
    "# torch.unsqueeze -> adds a single dimension to a target tensor at a specific dimension\n",
    "print(f\"Previous tensor: {xSqueezed}\")\n",
    "print(f\"Previous shape: {xSqueezed.shape}\")\n",
    "\n",
    "# Add an extra dimension with unsqueeze\n",
    "xUnSqueezed = xSqueezed.unsqueeze(dim=1)\n",
    "\n",
    "print(f\"\\nNew tensor: {xUnSqueezed}\")\n",
    "print(f\"New shape: {xUnSqueezed.shape}\")"
   ],
   "id": "d2d98d67fb4601ec",
   "execution_count": 213,
   "outputs": []
  },
  {
   "metadata": {
    "ExecuteTime": {
     "end_time": "2024-05-31T14:13:18.493651Z",
     "start_time": "2024-05-31T14:13:18.489651Z"
    }
   },
   "cell_type": "code",
   "source": [
    "xUnSqueezed = xSqueezed.unsqueeze(dim=0)\n",
    "\n",
    "print(f\"\\nNew tensor: {xUnSqueezed}\")\n",
    "print(f\"New shape: {xUnSqueezed.shape}\")"
   ],
   "id": "d6096ed46b79f191",
   "execution_count": 214,
   "outputs": []
  },
  {
   "metadata": {
    "ExecuteTime": {
     "end_time": "2024-05-31T14:13:18.541651Z",
     "start_time": "2024-05-31T14:13:18.530648Z"
    }
   },
   "cell_type": "code",
   "source": [
    "# torch.permute -> rearranges the dimensions of a target tensor in a specified order\n",
    "# premute() returns a view, hence the permuted tensor and original tensor shared the same memory \n",
    "xOriginal = torch.rand(size=(224,224,3)) # [height, width, color_channels] of an image tensor\n",
    "\n",
    "# permute the original tensor to rearrange the axis (or dim) order \n",
    "xPermuted = xOriginal.permute(2, 0, 1) # shifts axis 0->1, 1->2 & 2->0\n",
    "\n",
    "print(f\"Previous shape: {xOriginal.shape}\")\n",
    "print(f\"New shape: {xPermuted.shape}\") # [color_channels, height, width]"
   ],
   "id": "6c2594255545018e",
   "execution_count": 215,
   "outputs": []
  },
  {
   "metadata": {
    "ExecuteTime": {
     "end_time": "2024-05-31T14:13:18.621650Z",
     "start_time": "2024-05-31T14:13:18.614651Z"
    }
   },
   "cell_type": "code",
   "source": "xOriginal[0][0][0] = 573474",
   "id": "f5c0cae5ade0627",
   "execution_count": 216,
   "outputs": []
  },
  {
   "metadata": {
    "ExecuteTime": {
     "end_time": "2024-05-31T14:13:18.684654Z",
     "start_time": "2024-05-31T14:13:18.666650Z"
    }
   },
   "cell_type": "code",
   "source": "xOriginal[0][0][0], xPermuted[0][0][0]",
   "id": "86664b9830799b51",
   "execution_count": 217,
   "outputs": []
  },
  {
   "metadata": {},
   "cell_type": "markdown",
   "source": [
    "### Indexing (selecting data from tensors) \n",
    "Indexing with pytorch is similar to indexing with numpy"
   ],
   "id": "78027686253f95c8"
  },
  {
   "metadata": {
    "ExecuteTime": {
     "end_time": "2024-05-31T14:13:18.732652Z",
     "start_time": "2024-05-31T14:13:18.728651Z"
    }
   },
   "cell_type": "code",
   "source": [
    "x = torch.arange(1, 10).reshape(1, 3, 3)\n",
    "x, x.shape"
   ],
   "id": "6df63427715401ef",
   "execution_count": 218,
   "outputs": []
  },
  {
   "metadata": {
    "ExecuteTime": {
     "end_time": "2024-05-31T14:13:18.778650Z",
     "start_time": "2024-05-31T14:13:18.768651Z"
    }
   },
   "cell_type": "code",
   "source": "x[0]",
   "id": "45cf7823fe12426c",
   "execution_count": 219,
   "outputs": []
  },
  {
   "metadata": {
    "ExecuteTime": {
     "end_time": "2024-05-31T14:13:18.841652Z",
     "start_time": "2024-05-31T14:13:18.831653Z"
    }
   },
   "cell_type": "code",
   "source": "x[0][0], x[0, 0]",
   "id": "ae2fb6293eec521e",
   "execution_count": 220,
   "outputs": []
  },
  {
   "metadata": {
    "ExecuteTime": {
     "end_time": "2024-05-31T14:13:18.904650Z",
     "start_time": "2024-05-31T14:13:18.887651Z"
    }
   },
   "cell_type": "code",
   "source": "x[0][0][0], x[0, 2, 1]",
   "id": "24b5c0f1c0c433d2",
   "execution_count": 221,
   "outputs": []
  },
  {
   "metadata": {
    "ExecuteTime": {
     "end_time": "2024-05-31T14:13:18.966650Z",
     "start_time": "2024-05-31T14:13:18.948652Z"
    }
   },
   "cell_type": "code",
   "source": [
    "# \":\" can be used to select \"all\" from a dimension\n",
    "x[:, 0]"
   ],
   "id": "68602112b8738158",
   "execution_count": 222,
   "outputs": []
  },
  {
   "metadata": {
    "ExecuteTime": {
     "end_time": "2024-05-31T14:13:19.012651Z",
     "start_time": "2024-05-31T14:13:18.993651Z"
    }
   },
   "cell_type": "code",
   "source": [
    "# get all values of 0th & 1st dimensions but only index 1 of 2nd dimensions\n",
    "x[:, :, 1]"
   ],
   "id": "d60e2d2f64957a40",
   "execution_count": 223,
   "outputs": []
  },
  {
   "metadata": {
    "ExecuteTime": {
     "end_time": "2024-05-31T14:13:19.060650Z",
     "start_time": "2024-05-31T14:13:19.051652Z"
    }
   },
   "cell_type": "code",
   "source": [
    "# get all values of 0 dimension but only the 1 index value of 1st and 2nd dimension\n",
    "x[:, 1, 1], x[0, 1, 1]"
   ],
   "id": "8fb79df7af416ac6",
   "execution_count": 224,
   "outputs": []
  },
  {
   "metadata": {
    "ExecuteTime": {
     "end_time": "2024-05-31T14:13:19.122649Z",
     "start_time": "2024-05-31T14:13:19.107651Z"
    }
   },
   "cell_type": "code",
   "source": [
    "# get index 0 of 0th and 1st dimension and all values of 2nd dimension\n",
    "x[0, 0, :]"
   ],
   "id": "31d5c49424bc4b20",
   "execution_count": 225,
   "outputs": []
  },
  {
   "metadata": {
    "ExecuteTime": {
     "end_time": "2024-05-31T14:13:19.200649Z",
     "start_time": "2024-05-31T14:13:19.182651Z"
    }
   },
   "cell_type": "code",
   "source": "x[:, 2, 2]",
   "id": "a8b9b3560dd74ec6",
   "execution_count": 226,
   "outputs": []
  },
  {
   "metadata": {
    "ExecuteTime": {
     "end_time": "2024-05-31T14:13:19.230651Z",
     "start_time": "2024-05-31T14:13:19.223651Z"
    }
   },
   "cell_type": "code",
   "source": "x[:, :, 2]",
   "id": "95d83056f57dfbab",
   "execution_count": 227,
   "outputs": []
  },
  {
   "metadata": {},
   "cell_type": "markdown",
   "source": [
    "### PyTorch-tensors & NumPy\n",
    "NumPy is a popular scientific python numerical computing library, enabling python to interact with it\n",
    "* Data in NumPy array, want in pytorch tensor -> `torch.from_numpy(ndarray)`\n",
    "* pytorch tensor -> NumPy -> `torch.tensor.numpy()`"
   ],
   "id": "1aa4e05b80be9789"
  },
  {
   "metadata": {
    "ExecuteTime": {
     "end_time": "2024-05-31T14:13:19.308650Z",
     "start_time": "2024-05-31T14:13:19.296651Z"
    }
   },
   "cell_type": "code",
   "source": [
    "# numPy array to tensor\n",
    "array = np.arange(1.0, 8.0)\n",
    "tensor = torch.from_numpy(array)\n",
    "array, tensor"
   ],
   "id": "b14b24548401b08f",
   "execution_count": 228,
   "outputs": []
  },
  {
   "metadata": {
    "ExecuteTime": {
     "end_time": "2024-05-31T14:13:19.356652Z",
     "start_time": "2024-05-31T14:13:19.348650Z"
    }
   },
   "cell_type": "code",
   "source": "array.dtype # default datatype for array",
   "id": "7d1e9a4400213ade",
   "execution_count": 229,
   "outputs": []
  },
  {
   "metadata": {
    "ExecuteTime": {
     "end_time": "2024-05-31T14:13:19.434651Z",
     "start_time": "2024-05-31T14:13:19.419651Z"
    }
   },
   "cell_type": "code",
   "source": "torch.arange(1.0, 8.0).dtype #default dtype for tensors",
   "id": "86ad3b969784cfb9",
   "execution_count": 230,
   "outputs": []
  },
  {
   "metadata": {
    "ExecuteTime": {
     "end_time": "2024-05-31T14:13:19.466648Z",
     "start_time": "2024-05-31T14:13:19.450651Z"
    }
   },
   "cell_type": "code",
   "source": [
    "tensor = tensor.type(torch.float32) # when converting from numpy to torch, tensor keeps the dtype of the array, so it may need to be converted, but we'll revert it back for tutorial purposes\n",
    "tensor.dtype"
   ],
   "id": "71272d82a4d854ce",
   "execution_count": 231,
   "outputs": []
  },
  {
   "metadata": {
    "ExecuteTime": {
     "end_time": "2024-05-31T14:13:19.497651Z",
     "start_time": "2024-05-31T14:13:19.479651Z"
    }
   },
   "cell_type": "code",
   "source": [
    "tensor = tensor.type(torch.float64)\n",
    "tensor.dtype"
   ],
   "id": "d637f45a85a41a69",
   "execution_count": 232,
   "outputs": []
  },
  {
   "metadata": {
    "ExecuteTime": {
     "end_time": "2024-05-31T14:13:19.575650Z",
     "start_time": "2024-05-31T14:13:19.563651Z"
    }
   },
   "cell_type": "code",
   "source": [
    "# change the value of an array, will the `tensor` change\n",
    "array = array + 1\n",
    "array, tensor # so the tensor won't reflect changes to the array "
   ],
   "id": "f6cb153fb3953532",
   "execution_count": 233,
   "outputs": []
  },
  {
   "metadata": {
    "ExecuteTime": {
     "end_time": "2024-05-31T14:13:19.669648Z",
     "start_time": "2024-05-31T14:13:19.655651Z"
    }
   },
   "cell_type": "code",
   "source": [
    "# tensor to numpy array\n",
    "tensor = torch.ones(7)\n",
    "numpyTensor = tensor.numpy() # will have the same default dtype as the tensor\n",
    "tensor, numpyTensor"
   ],
   "id": "1f24f13779ec066f",
   "execution_count": 234,
   "outputs": []
  },
  {
   "metadata": {
    "ExecuteTime": {
     "end_time": "2024-05-31T14:13:19.715651Z",
     "start_time": "2024-05-31T14:13:19.686650Z"
    }
   },
   "cell_type": "code",
   "source": "numpyTensor.dtype",
   "id": "d53211ace42e7c9c",
   "execution_count": 235,
   "outputs": []
  },
  {
   "metadata": {
    "ExecuteTime": {
     "end_time": "2024-05-31T14:13:19.778649Z",
     "start_time": "2024-05-31T14:13:19.765650Z"
    }
   },
   "cell_type": "code",
   "source": [
    "# change the tensor, will the `numpyTensor` be affected\n",
    "tensor = tensor + 1\n",
    "tensor, numpyTensor"
   ],
   "id": "e279a7ec93852e68",
   "execution_count": 236,
   "outputs": []
  },
  {
   "metadata": {},
   "cell_type": "markdown",
   "source": [
    "#### Reproducibility (trying to take the random out of random)\n",
    "A NN learns in the following way:\n",
    "`start with random numbers -> tensor operations -> update random numbers to try and make them better representations of the data -> again -> again -> .....`\n",
    "\n",
    " To reduce randomness in NNs and pytorch, **random seeds** are used\n",
    " random seed \"flavour\" the randomness\n",
    " \n",
    "https://pytorch.org/docs/stable/notes/randomness.html"
   ],
   "id": "1b5a0da06d6d6cd7"
  },
  {
   "metadata": {
    "ExecuteTime": {
     "end_time": "2024-05-31T14:13:19.826653Z",
     "start_time": "2024-05-31T14:13:19.815654Z"
    }
   },
   "cell_type": "code",
   "source": "torch.rand(3, 3)",
   "id": "c0f76d2186f90cfa",
   "execution_count": 237,
   "outputs": []
  },
  {
   "metadata": {
    "ExecuteTime": {
     "end_time": "2024-05-31T14:13:19.922650Z",
     "start_time": "2024-05-31T14:13:19.906651Z"
    }
   },
   "cell_type": "code",
   "source": [
    "randomTensorA = torch.rand(3, 4)\n",
    "randomTensorB = torch.rand(3, 4)\n",
    "print(randomTensorA)\n",
    "print(randomTensorB)\n",
    "print(randomTensorA == randomTensorB)"
   ],
   "id": "bc9e068fb6ec1c30",
   "execution_count": 238,
   "outputs": []
  },
  {
   "metadata": {
    "ExecuteTime": {
     "end_time": "2024-05-31T14:13:19.953651Z",
     "start_time": "2024-05-31T14:13:19.939653Z"
    }
   },
   "cell_type": "code",
   "source": [
    "# random but reproducible tensors\n",
    "RANDOM_SEED = 7567"
   ],
   "id": "6fe758e8a00e3e8f",
   "execution_count": 239,
   "outputs": []
  },
  {
   "metadata": {
    "ExecuteTime": {
     "end_time": "2024-05-31T14:13:20.017650Z",
     "start_time": "2024-05-31T14:13:20.004652Z"
    }
   },
   "cell_type": "code",
   "source": [
    "torch.manual_seed(RANDOM_SEED)\n",
    "\n",
    "randomTensorC = torch.rand(3, 4)\n",
    "randomTensorD = torch.rand(3, 4)\n",
    "\n",
    "print(randomTensorC)\n",
    "print(randomTensorD)\n",
    "print(randomTensorC == randomTensorD) # random seed works for 1 rand call, if we want the same \"flavour\" of randomness, then we have to set the manual seed each time before calling rand()"
   ],
   "id": "d546cf03532d5477",
   "execution_count": 240,
   "outputs": []
  },
  {
   "metadata": {
    "ExecuteTime": {
     "end_time": "2024-05-31T14:13:20.065652Z",
     "start_time": "2024-05-31T14:13:20.052649Z"
    }
   },
   "cell_type": "code",
   "source": [
    "torch.manual_seed(RANDOM_SEED)\n",
    "randomTensorC = torch.rand(3, 4)\n",
    "\n",
    "torch.manual_seed(RANDOM_SEED)\n",
    "randomTensorD = torch.rand(3, 4)\n",
    "\n",
    "print(randomTensorC)\n",
    "print(randomTensorD)\n",
    "print(randomTensorC == randomTensorD) # the 2 random tensors will have the same contents due to the manual seed"
   ],
   "id": "63aa5d0af76dd3c6",
   "execution_count": 241,
   "outputs": []
  },
  {
   "metadata": {},
   "cell_type": "markdown",
   "source": [
    "### Running tensors & pytorch objects on GPUs/XPUs (Making faster computations)\n",
    "Intel can leverage XPUs instead of nvidia's CUDA"
   ],
   "id": "14d847cbeb2c12a"
  },
  {
   "metadata": {
    "ExecuteTime": {
     "end_time": "2024-05-31T14:13:20.128649Z",
     "start_time": "2024-05-31T14:13:20.112651Z"
    }
   },
   "cell_type": "code",
   "source": [
    "import intel_extension_for_pytorch as ipex\n",
    "ipex.__version__, ipex.is_loaded, ipex.has_xpu(), torch.xpu.is_available(), torch.xpu.is_initialized()"
   ],
   "id": "60add56084c3c4a5",
   "execution_count": 242,
   "outputs": []
  },
  {
   "metadata": {
    "ExecuteTime": {
     "end_time": "2024-05-31T14:13:20.160649Z",
     "start_time": "2024-05-31T14:13:20.148650Z"
    }
   },
   "cell_type": "code",
   "source": [
    "# Setup device agnostic code\n",
    "device = \"xpu\" if torch.xpu.is_available() else \"cpu\"\n",
    "device"
   ],
   "id": "3d1b0463892116ec",
   "execution_count": 243,
   "outputs": []
  },
  {
   "metadata": {
    "ExecuteTime": {
     "end_time": "2024-05-31T14:13:20.255650Z",
     "start_time": "2024-05-31T14:13:20.240651Z"
    }
   },
   "cell_type": "code",
   "source": "torch.xpu.device_count()",
   "id": "f6a94c73d05caa8d",
   "execution_count": 244,
   "outputs": []
  },
  {
   "metadata": {},
   "cell_type": "markdown",
   "source": [
    "### Putting tensors (and models) on the GPU/XPU\n",
    "GPUs can compute numeric calculations faster such as discovering patterns"
   ],
   "id": "182dbc3c6fd01641"
  },
  {
   "metadata": {
    "ExecuteTime": {
     "end_time": "2024-05-31T14:15:55.441060Z",
     "start_time": "2024-05-31T14:15:55.430605Z"
    }
   },
   "cell_type": "code",
   "source": [
    "# tensor creation -> defaults to place it on CPU\n",
    "tensor = torch.tensor([1, 2, 3])\n",
    "tensor, tensor.device"
   ],
   "id": "1d3bc8fccdb2657b",
   "execution_count": 246,
   "outputs": []
  },
  {
   "metadata": {
    "ExecuteTime": {
     "end_time": "2024-05-31T14:19:52.242251Z",
     "start_time": "2024-05-31T14:19:52.224251Z"
    }
   },
   "cell_type": "code",
   "source": [
    "# move tensor to gpu/xpu if available\n",
    "tensorOnXpu = tensor.to(device)\n",
    "tensorOnXpu"
   ],
   "id": "3a9a82ef94f47bc2",
   "execution_count": 249,
   "outputs": []
  },
  {
   "metadata": {
    "ExecuteTime": {
     "end_time": "2024-05-31T14:21:31.075973Z",
     "start_time": "2024-05-31T14:21:31.063973Z"
    }
   },
   "cell_type": "code",
   "source": [
    "# Numpy only works with cpus, so to move tensors back -> cpu\n",
    "# tensorOnXpu.numpy() # won't work unless we move it to cpu"
   ],
   "id": "d7678dbb71b32312",
   "execution_count": 252,
   "outputs": []
  },
  {
   "metadata": {
    "ExecuteTime": {
     "end_time": "2024-05-31T14:23:06.082934Z",
     "start_time": "2024-05-31T14:23:06.064892Z"
    }
   },
   "cell_type": "code",
   "source": [
    "# To fix above issue (device mismatch)\n",
    "tensorOnCpu = tensorOnXpu.cpu().numpy()\n",
    "tensorOnCpu"
   ],
   "id": "98e6f206a92574d5",
   "execution_count": 254,
   "outputs": []
  },
  {
   "metadata": {
    "ExecuteTime": {
     "end_time": "2024-05-31T14:23:38.019134Z",
     "start_time": "2024-05-31T14:23:38.004135Z"
    }
   },
   "cell_type": "code",
   "source": "tensorOnXpu # .cpu() sends a copy of the tensor to cpu, the original one is still on xpu",
   "id": "69d59fcf7275ef6",
   "execution_count": 256,
   "outputs": []
  }
 ],
 "metadata": {
  "kernelspec": {
   "display_name": "Python 3",
   "language": "python",
   "name": "python3"
  },
  "language_info": {
   "codemirror_mode": {
    "name": "ipython",
    "version": 2
   },
   "file_extension": ".py",
   "mimetype": "text/x-python",
   "name": "python",
   "nbconvert_exporter": "python",
   "pygments_lexer": "ipython2",
   "version": "2.7.6"
  }
 },
 "nbformat": 4,
 "nbformat_minor": 5
}

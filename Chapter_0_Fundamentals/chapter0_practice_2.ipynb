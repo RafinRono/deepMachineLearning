{
 "cells": [
  {
   "cell_type": "code",
   "id": "initial_id",
   "metadata": {
    "collapsed": true,
    "ExecuteTime": {
     "end_time": "2024-05-31T11:19:56.124431Z",
     "start_time": "2024-05-31T11:19:28.060205Z"
    }
   },
   "source": [
    "import torch\n",
    "import intel_extension_for_pytorch as ipex"
   ],
   "execution_count": 1,
   "outputs": []
  },
  {
   "metadata": {
    "ExecuteTime": {
     "end_time": "2024-05-31T11:19:57.109582Z",
     "start_time": "2024-05-31T11:19:56.125432Z"
    }
   },
   "cell_type": "code",
   "source": [
    "randomTensor = torch.randn([2, 3, 5])\n",
    "randomTensor, randomTensor.dtype"
   ],
   "id": "b979b781772a0156",
   "execution_count": 2,
   "outputs": []
  },
  {
   "metadata": {
    "ExecuteTime": {
     "end_time": "2024-05-31T11:19:57.204642Z",
     "start_time": "2024-05-31T11:19:57.110583Z"
    }
   },
   "cell_type": "code",
   "source": [
    "randomTensor1 = torch.randn([2, 3, 5], dtype=torch.float16)\n",
    "randomTensor1, randomTensor1.dtype"
   ],
   "id": "7e793008d590f0bb",
   "execution_count": 3,
   "outputs": []
  },
  {
   "metadata": {
    "ExecuteTime": {
     "end_time": "2024-05-31T11:19:57.219642Z",
     "start_time": "2024-05-31T11:19:57.206643Z"
    }
   },
   "cell_type": "code",
   "source": "randomTensor1.size(), randomTensor1.dtype, randomTensor1.device",
   "id": "2f627153ccd8b963",
   "execution_count": 4,
   "outputs": []
  },
  {
   "metadata": {
    "ExecuteTime": {
     "end_time": "2024-05-31T11:19:57.347645Z",
     "start_time": "2024-05-31T11:19:57.220643Z"
    }
   },
   "cell_type": "code",
   "source": [
    "randomTensor1 = randomTensor1.to(\"xpu\")\n",
    "randomTensor1.device"
   ],
   "id": "89448984d7077199",
   "execution_count": 5,
   "outputs": []
  },
  {
   "metadata": {
    "ExecuteTime": {
     "end_time": "2024-05-31T11:19:57.395642Z",
     "start_time": "2024-05-31T11:19:57.349648Z"
    }
   },
   "cell_type": "code",
   "source": [
    "randomTensor2 = torch.randn([2, 6], dtype=torch.float64)\n",
    "randomTensor2"
   ],
   "id": "549091c8a8fa8ce1",
   "execution_count": 6,
   "outputs": []
  },
  {
   "metadata": {
    "ExecuteTime": {
     "end_time": "2024-05-31T11:19:57.411642Z",
     "start_time": "2024-05-31T11:19:57.396644Z"
    }
   },
   "cell_type": "code",
   "source": [
    "randomTensor3 = randomTensor2.to(torch.int64)\n",
    "randomTensor2.dtype, randomTensor3.dtype"
   ],
   "id": "6efc56a321af8bf",
   "execution_count": 7,
   "outputs": []
  },
  {
   "metadata": {
    "ExecuteTime": {
     "end_time": "2024-05-31T11:19:57.426642Z",
     "start_time": "2024-05-31T11:19:57.412643Z"
    }
   },
   "cell_type": "code",
   "source": "randomTensor2, randomTensor3",
   "id": "152bc90d07b07480",
   "execution_count": 8,
   "outputs": []
  },
  {
   "metadata": {
    "ExecuteTime": {
     "end_time": "2024-05-31T11:19:57.441642Z",
     "start_time": "2024-05-31T11:19:57.427642Z"
    }
   },
   "cell_type": "code",
   "source": [
    "tensor = torch.randn([2, 3, 5])\n",
    "tensor"
   ],
   "id": "ac49273eda59087f",
   "execution_count": 9,
   "outputs": []
  },
  {
   "metadata": {
    "ExecuteTime": {
     "end_time": "2024-05-31T11:19:57.568642Z",
     "start_time": "2024-05-31T11:19:57.443645Z"
    }
   },
   "cell_type": "code",
   "source": [
    "tensor = torch.rand(92121)\n",
    "tensor"
   ],
   "id": "3c9e458d96e2368d",
   "execution_count": 10,
   "outputs": []
  },
  {
   "metadata": {
    "ExecuteTime": {
     "end_time": "2024-05-31T11:19:57.614641Z",
     "start_time": "2024-05-31T11:19:57.569642Z"
    }
   },
   "cell_type": "code",
   "source": "tensor / 1000 # tensor division",
   "id": "f61a0343bb3f5c85",
   "execution_count": 11,
   "outputs": []
  },
  {
   "metadata": {
    "ExecuteTime": {
     "end_time": "2024-05-31T11:19:57.646641Z",
     "start_time": "2024-05-31T11:19:57.615642Z"
    }
   },
   "cell_type": "code",
   "source": [
    "tensor1 = torch.tensor([5, 6, 10])\n",
    "tensor1"
   ],
   "id": "9f64c8a596aab2f6",
   "execution_count": 12,
   "outputs": []
  },
  {
   "metadata": {
    "ExecuteTime": {
     "end_time": "2024-05-31T11:19:57.693641Z",
     "start_time": "2024-05-31T11:19:57.647643Z"
    }
   },
   "cell_type": "code",
   "source": [
    "tensor1 = torch.subtract(tensor1, 10)\n",
    "tensor1"
   ],
   "id": "f28db776456e863b",
   "execution_count": 13,
   "outputs": []
  },
  {
   "metadata": {
    "ExecuteTime": {
     "end_time": "2024-05-31T11:19:57.725641Z",
     "start_time": "2024-05-31T11:19:57.694643Z"
    }
   },
   "cell_type": "code",
   "source": [
    "tensor1 = torch.add(tensor1, 10)\n",
    "tensor1"
   ],
   "id": "76e23268fad2c0a9",
   "execution_count": 14,
   "outputs": []
  },
  {
   "metadata": {
    "ExecuteTime": {
     "end_time": "2024-05-31T11:19:57.741644Z",
     "start_time": "2024-05-31T11:19:57.726643Z"
    }
   },
   "cell_type": "code",
   "source": [
    "tensor1 = torch.div(tensor1, 10)\n",
    "tensor1"
   ],
   "id": "7128a10439b85d8c",
   "execution_count": 15,
   "outputs": []
  },
  {
   "metadata": {
    "ExecuteTime": {
     "end_time": "2024-05-31T11:19:57.757644Z",
     "start_time": "2024-05-31T11:19:57.742645Z"
    }
   },
   "cell_type": "code",
   "source": [
    "tensor1 = torch.mul(tensor1, 10)\n",
    "tensor1"
   ],
   "id": "6c44da3bc036f083",
   "execution_count": 16,
   "outputs": []
  },
  {
   "metadata": {
    "ExecuteTime": {
     "end_time": "2024-05-31T11:19:58.371642Z",
     "start_time": "2024-05-31T11:19:57.758645Z"
    }
   },
   "cell_type": "code",
   "source": [
    "%%time\n",
    "value = 0\n",
    "for i in range(len(tensor)):\n",
    "    value += tensor[i] * tensor[i]\n",
    "value"
   ],
   "id": "27272747ab1f82cc",
   "execution_count": 17,
   "outputs": []
  },
  {
   "metadata": {
    "ExecuteTime": {
     "end_time": "2024-05-31T11:19:58.496732Z",
     "start_time": "2024-05-31T11:19:58.372643Z"
    }
   },
   "cell_type": "code",
   "source": [
    "%%time\n",
    "torch.matmul(tensor, tensor)"
   ],
   "id": "4e06f3ff6a2d39a8",
   "execution_count": 18,
   "outputs": []
  },
  {
   "metadata": {
    "ExecuteTime": {
     "end_time": "2024-05-31T11:19:58.512732Z",
     "start_time": "2024-05-31T11:19:58.497734Z"
    }
   },
   "cell_type": "code",
   "source": [
    "tensor = torch.rand(62121)\n",
    "tensor, tensor.device"
   ],
   "id": "991c315aa18d360a",
   "execution_count": 19,
   "outputs": []
  },
  {
   "metadata": {
    "ExecuteTime": {
     "end_time": "2024-05-31T11:20:08.415378Z",
     "start_time": "2024-05-31T11:19:58.513733Z"
    }
   },
   "cell_type": "code",
   "source": [
    "%%time\n",
    "tensor = tensor.to(\"cpu\")\n",
    "value = 0\n",
    "for i in range(len(tensor)):\n",
    "    value += tensor[i] * tensor[i]\n",
    "    print(i, value, tensor.device)\n",
    "value"
   ],
   "id": "c7982a11ccf0f8f9",
   "execution_count": 20,
   "outputs": []
  },
  {
   "metadata": {
    "ExecuteTime": {
     "end_time": "2024-05-31T11:22:29.751798Z",
     "start_time": "2024-05-31T11:20:08.416379Z"
    }
   },
   "cell_type": "code",
   "source": [
    "%%time\n",
    "#tensor = torch.rand(62121, device = \"xpu\")\n",
    "tensor = tensor.to(\"xpu\")\n",
    "value = 0\n",
    "for i in range(len(tensor)):\n",
    "    value += tensor[i] * tensor[i]\n",
    "    print(i, value)\n",
    "value"
   ],
   "id": "c88b0dc45cb25d2",
   "execution_count": 21,
   "outputs": []
  },
  {
   "metadata": {
    "ExecuteTime": {
     "end_time": "2024-05-31T11:22:30.239805Z",
     "start_time": "2024-05-31T11:22:29.752800Z"
    }
   },
   "cell_type": "code",
   "source": [
    "%%time\n",
    "torch.matmul(tensor, tensor)"
   ],
   "id": "ce4d808d5bf6168d",
   "execution_count": 22,
   "outputs": []
  },
  {
   "metadata": {
    "ExecuteTime": {
     "end_time": "2024-05-31T11:22:30.255805Z",
     "start_time": "2024-05-31T11:22:30.240809Z"
    }
   },
   "cell_type": "code",
   "source": "tensor @ tensor",
   "id": "f4156260c96b5aeb",
   "execution_count": 23,
   "outputs": []
  }
 ],
 "metadata": {
  "kernelspec": {
   "display_name": "Python 3",
   "language": "python",
   "name": "python3"
  },
  "language_info": {
   "codemirror_mode": {
    "name": "ipython",
    "version": 2
   },
   "file_extension": ".py",
   "mimetype": "text/x-python",
   "name": "python",
   "nbconvert_exporter": "python",
   "pygments_lexer": "ipython2",
   "version": "2.7.6"
  }
 },
 "nbformat": 4,
 "nbformat_minor": 5
}
